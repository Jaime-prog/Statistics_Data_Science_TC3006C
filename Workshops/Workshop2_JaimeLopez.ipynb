{
  "nbformat": 4,
  "nbformat_minor": 0,
  "metadata": {
    "colab": {
      "provenance": []
    },
    "kernelspec": {
      "name": "python3",
      "display_name": "Python 3"
    },
    "language_info": {
      "name": "python"
    }
  },
  "cells": [
    {
      "cell_type": "markdown",
      "source": [
        "# Central Limit Theorem"
      ],
      "metadata": {
        "id": "XQPdFWW28MBf"
      }
    },
    {
      "cell_type": "code",
      "execution_count": null,
      "metadata": {
        "id": "VnvAEiC84N-9"
      },
      "outputs": [],
      "source": [
        "from symbulate import *\n",
        "#'exec(%matplotlib inline)'\n",
        "import matplotlib\n",
        "\n",
        "import matplotlib.pyplot as plt"
      ]
    },
    {
      "cell_type": "code",
      "source": [
        "# clear the plot space:\n",
        "plt.clf()\n",
        "# Define the probability type of function as uniform (probability space)\n",
        "P = Uniform(0,40)\n",
        "# Define X as a random variable of the type P (uniform)\n",
        "X =RV(P)\n",
        "# Simulate the values of X and save the in the x array:\n",
        "x=X.sim(10000)\n",
        "x.plot()\n",
        "plt.show()"
      ],
      "metadata": {
        "colab": {
          "base_uri": "https://localhost:8080/",
          "height": 430
        },
        "id": "Pid4kwb86zY0",
        "outputId": "55751371-bd72-4f30-aac0-b8bcaa7977b7"
      },
      "execution_count": null,
      "outputs": [
        {
          "output_type": "display_data",
          "data": {
            "text/plain": [
              "<Figure size 640x480 with 1 Axes>"
            ],
            "image/png": "[encoded data removed]"
          },
          "metadata": {}
        }
      ]
    },
    {
      "cell_type": "code",
      "source": [
        "# Define the probability space as a vector of 25 uniform random numbers:\n",
        "P = Uniform(0,40) ** 25\n",
        "# Define XVECTOR as a vector of random variables with 25 random values\n",
        "XVECTOR =RV(P)\n",
        "# Simulate 10,000 vectors to get a matrix\n",
        "xmatrix=XVECTOR.sim(10000)"
      ],
      "metadata": {
        "id": "itxiY0Il7uHi"
      },
      "execution_count": null,
      "outputs": []
    },
    {
      "cell_type": "code",
      "source": [
        "xmatrix"
      ],
      "metadata": {
        "colab": {
          "base_uri": "https://localhost:8080/",
          "height": 270
        },
        "id": "8dZANhNC7w7m",
        "outputId": "107ce539-cc05-4d14-c281-575d530f59ab"
      },
      "execution_count": null,
      "outputs": [
        {
          "output_type": "execute_result",
          "data": {
            "text/plain": [
              "Index Result\n",
              "0     (14.631360259052828, 11.271452240903681, 8.223027532320204, 39.792178419469494, 14.388201182420385, ..., 24.20873634446457)\n",
              "1     (9.197989378927932, 28.579392582334297, 36.3620498268745, 23.813199959269134, 31.135324394391482, ..., 18.50032002684687)\n",
              "2     (19.02305357473643, 2.7032251609760882, 35.36599137223094, 3.8159494143535477, 29.967041621051198, ..., 1.6713858871861342)\n",
              "3     (20.955835597476124, 23.68624316605072, 37.006414540782785, 1.5769966203060815, 11.655665870835614, ..., 27.442282289678516)\n",
              "4     (33.889234864201754, 5.9138083546005005, 27.540808913482913, 24.312520517339635, 36.710113676841274, ..., 13.670165236568668)\n",
              "5     (9.447290018190957, 14.367030345192155, 19.13979697472991, 21.67556595872344, 15.674341382542568, ..., 32.602009538223044)\n",
              "6     (5.835695693459844, 11.874444687519738, 20.106064757915373, 28.160953966738568, 9.237782710815722, ..., 16.85145747047162)\n",
              "7     (30.04060650874594, 6.282628784188864, 38.37507510392322, 37.09428045057105, 5.989136306715173, ..., 16.440037519884978)\n",
              "8     (24.01618346759198, 27.62808009812955, 29.028284668631127, 35.40587712029894, 15.572099470432747, ..., 11.755226721223426)\n",
              "....  .........................................................................................................................\n",
              "9999  (36.08392901637109, 38.84456716903129, 7.598554896928098, 33.50597439403282, 3.0258268399612165, ..., 29.184706079936227)"
            ],
            "text/html": [
              "\n",
              "    <table>\n",
              "      <thead>\n",
              "        <th width=\"10%\">Index</th>\n",
              "        <th width=\"90%\">Result</th>\n",
              "      </thead>\n",
              "      <tbody>\n",
              "        \n",
              "        <tr>\n",
              "          <td>0</td><td>(14.631360259052828, 11.271452240903681, 8.223027532320204, 39.792178419469494, 14.388201182420385, ...</td>\n",
              "        </tr>\n",
              "        \n",
              "        <tr>\n",
              "          <td>1</td><td>(9.197989378927932, 28.579392582334297, 36.3620498268745, 23.813199959269134, 31.135324394391482, .....</td>\n",
              "        </tr>\n",
              "        \n",
              "        <tr>\n",
              "          <td>2</td><td>(19.02305357473643, 2.7032251609760882, 35.36599137223094, 3.8159494143535477, 29.967041621051198, ....</td>\n",
              "        </tr>\n",
              "        \n",
              "        <tr>\n",
              "          <td>3</td><td>(20.955835597476124, 23.68624316605072, 37.006414540782785, 1.5769966203060815, 11.655665870835614, ...</td>\n",
              "        </tr>\n",
              "        \n",
              "        <tr>\n",
              "          <td>4</td><td>(33.889234864201754, 5.9138083546005005, 27.540808913482913, 24.312520517339635, 36.710113676841274,...</td>\n",
              "        </tr>\n",
              "        \n",
              "        <tr>\n",
              "          <td>5</td><td>(9.447290018190957, 14.367030345192155, 19.13979697472991, 21.67556595872344, 15.674341382542568, .....</td>\n",
              "        </tr>\n",
              "        \n",
              "        <tr>\n",
              "          <td>6</td><td>(5.835695693459844, 11.874444687519738, 20.106064757915373, 28.160953966738568, 9.237782710815722, ....</td>\n",
              "        </tr>\n",
              "        \n",
              "        <tr>\n",
              "          <td>7</td><td>(30.04060650874594, 6.282628784188864, 38.37507510392322, 37.09428045057105, 5.989136306715173, ...,...</td>\n",
              "        </tr>\n",
              "        \n",
              "        <tr>\n",
              "          <td>8</td><td>(24.01618346759198, 27.62808009812955, 29.028284668631127, 35.40587712029894, 15.572099470432747, .....</td>\n",
              "        </tr>\n",
              "        <tr><td>...</td><td>...</td></tr>\n",
              "        <tr>\n",
              "          <td>9999</td><td>(36.08392901637109, 38.84456716903129, 7.598554896928098, 33.50597439403282, 3.0258268399612165, ......</td>\n",
              "        </tr>\n",
              "        \n",
              "      </tbody>\n",
              "    </table>\n",
              "        "
            ]
          },
          "metadata": {},
          "execution_count": 6
        }
      ]
    },
    {
      "cell_type": "code",
      "source": [
        "# The 2nd parameter is the mathematical operation applied to each row of the random vector\n",
        "# Simulate 10,000 means of each random vector of 25 uniform distributed numbers:\n",
        "xmean = RV(P,mean).sim(10000)\n",
        "xmean"
      ],
      "metadata": {
        "colab": {
          "base_uri": "https://localhost:8080/",
          "height": 270
        },
        "id": "fwFRg9al7xOH",
        "outputId": "9890849f-ad66-46ad-f68c-d8781b2a0164"
      },
      "execution_count": null,
      "outputs": [
        {
          "output_type": "execute_result",
          "data": {
            "text/plain": [
              "Index Result\n",
              "0     20.095742254035784\n",
              "1     19.594683130140602\n",
              "2     19.381585825653776\n",
              "3     22.456896233133566\n",
              "4     24.93469546223103\n",
              "5     21.891903813793125\n",
              "6     22.590253818666866\n",
              "7     18.003045018593717\n",
              "8     18.19253580618437\n",
              "....  ..................\n",
              "9999  18.985738932673083"
            ],
            "text/html": [
              "\n",
              "    <table>\n",
              "      <thead>\n",
              "        <th width=\"10%\">Index</th>\n",
              "        <th width=\"90%\">Result</th>\n",
              "      </thead>\n",
              "      <tbody>\n",
              "        \n",
              "        <tr>\n",
              "          <td>0</td><td>20.095742254035784</td>\n",
              "        </tr>\n",
              "        \n",
              "        <tr>\n",
              "          <td>1</td><td>19.594683130140602</td>\n",
              "        </tr>\n",
              "        \n",
              "        <tr>\n",
              "          <td>2</td><td>19.381585825653776</td>\n",
              "        </tr>\n",
              "        \n",
              "        <tr>\n",
              "          <td>3</td><td>22.456896233133566</td>\n",
              "        </tr>\n",
              "        \n",
              "        <tr>\n",
              "          <td>4</td><td>24.93469546223103</td>\n",
              "        </tr>\n",
              "        \n",
              "        <tr>\n",
              "          <td>5</td><td>21.891903813793125</td>\n",
              "        </tr>\n",
              "        \n",
              "        <tr>\n",
              "          <td>6</td><td>22.590253818666866</td>\n",
              "        </tr>\n",
              "        \n",
              "        <tr>\n",
              "          <td>7</td><td>18.003045018593717</td>\n",
              "        </tr>\n",
              "        \n",
              "        <tr>\n",
              "          <td>8</td><td>18.19253580618437</td>\n",
              "        </tr>\n",
              "        <tr><td>...</td><td>...</td></tr>\n",
              "        <tr>\n",
              "          <td>9999</td><td>18.985738932673083</td>\n",
              "        </tr>\n",
              "        \n",
              "      </tbody>\n",
              "    </table>\n",
              "        "
            ]
          },
          "metadata": {},
          "execution_count": 7
        }
      ]
    },
    {
      "cell_type": "code",
      "source": [
        "plt.clf()\n",
        "xmean.plot()\n",
        "plt.show()"
      ],
      "metadata": {
        "colab": {
          "base_uri": "https://localhost:8080/",
          "height": 430
        },
        "id": "h-ooA5v67xwp",
        "outputId": "4b29325f-94e5-43a9-bf89-5727b2d9567c"
      },
      "execution_count": null,
      "outputs": [
        {
          "output_type": "display_data",
          "data": {
            "text/plain": [
              "<Figure size 640x480 with 1 Axes>"
            ],
            "image/png": "[encoded data removed]"
          },
          "metadata": {}
        }
      ]
    },
    {
      "cell_type": "markdown",
      "source": [
        "Al agrupar valores, (al hacer algunas operaciones (combinaciones lineales))\n",
        "(sumas, promedios, promedio ponderado).\n",
        "Esto se cumple a pesar de la distribución original tras haberle hecho una operación de combinación lineal.\n",
        "\n",
        "- una función de densidad que tenga que ver con la distribución normal.\n",
        "- The variance shrinks, one can estimate the shrinkment. La variabilidad de las medias disminuye. Esta dada por la raiz entre no sé que. Depende del tamaño del grupo de donde se sacan los promedios.\n",
        "-"
      ],
      "metadata": {
        "id": "21FHXzvI_-iv"
      }
    },
    {
      "cell_type": "markdown",
      "source": [
        "**CALCULATE THE MEAN AND STANDARD DEVIATION OF THE xmean VARIABLE. HOW SIMILAR OR DIFFERENT ARE THESE VALUES FROM THE MEAN AND STANDARD DEVIATION OF x?**\n",
        "\n"
      ],
      "metadata": {
        "id": "q4VdtYUZ8bHN"
      }
    },
    {
      "cell_type": "code",
      "source": [
        "print(\"Mean of  xmean: \",xmean.mean())\n",
        "print(\"Standard deviation of xmean: \",xmean.std())\n",
        "\n",
        "print(\"--------------------------\")\n",
        "\n",
        "print(\"Mean of  x: \",x.mean())\n",
        "print(\"Standard deviation of x: \",x.std())"
      ],
      "metadata": {
        "colab": {
          "base_uri": "https://localhost:8080/"
        },
        "id": "sPn3pRvm8gWf",
        "outputId": "62ef28b1-59b5-4526-e736-fbbff83d7084"
      },
      "execution_count": null,
      "outputs": [
        {
          "output_type": "stream",
          "name": "stdout",
          "text": [
            "Mean of  xmean:  19.984203201754944\n",
            "Standard deviation of xmean:  2.3052048871966107\n",
            "--------------------------\n",
            "Mean of  x:  19.883292380855117\n",
            "Standard deviation of x:  11.543546942016832\n"
          ]
        }
      ]
    },
    {
      "cell_type": "markdown",
      "source": [
        "### ***ANSWER***\n",
        "REGARDING THE MEAN OF X (WHICH ARE THE INDIVIDUAL VALUES) AND THE MEAN OF THE XMEAN (WHICH COMPRISES THE MEAN OF THE MEAN OF EACH INSTANCE) THEY'RE SIMILAR ENDING UP IN A VALUE CLOSE TO 20.\n",
        "\n",
        "NONETHELESS, IN THE STANDARD DEVIATION IS WHERE AN APPRECIABLE DEVIATION IS NOTED. THE SINGLE VALUES OF X END UP HAVING A SD OF 11.5 (IN THIS SCENARIO), AND THE XMEAN HAVING A SD OF 2.3 (IN THIS RUN OF VALUES). THE VARIANCE DRASTICALLY SHRINKS WHEN EFFECTUATING AN OPERATION OF LINEAR COMBINATION."
      ],
      "metadata": {
        "id": "EnxDP21RTGfM"
      }
    },
    {
      "cell_type": "markdown",
      "source": [
        "WHAT DO YOU SEE IN THE ABOVE HISTOGRAM? DOES THE HISTOGRAM OF SAMPLE MEANS OF UNIFORM RANDOM VARIABLE LOOK LIKE A UNIFORM DISTRIBUTED VARIABLE? DO YOU SEE A LOGIC? BRIEFLY EXPLAIN WHAT YOU THINK."
      ],
      "metadata": {
        "id": "70j_s2Ra8a3Z"
      }
    },
    {
      "cell_type": "markdown",
      "source": [],
      "metadata": {
        "id": "xMbdAzaj9LLE"
      }
    },
    {
      "cell_type": "code",
      "source": [
        "plt.clf()\n",
        "xmean.plot()\n",
        "x.plot()\n",
        "plt.show()"
      ],
      "metadata": {
        "colab": {
          "base_uri": "https://localhost:8080/",
          "height": 430
        },
        "id": "9RhP8BGA7yku",
        "outputId": "8d3832a2-cfa8-4eee-b8f3-9a3384d73e9a"
      },
      "execution_count": null,
      "outputs": [
        {
          "output_type": "display_data",
          "data": {
            "text/plain": [
              "<Figure size 640x480 with 1 Axes>"
            ],
            "image/png": "[encoded data removed]"
          },
          "metadata": {}
        }
      ]
    },
    {
      "cell_type": "markdown",
      "source": [
        "WHAT DO YOU SEE? HOW THE HISTOGRAM OF X DIFFERS FROM THE HISTOGRAM OF THE SAMPLES OF X?"
      ],
      "metadata": {
        "id": "iccgUi5f9P_3"
      }
    },
    {
      "cell_type": "code",
      "source": [
        "# clear the plot space:\n",
        "plt.clf()\n",
        "# Define the probability type of function as uniform (probability space)\n",
        "P = Normal(mean=20, sd=10)\n",
        "# Define Y as a random variable of the type P (normal)\n",
        "Y =RV(P)\n",
        "# Simulate 10,000 values of Y and save the in the x array:\n",
        "y=Y.sim(10000)\n",
        "y.plot()\n",
        "plt.show()"
      ],
      "metadata": {
        "colab": {
          "base_uri": "https://localhost:8080/",
          "height": 430
        },
        "id": "5i1tMohi9Qbt",
        "outputId": "555858fb-3952-4ae0-b9d7-2572b02ad2ea"
      },
      "execution_count": null,
      "outputs": [
        {
          "output_type": "display_data",
          "data": {
            "text/plain": [
              "<Figure size 640x480 with 1 Axes>"
            ],
            "image/png": "[encoded data removed]"
          },
          "metadata": {}
        }
      ]
    },
    {
      "cell_type": "markdown",
      "source": [
        "A) CALCULATE THE MEAN AND STANDARD DEVIATION OF THIS RANDOM y VARIABLE. HOW SIMILAR OR DIFFERENT ARE THESE VALUES FROM THE MEAN AND STANDARD DEVIATION OF THE THEORETICAL MEAN (20) AND THE THEORETICAL STANDARD DEVIATION (10)?"
      ],
      "metadata": {
        "id": "bOU9FUYU9ZSI"
      }
    },
    {
      "cell_type": "markdown",
      "source": [
        "B) WHAT DO YOU SEE? INTERPRET THE HISTOGRAM WITH YOUR WORDS."
      ],
      "metadata": {
        "id": "0Up-p38d9ZnQ"
      }
    },
    {
      "cell_type": "code",
      "source": [
        "# Define the probability space P as a vector of 25 normal random numbers:\n",
        "P = Normal(mean=20, sd=10) ** 25\n",
        "# Define RANDOMVECTOR as a vector of 25 random variables in the Probability space P\n",
        "RANDOMVECTOR = RV(P)\n",
        "# Simulate 10,000 random vectors with this distribution and save the in ymatrix:\n",
        "ymatrix=RANDOMVECTOR.sim(10000)"
      ],
      "metadata": {
        "id": "eeklrnQw9Qvp"
      },
      "execution_count": null,
      "outputs": []
    },
    {
      "cell_type": "code",
      "source": [
        "ymatrix"
      ],
      "metadata": {
        "colab": {
          "base_uri": "https://localhost:8080/",
          "height": 270
        },
        "id": "Qji4csaS9rNU",
        "outputId": "a4841e21-5179-4af1-e9eb-c0d9c57d209d"
      },
      "execution_count": null,
      "outputs": [
        {
          "output_type": "execute_result",
          "data": {
            "text/plain": [
              "Index Result\n",
              "0     (25.597846615863762, 6.295526589064602, 7.700662800244535, 29.777967356380756, 32.75575372494346, ..., 10.451156815722229)\n",
              "1     (10.043461152433311, 21.55683648348542, 12.355347938063668, 15.142103805249533, 29.491576168039423, ..., -1.7111392022362715)\n",
              "2     (2.1451344200003533, 30.298755451977783, 29.633381828015594, 20.049684507769808, 20.911545857426493, ..., 11.262053624670592)\n",
              "3     (15.637980052271313, 35.7809434310375, 32.13953548517571, 3.5449764312437857, 23.559523406181704, ..., 12.829873854221454)\n",
              "4     (16.372759675590963, 9.442183818650285, 27.48315916820271, 17.301923143281336, 35.72572809829329, ..., 28.185394108679436)\n",
              "5     (15.39813026383096, 25.337294672157743, 15.41863782164652, 17.720171745475565, 21.91062580842637, ..., 16.926068197415375)\n",
              "6     (15.833278915150213, 13.09366300860776, 17.02712136967655, 16.312138190512645, 12.101365374994415, ..., -0.8333716579814592)\n",
              "7     (23.39126971217582, 19.316147313714556, 11.89912709578735, 16.655750112197083, 15.325527067556125, ..., 15.575419776491692)\n",
              "8     (25.71293949307168, 12.624340108099812, 16.36261613755839, 11.000110046628247, 16.88670936737404, ..., 22.346894100904933)\n",
              "....  ............................................................................................................................\n",
              "9999  (15.424453491746645, 15.87440362580639, 24.204767037516575, 20.312038256779385, 28.354399839808387, ..., 5.1823170615931105)"
            ],
            "text/html": [
              "\n",
              "    <table>\n",
              "      <thead>\n",
              "        <th width=\"10%\">Index</th>\n",
              "        <th width=\"90%\">Result</th>\n",
              "      </thead>\n",
              "      <tbody>\n",
              "        \n",
              "        <tr>\n",
              "          <td>0</td><td>(25.597846615863762, 6.295526589064602, 7.700662800244535, 29.777967356380756, 32.75575372494346, .....</td>\n",
              "        </tr>\n",
              "        \n",
              "        <tr>\n",
              "          <td>1</td><td>(10.043461152433311, 21.55683648348542, 12.355347938063668, 15.142103805249533, 29.491576168039423, ...</td>\n",
              "        </tr>\n",
              "        \n",
              "        <tr>\n",
              "          <td>2</td><td>(2.1451344200003533, 30.298755451977783, 29.633381828015594, 20.049684507769808, 20.911545857426493,...</td>\n",
              "        </tr>\n",
              "        \n",
              "        <tr>\n",
              "          <td>3</td><td>(15.637980052271313, 35.7809434310375, 32.13953548517571, 3.5449764312437857, 23.559523406181704, .....</td>\n",
              "        </tr>\n",
              "        \n",
              "        <tr>\n",
              "          <td>4</td><td>(16.372759675590963, 9.442183818650285, 27.48315916820271, 17.301923143281336, 35.72572809829329, .....</td>\n",
              "        </tr>\n",
              "        \n",
              "        <tr>\n",
              "          <td>5</td><td>(15.39813026383096, 25.337294672157743, 15.41863782164652, 17.720171745475565, 21.91062580842637, .....</td>\n",
              "        </tr>\n",
              "        \n",
              "        <tr>\n",
              "          <td>6</td><td>(15.833278915150213, 13.09366300860776, 17.02712136967655, 16.312138190512645, 12.101365374994415, ....</td>\n",
              "        </tr>\n",
              "        \n",
              "        <tr>\n",
              "          <td>7</td><td>(23.39126971217582, 19.316147313714556, 11.89912709578735, 16.655750112197083, 15.325527067556125, ....</td>\n",
              "        </tr>\n",
              "        \n",
              "        <tr>\n",
              "          <td>8</td><td>(25.71293949307168, 12.624340108099812, 16.36261613755839, 11.000110046628247, 16.88670936737404, .....</td>\n",
              "        </tr>\n",
              "        <tr><td>...</td><td>...</td></tr>\n",
              "        <tr>\n",
              "          <td>9999</td><td>(15.424453491746645, 15.87440362580639, 24.204767037516575, 20.312038256779385, 28.354399839808387, ...</td>\n",
              "        </tr>\n",
              "        \n",
              "      </tbody>\n",
              "    </table>\n",
              "        "
            ]
          },
          "metadata": {},
          "execution_count": 14
        }
      ]
    },
    {
      "cell_type": "code",
      "source": [
        "# The 2nd parameter is the mathematical operation applied to each row of the random vector\n",
        "# Simulate 10,000 means of each random vector of 25 uniform distributed numbers:\n",
        "ymean = RV(P,mean).sim(10000)\n",
        "ymean"
      ],
      "metadata": {
        "colab": {
          "base_uri": "https://localhost:8080/",
          "height": 270
        },
        "id": "yOx8mAYy9yC3",
        "outputId": "5d9e1baa-f887-4f9e-c635-cf86e75bdd93"
      },
      "execution_count": null,
      "outputs": [
        {
          "output_type": "execute_result",
          "data": {
            "text/plain": [
              "Index Result\n",
              "0     19.443191997473463\n",
              "1     16.700163736165777\n",
              "2     19.971001280002778\n",
              "3     19.795562533212525\n",
              "4     20.35487845431303\n",
              "5     21.992746835594453\n",
              "6     16.619474778521884\n",
              "7     16.995432263320332\n",
              "8     16.724023186446153\n",
              "....  ..................\n",
              "9999  21.614122276564345"
            ],
            "text/html": [
              "\n",
              "    <table>\n",
              "      <thead>\n",
              "        <th width=\"10%\">Index</th>\n",
              "        <th width=\"90%\">Result</th>\n",
              "      </thead>\n",
              "      <tbody>\n",
              "        \n",
              "        <tr>\n",
              "          <td>0</td><td>19.443191997473463</td>\n",
              "        </tr>\n",
              "        \n",
              "        <tr>\n",
              "          <td>1</td><td>16.700163736165777</td>\n",
              "        </tr>\n",
              "        \n",
              "        <tr>\n",
              "          <td>2</td><td>19.971001280002778</td>\n",
              "        </tr>\n",
              "        \n",
              "        <tr>\n",
              "          <td>3</td><td>19.795562533212525</td>\n",
              "        </tr>\n",
              "        \n",
              "        <tr>\n",
              "          <td>4</td><td>20.35487845431303</td>\n",
              "        </tr>\n",
              "        \n",
              "        <tr>\n",
              "          <td>5</td><td>21.992746835594453</td>\n",
              "        </tr>\n",
              "        \n",
              "        <tr>\n",
              "          <td>6</td><td>16.619474778521884</td>\n",
              "        </tr>\n",
              "        \n",
              "        <tr>\n",
              "          <td>7</td><td>16.995432263320332</td>\n",
              "        </tr>\n",
              "        \n",
              "        <tr>\n",
              "          <td>8</td><td>16.724023186446153</td>\n",
              "        </tr>\n",
              "        <tr><td>...</td><td>...</td></tr>\n",
              "        <tr>\n",
              "          <td>9999</td><td>21.614122276564345</td>\n",
              "        </tr>\n",
              "        \n",
              "      </tbody>\n",
              "    </table>\n",
              "        "
            ]
          },
          "metadata": {},
          "execution_count": 15
        }
      ]
    },
    {
      "cell_type": "code",
      "source": [
        "plt.clf()\n",
        "ymean.plot()\n",
        "plt.show()"
      ],
      "metadata": {
        "colab": {
          "base_uri": "https://localhost:8080/",
          "height": 430
        },
        "id": "m5sh-bW09yVC",
        "outputId": "0165020d-6a5f-41f2-9939-aacc22d2faff"
      },
      "execution_count": null,
      "outputs": [
        {
          "output_type": "display_data",
          "data": {
            "text/plain": [
              "<Figure size 640x480 with 1 Axes>"
            ],
            "image/png": "[encoded data removed]"
          },
          "metadata": {}
        }
      ]
    },
    {
      "cell_type": "markdown",
      "source": [
        "A) CALCULATE THE MEAN AND STANDARD DEVIATION OF THE ymean VARIABLE. HOW SIMILAR OR DIFFERENT ARE THESE VALUES FROM THE MEAN AND STANDARD DEVIATION OF y?\n",
        "\n"
      ],
      "metadata": {
        "id": "VM60kZXz941_"
      }
    },
    {
      "cell_type": "code",
      "source": [
        "print(\"Mean of  ymean: \",ymean.mean())\n",
        "prom_ymean=ymean.mean()\n",
        "print(\"Standard deviation of ymean: \",ymean.std())\n",
        "std_ymean=ymean.std()\n",
        "\n",
        "print(\"---------------\")\n",
        "\n",
        "print(\"Mean of  y: \",y.mean())\n",
        "prom_y=y.mean()\n",
        "print(\"Standard deviation of y: \",y.std())"
      ],
      "metadata": {
        "colab": {
          "base_uri": "https://localhost:8080/"
        },
        "id": "Ob1lkEzSHJW8",
        "outputId": "21387a4d-44c9-4b03-d910-09b98e86e5ee"
      },
      "execution_count": null,
      "outputs": [
        {
          "output_type": "stream",
          "name": "stdout",
          "text": [
            "Mean of  ymean:  19.99564135932115\n",
            "Standard deviation of ymean:  2.0289697712164285\n",
            "---------------\n",
            "Mean of  y:  20.121264960704487\n",
            "Standard deviation of y:  9.993024462068902\n"
          ]
        }
      ]
    },
    {
      "cell_type": "markdown",
      "source": [
        "B) INTERPRET THE ABOVE HISTOGRAM OF THE SAMPLES OF y."
      ],
      "metadata": {
        "id": "Db6B9vWd95Jo"
      }
    },
    {
      "cell_type": "code",
      "source": [
        "plt.clf()\n",
        "ymean.plot()\n",
        "y.plot()\n",
        "plt.show()"
      ],
      "metadata": {
        "colab": {
          "base_uri": "https://localhost:8080/",
          "height": 430
        },
        "id": "86nIycxu9y3W",
        "outputId": "9f5a45fa-65e7-436e-b77d-8e9faf7e1725"
      },
      "execution_count": null,
      "outputs": [
        {
          "output_type": "display_data",
          "data": {
            "text/plain": [
              "<Figure size 640x480 with 1 Axes>"
            ],
            "image/png": "[encoded data removed]"
          },
          "metadata": {}
        }
      ]
    },
    {
      "cell_type": "markdown",
      "source": [
        "C) WHAT DO YOU SEE? COMPARE BOTH HISTOGRAMS. BRIEFLY EXPLAIN WHAT YOU THINK THAT HAPPEND.\n"
      ],
      "metadata": {
        "id": "7WT0XHHC-EN2"
      }
    },
    {
      "cell_type": "markdown",
      "source": [
        "# Hypothesis Testing"
      ],
      "metadata": {
        "id": "zjTV-P-K-NzS"
      }
    },
    {
      "cell_type": "markdown",
      "source": [
        "# 4.1 CHALLENGE\n",
        "### Collect real data for Microsoft (MSFT) stock and do a hypothesis testing to see whether the mean of monthly cc returns of Microsoft is greater than zero.\n",
        "\n",
        "**You have to do the following:**\n",
        "\n",
        "Run a t-test to compare whether the mean return of MSFT is greater than zero.\n",
        "\n",
        "To do a hypothesis test, we usually do the following steps:\n",
        "\n",
        "\n",
        "\n",
        "1.   DEFINE THE VARIABLE OF STUDY. In this case it will be the mean of MSFT cc returns\n",
        "2.   WRITE THE NULL AND THE ALTERNATIVE HYPOTHESIS.\n",
        "3.   CALCULATE THE STANDARD ERROR, WHICH IS THE STANDARD DEVIATION OF THE VARIABLE OF STUDY.\n",
        "4. CALCULATE THE t-statistic (t-value). EXPLAIN/INTERPRET THE t-statistic.\n",
        "5. CALCULATE THE 95% CONFIDENCE INTERVAL OF THE SAMPLE MEAN\n",
        "6. WRITE YOUR CONCLUSION OF THE t-TEST\n",
        "\n",
        "\n",
        "\n",
        "\n",
        "\n",
        "\n",
        "\n",
        "\n",
        "\n",
        "\n"
      ],
      "metadata": {
        "id": "u91X-J3C-P7l"
      }
    },
    {
      "cell_type": "code",
      "source": [
        "import numpy as np\n",
        "import pandas as pd\n",
        "import yfinance as yf"
      ],
      "metadata": {
        "id": "Thls2iBek4iZ"
      },
      "execution_count": null,
      "outputs": []
    },
    {
      "cell_type": "code",
      "source": [
        "MSFT=yf.download(tickers=\"MSFT\", start=\"2021-01-01\",interval=\"1mo\")"
      ],
      "metadata": {
        "colab": {
          "base_uri": "https://localhost:8080/"
        },
        "id": "hbJHxkYWk45I",
        "outputId": "e78a5d17-96b0-45cd-8b15-9579297d54f9"
      },
      "execution_count": null,
      "outputs": [
        {
          "output_type": "stream",
          "name": "stdout",
          "text": [
            "\r[*********************100%%**********************]  1 of 1 completed\n"
          ]
        }
      ]
    },
    {
      "cell_type": "code",
      "source": [
        "MSFT.head()"
      ],
      "metadata": {
        "colab": {
          "base_uri": "https://localhost:8080/",
          "height": 237
        },
        "id": "sQ_14as4k5TF",
        "outputId": "eb1f8b67-56e4-4fe0-bc78-5b6848a4a464"
      },
      "execution_count": null,
      "outputs": [
        {
          "output_type": "execute_result",
          "data": {
            "text/plain": [
              "                  Open        High         Low       Close   Adj Close  \\\n",
              "Date                                                                     \n",
              "2021-01-01  222.529999  242.639999  211.940002  231.960007  226.831146   \n",
              "2021-02-01  235.059998  246.130005  227.880005  232.380005  227.241837   \n",
              "2021-03-01  235.899994  241.050003  224.259995  235.770004  231.087906   \n",
              "2021-04-01  238.470001  263.190002  238.050003  252.179993  247.171997   \n",
              "2021-05-01  253.399994  254.350006  238.070007  249.679993  244.721664   \n",
              "\n",
              "               Volume  \n",
              "Date                   \n",
              "2021-01-01  648076400  \n",
              "2021-02-01  490962200  \n",
              "2021-03-01  724945800  \n",
              "2021-04-01  568661600  \n",
              "2021-05-01  495084900  "
            ],
            "text/html": [
              "\n",
              "\n",
              "  <div id=\"df-7f06d143-9b4c-43f5-910a-11a2cfda48d8\">\n",
              "    <div class=\"colab-df-container\">\n",
              "      <div>\n",
              "<style scoped>\n",
              "    .dataframe tbody tr th:only-of-type {\n",
              "        vertical-align: middle;\n",
              "    }\n",
              "\n",
              "    .dataframe tbody tr th {\n",
              "        vertical-align: top;\n",
              "    }\n",
              "\n",
              "    .dataframe thead th {\n",
              "        text-align: right;\n",
              "    }\n",
              "</style>\n",
              "<table border=\"1\" class=\"dataframe\">\n",
              "  <thead>\n",
              "    <tr style=\"text-align: right;\">\n",
              "      <th></th>\n",
              "      <th>Open</th>\n",
              "      <th>High</th>\n",
              "      <th>Low</th>\n",
              "      <th>Close</th>\n",
              "      <th>Adj Close</th>\n",
              "      <th>Volume</th>\n",
              "    </tr>\n",
              "    <tr>\n",
              "      <th>Date</th>\n",
              "      <th></th>\n",
              "      <th></th>\n",
              "      <th></th>\n",
              "      <th></th>\n",
              "      <th></th>\n",
              "      <th></th>\n",
              "    </tr>\n",
              "  </thead>\n",
              "  <tbody>\n",
              "    <tr>\n",
              "      <th>2021-01-01</th>\n",
              "      <td>222.529999</td>\n",
              "      <td>242.639999</td>\n",
              "      <td>211.940002</td>\n",
              "      <td>231.960007</td>\n",
              "      <td>226.831146</td>\n",
              "      <td>648076400</td>\n",
              "    </tr>\n",
              "    <tr>\n",
              "      <th>2021-02-01</th>\n",
              "      <td>235.059998</td>\n",
              "      <td>246.130005</td>\n",
              "      <td>227.880005</td>\n",
              "      <td>232.380005</td>\n",
              "      <td>227.241837</td>\n",
              "      <td>490962200</td>\n",
              "    </tr>\n",
              "    <tr>\n",
              "      <th>2021-03-01</th>\n",
              "      <td>235.899994</td>\n",
              "      <td>241.050003</td>\n",
              "      <td>224.259995</td>\n",
              "      <td>235.770004</td>\n",
              "      <td>231.087906</td>\n",
              "      <td>724945800</td>\n",
              "    </tr>\n",
              "    <tr>\n",
              "      <th>2021-04-01</th>\n",
              "      <td>238.470001</td>\n",
              "      <td>263.190002</td>\n",
              "      <td>238.050003</td>\n",
              "      <td>252.179993</td>\n",
              "      <td>247.171997</td>\n",
              "      <td>568661600</td>\n",
              "    </tr>\n",
              "    <tr>\n",
              "      <th>2021-05-01</th>\n",
              "      <td>253.399994</td>\n",
              "      <td>254.350006</td>\n",
              "      <td>238.070007</td>\n",
              "      <td>249.679993</td>\n",
              "      <td>244.721664</td>\n",
              "      <td>495084900</td>\n",
              "    </tr>\n",
              "  </tbody>\n",
              "</table>\n",
              "</div>\n",
              "      <button class=\"colab-df-convert\" onclick=\"convertToInteractive('df-7f06d143-9b4c-43f5-910a-11a2cfda48d8')\"\n",
              "              title=\"Convert this dataframe to an interactive table.\"\n",
              "              style=\"display:none;\">\n",
              "\n",
              "  <svg xmlns=\"http://www.w3.org/2000/svg\" height=\"24px\"viewBox=\"0 0 24 24\"\n",
              "       width=\"24px\">\n",
              "    <path d=\"M0 0h24v24H0V0z\" fill=\"none\"/>\n",
              "    <path d=\"M18.56 5.44l.94 2.06.94-2.06 2.06-.94-2.06-.94-.94-2.06-.94 2.06-2.06.94zm-11 1L8.5 8.5l.94-2.06 2.06-.94-2.06-.94L8.5 2.5l-.94 2.06-2.06.94zm10 10l.94 2.06.94-2.06 2.06-.94-2.06-.94-.94-2.06-.94 2.06-2.06.94z\"/><path d=\"M17.41 7.96l-1.37-1.37c-.4-.4-.92-.59-1.43-.59-.52 0-1.04.2-1.43.59L10.3 9.45l-7.72 7.72c-.78.78-.78 2.05 0 2.83L4 21.41c.39.39.9.59 1.41.59.51 0 1.02-.2 1.41-.59l7.78-7.78 2.81-2.81c.8-.78.8-2.07 0-2.86zM5.41 20L4 18.59l7.72-7.72 1.47 1.35L5.41 20z\"/>\n",
              "  </svg>\n",
              "      </button>\n",
              "\n",
              "\n",
              "\n",
              "    <div id=\"df-4dd857ff-2024-470f-b88e-f34c7ac69b3e\">\n",
              "      <button class=\"colab-df-quickchart\" onclick=\"quickchart('df-4dd857ff-2024-470f-b88e-f34c7ac69b3e')\"\n",
              "              title=\"Suggest charts.\"\n",
              "              style=\"display:none;\">\n",
              "\n",
              "<svg xmlns=\"http://www.w3.org/2000/svg\" height=\"24px\"viewBox=\"0 0 24 24\"\n",
              "     width=\"24px\">\n",
              "    <g>\n",
              "        <path d=\"M19 3H5c-1.1 0-2 .9-2 2v14c0 1.1.9 2 2 2h14c1.1 0 2-.9 2-2V5c0-1.1-.9-2-2-2zM9 17H7v-7h2v7zm4 0h-2V7h2v10zm4 0h-2v-4h2v4z\"/>\n",
              "    </g>\n",
              "</svg>\n",
              "      </button>\n",
              "    </div>\n",
              "\n",
              "<style>\n",
              "  .colab-df-quickchart {\n",
              "    background-color: #E8F0FE;\n",
              "    border: none;\n",
              "    border-radius: 50%;\n",
              "    cursor: pointer;\n",
              "    display: none;\n",
              "    fill: #1967D2;\n",
              "    height: 32px;\n",
              "    padding: 0 0 0 0;\n",
              "    width: 32px;\n",
              "  }\n",
              "\n",
              "  .colab-df-quickchart:hover {\n",
              "    background-color: #E2EBFA;\n",
              "    box-shadow: 0px 1px 2px rgba(60, 64, 67, 0.3), 0px 1px 3px 1px rgba(60, 64, 67, 0.15);\n",
              "    fill: #174EA6;\n",
              "  }\n",
              "\n",
              "  [theme=dark] .colab-df-quickchart {\n",
              "    background-color: #3B4455;\n",
              "    fill: #D2E3FC;\n",
              "  }\n",
              "\n",
              "  [theme=dark] .colab-df-quickchart:hover {\n",
              "    background-color: #434B5C;\n",
              "    box-shadow: 0px 1px 3px 1px rgba(0, 0, 0, 0.15);\n",
              "    filter: drop-shadow(0px 1px 2px rgba(0, 0, 0, 0.3));\n",
              "    fill: #FFFFFF;\n",
              "  }\n",
              "</style>\n",
              "\n",
              "    <script>\n",
              "      async function quickchart(key) {\n",
              "        const containerElement = document.querySelector('#' + key);\n",
              "        const charts = await google.colab.kernel.invokeFunction(\n",
              "            'suggestCharts', [key], {});\n",
              "      }\n",
              "    </script>\n",
              "\n",
              "      <script>\n",
              "\n",
              "function displayQuickchartButton(domScope) {\n",
              "  let quickchartButtonEl =\n",
              "    domScope.querySelector('#df-4dd857ff-2024-470f-b88e-f34c7ac69b3e button.colab-df-quickchart');\n",
              "  quickchartButtonEl.style.display =\n",
              "    google.colab.kernel.accessAllowed ? 'block' : 'none';\n",
              "}\n",
              "\n",
              "        displayQuickchartButton(document);\n",
              "      </script>\n",
              "      <style>\n",
              "    .colab-df-container {\n",
              "      display:flex;\n",
              "      flex-wrap:wrap;\n",
              "      gap: 12px;\n",
              "    }\n",
              "\n",
              "    .colab-df-convert {\n",
              "      background-color: #E8F0FE;\n",
              "      border: none;\n",
              "      border-radius: 50%;\n",
              "      cursor: pointer;\n",
              "      display: none;\n",
              "      fill: #1967D2;\n",
              "      height: 32px;\n",
              "      padding: 0 0 0 0;\n",
              "      width: 32px;\n",
              "    }\n",
              "\n",
              "    .colab-df-convert:hover {\n",
              "      background-color: #E2EBFA;\n",
              "      box-shadow: 0px 1px 2px rgba(60, 64, 67, 0.3), 0px 1px 3px 1px rgba(60, 64, 67, 0.15);\n",
              "      fill: #174EA6;\n",
              "    }\n",
              "\n",
              "    [theme=dark] .colab-df-convert {\n",
              "      background-color: #3B4455;\n",
              "      fill: #D2E3FC;\n",
              "    }\n",
              "\n",
              "    [theme=dark] .colab-df-convert:hover {\n",
              "      background-color: #434B5C;\n",
              "      box-shadow: 0px 1px 3px 1px rgba(0, 0, 0, 0.15);\n",
              "      filter: drop-shadow(0px 1px 2px rgba(0, 0, 0, 0.3));\n",
              "      fill: #FFFFFF;\n",
              "    }\n",
              "  </style>\n",
              "\n",
              "      <script>\n",
              "        const buttonEl =\n",
              "          document.querySelector('#df-7f06d143-9b4c-43f5-910a-11a2cfda48d8 button.colab-df-convert');\n",
              "        buttonEl.style.display =\n",
              "          google.colab.kernel.accessAllowed ? 'block' : 'none';\n",
              "\n",
              "        async function convertToInteractive(key) {\n",
              "          const element = document.querySelector('#df-7f06d143-9b4c-43f5-910a-11a2cfda48d8');\n",
              "          const dataTable =\n",
              "            await google.colab.kernel.invokeFunction('convertToInteractive',\n",
              "                                                     [key], {});\n",
              "          if (!dataTable) return;\n",
              "\n",
              "          const docLinkHtml = 'Like what you see? Visit the ' +\n",
              "            '<a target=\"_blank\" href=https://colab.research.google.com/notebooks/data_table.ipynb>data table notebook</a>'\n",
              "            + ' to learn more about interactive tables.';\n",
              "          element.innerHTML = '';\n",
              "          dataTable['output_type'] = 'display_data';\n",
              "          await google.colab.output.renderOutput(dataTable, element);\n",
              "          const docLink = document.createElement('div');\n",
              "          docLink.innerHTML = docLinkHtml;\n",
              "          element.appendChild(docLink);\n",
              "        }\n",
              "      </script>\n",
              "    </div>\n",
              "  </div>\n"
            ]
          },
          "metadata": {},
          "execution_count": 30
        }
      ]
    },
    {
      "cell_type": "code",
      "source": [
        "MSFT[\"R\"] = (MSFT[\"Adj Close\"] / MSFT[\"Adj Close\"].shift(1)) - 1\n",
        "print(MSFT[\"R\"])"
      ],
      "metadata": {
        "colab": {
          "base_uri": "https://localhost:8080/"
        },
        "id": "uBb0zLvVm0If",
        "outputId": "b76a9fe1-f224-4179-8d0d-75b37f182043"
      },
      "execution_count": null,
      "outputs": [
        {
          "output_type": "stream",
          "name": "stdout",
          "text": [
            "Date\n",
            "2021-01-01         NaN\n",
            "2021-02-01    0.001811\n",
            "2021-03-01    0.016925\n",
            "2021-04-01    0.069602\n",
            "2021-05-01   -0.009913\n",
            "2021-06-01    0.087494\n",
            "2021-07-01    0.051717\n",
            "2021-08-01    0.059563\n",
            "2021-09-01   -0.064331\n",
            "2021-10-01    0.176291\n",
            "2021-11-01   -0.003106\n",
            "2021-12-01    0.019194\n",
            "2022-01-01   -0.075345\n",
            "2022-02-01   -0.039199\n",
            "2022-03-01    0.033995\n",
            "2022-04-01   -0.099867\n",
            "2022-05-01   -0.020359\n",
            "2022-06-01   -0.053120\n",
            "2022-07-01    0.093097\n",
            "2022-08-01   -0.068640\n",
            "2022-09-01   -0.107376\n",
            "2022-10-01   -0.003306\n",
            "2022-11-01    0.099126\n",
            "2022-12-01   -0.057396\n",
            "2023-01-01    0.033317\n",
            "2023-02-01    0.006497\n",
            "2023-03-01    0.158777\n",
            "2023-04-01    0.065765\n",
            "2023-05-01    0.068769\n",
            "2023-06-01    0.039266\n",
            "2023-07-01   -0.013567\n",
            "2023-08-01   -0.037747\n",
            "Name: R, dtype: float64\n"
          ]
        }
      ]
    },
    {
      "cell_type": "code",
      "source": [
        "MSFT[\"r\"] = np.log(MSFT['Adj Close']).diff(1)\n",
        "# I keep a new object with only returns:\n",
        "MSFT_R = MSFT[['R','r']].copy()"
      ],
      "metadata": {
        "id": "t4aum-pHm0hr"
      },
      "execution_count": null,
      "outputs": []
    },
    {
      "cell_type": "code",
      "source": [
        "MSFT_R.head()"
      ],
      "metadata": {
        "colab": {
          "base_uri": "https://localhost:8080/",
          "height": 237
        },
        "id": "cNk7y1M-m1He",
        "outputId": "94938077-d395-4941-feb1-288ede161878"
      },
      "execution_count": null,
      "outputs": [
        {
          "output_type": "execute_result",
          "data": {
            "text/plain": [
              "                   R         r\n",
              "Date                          \n",
              "2021-01-01       NaN       NaN\n",
              "2021-02-01  0.001811  0.001809\n",
              "2021-03-01  0.016925  0.016783\n",
              "2021-04-01  0.069602  0.067286\n",
              "2021-05-01 -0.009913 -0.009963"
            ],
            "text/html": [
              "\n",
              "\n",
              "  <div id=\"df-784a0696-53f8-4c9a-a725-f96f5b703b65\">\n",
              "    <div class=\"colab-df-container\">\n",
              "      <div>\n",
              "<style scoped>\n",
              "    .dataframe tbody tr th:only-of-type {\n",
              "        vertical-align: middle;\n",
              "    }\n",
              "\n",
              "    .dataframe tbody tr th {\n",
              "        vertical-align: top;\n",
              "    }\n",
              "\n",
              "    .dataframe thead th {\n",
              "        text-align: right;\n",
              "    }\n",
              "</style>\n",
              "<table border=\"1\" class=\"dataframe\">\n",
              "  <thead>\n",
              "    <tr style=\"text-align: right;\">\n",
              "      <th></th>\n",
              "      <th>R</th>\n",
              "      <th>r</th>\n",
              "    </tr>\n",
              "    <tr>\n",
              "      <th>Date</th>\n",
              "      <th></th>\n",
              "      <th></th>\n",
              "    </tr>\n",
              "  </thead>\n",
              "  <tbody>\n",
              "    <tr>\n",
              "      <th>2021-01-01</th>\n",
              "      <td>NaN</td>\n",
              "      <td>NaN</td>\n",
              "    </tr>\n",
              "    <tr>\n",
              "      <th>2021-02-01</th>\n",
              "      <td>0.001811</td>\n",
              "      <td>0.001809</td>\n",
              "    </tr>\n",
              "    <tr>\n",
              "      <th>2021-03-01</th>\n",
              "      <td>0.016925</td>\n",
              "      <td>0.016783</td>\n",
              "    </tr>\n",
              "    <tr>\n",
              "      <th>2021-04-01</th>\n",
              "      <td>0.069602</td>\n",
              "      <td>0.067286</td>\n",
              "    </tr>\n",
              "    <tr>\n",
              "      <th>2021-05-01</th>\n",
              "      <td>-0.009913</td>\n",
              "      <td>-0.009963</td>\n",
              "    </tr>\n",
              "  </tbody>\n",
              "</table>\n",
              "</div>\n",
              "      <button class=\"colab-df-convert\" onclick=\"convertToInteractive('df-784a0696-53f8-4c9a-a725-f96f5b703b65')\"\n",
              "              title=\"Convert this dataframe to an interactive table.\"\n",
              "              style=\"display:none;\">\n",
              "\n",
              "  <svg xmlns=\"http://www.w3.org/2000/svg\" height=\"24px\"viewBox=\"0 0 24 24\"\n",
              "       width=\"24px\">\n",
              "    <path d=\"M0 0h24v24H0V0z\" fill=\"none\"/>\n",
              "    <path d=\"M18.56 5.44l.94 2.06.94-2.06 2.06-.94-2.06-.94-.94-2.06-.94 2.06-2.06.94zm-11 1L8.5 8.5l.94-2.06 2.06-.94-2.06-.94L8.5 2.5l-.94 2.06-2.06.94zm10 10l.94 2.06.94-2.06 2.06-.94-2.06-.94-.94-2.06-.94 2.06-2.06.94z\"/><path d=\"M17.41 7.96l-1.37-1.37c-.4-.4-.92-.59-1.43-.59-.52 0-1.04.2-1.43.59L10.3 9.45l-7.72 7.72c-.78.78-.78 2.05 0 2.83L4 21.41c.39.39.9.59 1.41.59.51 0 1.02-.2 1.41-.59l7.78-7.78 2.81-2.81c.8-.78.8-2.07 0-2.86zM5.41 20L4 18.59l7.72-7.72 1.47 1.35L5.41 20z\"/>\n",
              "  </svg>\n",
              "      </button>\n",
              "\n",
              "\n",
              "\n",
              "    <div id=\"df-638a4c5a-df00-454d-890d-4fab2c01aadc\">\n",
              "      <button class=\"colab-df-quickchart\" onclick=\"quickchart('df-638a4c5a-df00-454d-890d-4fab2c01aadc')\"\n",
              "              title=\"Suggest charts.\"\n",
              "              style=\"display:none;\">\n",
              "\n",
              "<svg xmlns=\"http://www.w3.org/2000/svg\" height=\"24px\"viewBox=\"0 0 24 24\"\n",
              "     width=\"24px\">\n",
              "    <g>\n",
              "        <path d=\"M19 3H5c-1.1 0-2 .9-2 2v14c0 1.1.9 2 2 2h14c1.1 0 2-.9 2-2V5c0-1.1-.9-2-2-2zM9 17H7v-7h2v7zm4 0h-2V7h2v10zm4 0h-2v-4h2v4z\"/>\n",
              "    </g>\n",
              "</svg>\n",
              "      </button>\n",
              "    </div>\n",
              "\n",
              "<style>\n",
              "  .colab-df-quickchart {\n",
              "    background-color: #E8F0FE;\n",
              "    border: none;\n",
              "    border-radius: 50%;\n",
              "    cursor: pointer;\n",
              "    display: none;\n",
              "    fill: #1967D2;\n",
              "    height: 32px;\n",
              "    padding: 0 0 0 0;\n",
              "    width: 32px;\n",
              "  }\n",
              "\n",
              "  .colab-df-quickchart:hover {\n",
              "    background-color: #E2EBFA;\n",
              "    box-shadow: 0px 1px 2px rgba(60, 64, 67, 0.3), 0px 1px 3px 1px rgba(60, 64, 67, 0.15);\n",
              "    fill: #174EA6;\n",
              "  }\n",
              "\n",
              "  [theme=dark] .colab-df-quickchart {\n",
              "    background-color: #3B4455;\n",
              "    fill: #D2E3FC;\n",
              "  }\n",
              "\n",
              "  [theme=dark] .colab-df-quickchart:hover {\n",
              "    background-color: #434B5C;\n",
              "    box-shadow: 0px 1px 3px 1px rgba(0, 0, 0, 0.15);\n",
              "    filter: drop-shadow(0px 1px 2px rgba(0, 0, 0, 0.3));\n",
              "    fill: #FFFFFF;\n",
              "  }\n",
              "</style>\n",
              "\n",
              "    <script>\n",
              "      async function quickchart(key) {\n",
              "        const containerElement = document.querySelector('#' + key);\n",
              "        const charts = await google.colab.kernel.invokeFunction(\n",
              "            'suggestCharts', [key], {});\n",
              "      }\n",
              "    </script>\n",
              "\n",
              "      <script>\n",
              "\n",
              "function displayQuickchartButton(domScope) {\n",
              "  let quickchartButtonEl =\n",
              "    domScope.querySelector('#df-638a4c5a-df00-454d-890d-4fab2c01aadc button.colab-df-quickchart');\n",
              "  quickchartButtonEl.style.display =\n",
              "    google.colab.kernel.accessAllowed ? 'block' : 'none';\n",
              "}\n",
              "\n",
              "        displayQuickchartButton(document);\n",
              "      </script>\n",
              "      <style>\n",
              "    .colab-df-container {\n",
              "      display:flex;\n",
              "      flex-wrap:wrap;\n",
              "      gap: 12px;\n",
              "    }\n",
              "\n",
              "    .colab-df-convert {\n",
              "      background-color: #E8F0FE;\n",
              "      border: none;\n",
              "      border-radius: 50%;\n",
              "      cursor: pointer;\n",
              "      display: none;\n",
              "      fill: #1967D2;\n",
              "      height: 32px;\n",
              "      padding: 0 0 0 0;\n",
              "      width: 32px;\n",
              "    }\n",
              "\n",
              "    .colab-df-convert:hover {\n",
              "      background-color: #E2EBFA;\n",
              "      box-shadow: 0px 1px 2px rgba(60, 64, 67, 0.3), 0px 1px 3px 1px rgba(60, 64, 67, 0.15);\n",
              "      fill: #174EA6;\n",
              "    }\n",
              "\n",
              "    [theme=dark] .colab-df-convert {\n",
              "      background-color: #3B4455;\n",
              "      fill: #D2E3FC;\n",
              "    }\n",
              "\n",
              "    [theme=dark] .colab-df-convert:hover {\n",
              "      background-color: #434B5C;\n",
              "      box-shadow: 0px 1px 3px 1px rgba(0, 0, 0, 0.15);\n",
              "      filter: drop-shadow(0px 1px 2px rgba(0, 0, 0, 0.3));\n",
              "      fill: #FFFFFF;\n",
              "    }\n",
              "  </style>\n",
              "\n",
              "      <script>\n",
              "        const buttonEl =\n",
              "          document.querySelector('#df-784a0696-53f8-4c9a-a725-f96f5b703b65 button.colab-df-convert');\n",
              "        buttonEl.style.display =\n",
              "          google.colab.kernel.accessAllowed ? 'block' : 'none';\n",
              "\n",
              "        async function convertToInteractive(key) {\n",
              "          const element = document.querySelector('#df-784a0696-53f8-4c9a-a725-f96f5b703b65');\n",
              "          const dataTable =\n",
              "            await google.colab.kernel.invokeFunction('convertToInteractive',\n",
              "                                                     [key], {});\n",
              "          if (!dataTable) return;\n",
              "\n",
              "          const docLinkHtml = 'Like what you see? Visit the ' +\n",
              "            '<a target=\"_blank\" href=https://colab.research.google.com/notebooks/data_table.ipynb>data table notebook</a>'\n",
              "            + ' to learn more about interactive tables.';\n",
              "          element.innerHTML = '';\n",
              "          dataTable['output_type'] = 'display_data';\n",
              "          await google.colab.output.renderOutput(dataTable, element);\n",
              "          const docLink = document.createElement('div');\n",
              "          docLink.innerHTML = docLinkHtml;\n",
              "          element.appendChild(docLink);\n",
              "        }\n",
              "      </script>\n",
              "    </div>\n",
              "  </div>\n"
            ]
          },
          "metadata": {},
          "execution_count": 34
        }
      ]
    },
    {
      "cell_type": "code",
      "source": [
        "MSFT_R= MSFT_R.dropna()"
      ],
      "metadata": {
        "id": "V75Ewvjnm1hM"
      },
      "execution_count": null,
      "outputs": []
    },
    {
      "cell_type": "code",
      "source": [
        "MSFT_R.describe()"
      ],
      "metadata": {
        "colab": {
          "base_uri": "https://localhost:8080/",
          "height": 300
        },
        "id": "TPzN-y9Gn6zt",
        "outputId": "5eafaafa-7863-4320-a384-f4a147dabc9d"
      },
      "execution_count": null,
      "outputs": [
        {
          "output_type": "execute_result",
          "data": {
            "text/plain": [
              "               R          r\n",
              "count  31.000000  31.000000\n",
              "mean    0.013804   0.011425\n",
              "std     0.069996   0.068570\n",
              "min    -0.107376  -0.113590\n",
              "25%    -0.038473  -0.039233\n",
              "50%     0.006497   0.006476\n",
              "75%     0.062664   0.060775\n",
              "max     0.176291   0.162366"
            ],
            "text/html": [
              "\n",
              "\n",
              "  <div id=\"df-8c014141-b3f8-4608-ba64-4492e259148d\">\n",
              "    <div class=\"colab-df-container\">\n",
              "      <div>\n",
              "<style scoped>\n",
              "    .dataframe tbody tr th:only-of-type {\n",
              "        vertical-align: middle;\n",
              "    }\n",
              "\n",
              "    .dataframe tbody tr th {\n",
              "        vertical-align: top;\n",
              "    }\n",
              "\n",
              "    .dataframe thead th {\n",
              "        text-align: right;\n",
              "    }\n",
              "</style>\n",
              "<table border=\"1\" class=\"dataframe\">\n",
              "  <thead>\n",
              "    <tr style=\"text-align: right;\">\n",
              "      <th></th>\n",
              "      <th>R</th>\n",
              "      <th>r</th>\n",
              "    </tr>\n",
              "  </thead>\n",
              "  <tbody>\n",
              "    <tr>\n",
              "      <th>count</th>\n",
              "      <td>31.000000</td>\n",
              "      <td>31.000000</td>\n",
              "    </tr>\n",
              "    <tr>\n",
              "      <th>mean</th>\n",
              "      <td>0.013804</td>\n",
              "      <td>0.011425</td>\n",
              "    </tr>\n",
              "    <tr>\n",
              "      <th>std</th>\n",
              "      <td>0.069996</td>\n",
              "      <td>0.068570</td>\n",
              "    </tr>\n",
              "    <tr>\n",
              "      <th>min</th>\n",
              "      <td>-0.107376</td>\n",
              "      <td>-0.113590</td>\n",
              "    </tr>\n",
              "    <tr>\n",
              "      <th>25%</th>\n",
              "      <td>-0.038473</td>\n",
              "      <td>-0.039233</td>\n",
              "    </tr>\n",
              "    <tr>\n",
              "      <th>50%</th>\n",
              "      <td>0.006497</td>\n",
              "      <td>0.006476</td>\n",
              "    </tr>\n",
              "    <tr>\n",
              "      <th>75%</th>\n",
              "      <td>0.062664</td>\n",
              "      <td>0.060775</td>\n",
              "    </tr>\n",
              "    <tr>\n",
              "      <th>max</th>\n",
              "      <td>0.176291</td>\n",
              "      <td>0.162366</td>\n",
              "    </tr>\n",
              "  </tbody>\n",
              "</table>\n",
              "</div>\n",
              "      <button class=\"colab-df-convert\" onclick=\"convertToInteractive('df-8c014141-b3f8-4608-ba64-4492e259148d')\"\n",
              "              title=\"Convert this dataframe to an interactive table.\"\n",
              "              style=\"display:none;\">\n",
              "\n",
              "  <svg xmlns=\"http://www.w3.org/2000/svg\" height=\"24px\"viewBox=\"0 0 24 24\"\n",
              "       width=\"24px\">\n",
              "    <path d=\"M0 0h24v24H0V0z\" fill=\"none\"/>\n",
              "    <path d=\"M18.56 5.44l.94 2.06.94-2.06 2.06-.94-2.06-.94-.94-2.06-.94 2.06-2.06.94zm-11 1L8.5 8.5l.94-2.06 2.06-.94-2.06-.94L8.5 2.5l-.94 2.06-2.06.94zm10 10l.94 2.06.94-2.06 2.06-.94-2.06-.94-.94-2.06-.94 2.06-2.06.94z\"/><path d=\"M17.41 7.96l-1.37-1.37c-.4-.4-.92-.59-1.43-.59-.52 0-1.04.2-1.43.59L10.3 9.45l-7.72 7.72c-.78.78-.78 2.05 0 2.83L4 21.41c.39.39.9.59 1.41.59.51 0 1.02-.2 1.41-.59l7.78-7.78 2.81-2.81c.8-.78.8-2.07 0-2.86zM5.41 20L4 18.59l7.72-7.72 1.47 1.35L5.41 20z\"/>\n",
              "  </svg>\n",
              "      </button>\n",
              "\n",
              "\n",
              "\n",
              "    <div id=\"df-555aa6cd-98ae-41ff-9937-fc0a13fafc5e\">\n",
              "      <button class=\"colab-df-quickchart\" onclick=\"quickchart('df-555aa6cd-98ae-41ff-9937-fc0a13fafc5e')\"\n",
              "              title=\"Suggest charts.\"\n",
              "              style=\"display:none;\">\n",
              "\n",
              "<svg xmlns=\"http://www.w3.org/2000/svg\" height=\"24px\"viewBox=\"0 0 24 24\"\n",
              "     width=\"24px\">\n",
              "    <g>\n",
              "        <path d=\"M19 3H5c-1.1 0-2 .9-2 2v14c0 1.1.9 2 2 2h14c1.1 0 2-.9 2-2V5c0-1.1-.9-2-2-2zM9 17H7v-7h2v7zm4 0h-2V7h2v10zm4 0h-2v-4h2v4z\"/>\n",
              "    </g>\n",
              "</svg>\n",
              "      </button>\n",
              "    </div>\n",
              "\n",
              "<style>\n",
              "  .colab-df-quickchart {\n",
              "    background-color: #E8F0FE;\n",
              "    border: none;\n",
              "    border-radius: 50%;\n",
              "    cursor: pointer;\n",
              "    display: none;\n",
              "    fill: #1967D2;\n",
              "    height: 32px;\n",
              "    padding: 0 0 0 0;\n",
              "    width: 32px;\n",
              "  }\n",
              "\n",
              "  .colab-df-quickchart:hover {\n",
              "    background-color: #E2EBFA;\n",
              "    box-shadow: 0px 1px 2px rgba(60, 64, 67, 0.3), 0px 1px 3px 1px rgba(60, 64, 67, 0.15);\n",
              "    fill: #174EA6;\n",
              "  }\n",
              "\n",
              "  [theme=dark] .colab-df-quickchart {\n",
              "    background-color: #3B4455;\n",
              "    fill: #D2E3FC;\n",
              "  }\n",
              "\n",
              "  [theme=dark] .colab-df-quickchart:hover {\n",
              "    background-color: #434B5C;\n",
              "    box-shadow: 0px 1px 3px 1px rgba(0, 0, 0, 0.15);\n",
              "    filter: drop-shadow(0px 1px 2px rgba(0, 0, 0, 0.3));\n",
              "    fill: #FFFFFF;\n",
              "  }\n",
              "</style>\n",
              "\n",
              "    <script>\n",
              "      async function quickchart(key) {\n",
              "        const containerElement = document.querySelector('#' + key);\n",
              "        const charts = await google.colab.kernel.invokeFunction(\n",
              "            'suggestCharts', [key], {});\n",
              "      }\n",
              "    </script>\n",
              "\n",
              "      <script>\n",
              "\n",
              "function displayQuickchartButton(domScope) {\n",
              "  let quickchartButtonEl =\n",
              "    domScope.querySelector('#df-555aa6cd-98ae-41ff-9937-fc0a13fafc5e button.colab-df-quickchart');\n",
              "  quickchartButtonEl.style.display =\n",
              "    google.colab.kernel.accessAllowed ? 'block' : 'none';\n",
              "}\n",
              "\n",
              "        displayQuickchartButton(document);\n",
              "      </script>\n",
              "      <style>\n",
              "    .colab-df-container {\n",
              "      display:flex;\n",
              "      flex-wrap:wrap;\n",
              "      gap: 12px;\n",
              "    }\n",
              "\n",
              "    .colab-df-convert {\n",
              "      background-color: #E8F0FE;\n",
              "      border: none;\n",
              "      border-radius: 50%;\n",
              "      cursor: pointer;\n",
              "      display: none;\n",
              "      fill: #1967D2;\n",
              "      height: 32px;\n",
              "      padding: 0 0 0 0;\n",
              "      width: 32px;\n",
              "    }\n",
              "\n",
              "    .colab-df-convert:hover {\n",
              "      background-color: #E2EBFA;\n",
              "      box-shadow: 0px 1px 2px rgba(60, 64, 67, 0.3), 0px 1px 3px 1px rgba(60, 64, 67, 0.15);\n",
              "      fill: #174EA6;\n",
              "    }\n",
              "\n",
              "    [theme=dark] .colab-df-convert {\n",
              "      background-color: #3B4455;\n",
              "      fill: #D2E3FC;\n",
              "    }\n",
              "\n",
              "    [theme=dark] .colab-df-convert:hover {\n",
              "      background-color: #434B5C;\n",
              "      box-shadow: 0px 1px 3px 1px rgba(0, 0, 0, 0.15);\n",
              "      filter: drop-shadow(0px 1px 2px rgba(0, 0, 0, 0.3));\n",
              "      fill: #FFFFFF;\n",
              "    }\n",
              "  </style>\n",
              "\n",
              "      <script>\n",
              "        const buttonEl =\n",
              "          document.querySelector('#df-8c014141-b3f8-4608-ba64-4492e259148d button.colab-df-convert');\n",
              "        buttonEl.style.display =\n",
              "          google.colab.kernel.accessAllowed ? 'block' : 'none';\n",
              "\n",
              "        async function convertToInteractive(key) {\n",
              "          const element = document.querySelector('#df-8c014141-b3f8-4608-ba64-4492e259148d');\n",
              "          const dataTable =\n",
              "            await google.colab.kernel.invokeFunction('convertToInteractive',\n",
              "                                                     [key], {});\n",
              "          if (!dataTable) return;\n",
              "\n",
              "          const docLinkHtml = 'Like what you see? Visit the ' +\n",
              "            '<a target=\"_blank\" href=https://colab.research.google.com/notebooks/data_table.ipynb>data table notebook</a>'\n",
              "            + ' to learn more about interactive tables.';\n",
              "          element.innerHTML = '';\n",
              "          dataTable['output_type'] = 'display_data';\n",
              "          await google.colab.output.renderOutput(dataTable, element);\n",
              "          const docLink = document.createElement('div');\n",
              "          docLink.innerHTML = docLinkHtml;\n",
              "          element.appendChild(docLink);\n",
              "        }\n",
              "      </script>\n",
              "    </div>\n",
              "  </div>\n"
            ]
          },
          "metadata": {},
          "execution_count": 36
        }
      ]
    },
    {
      "cell_type": "code",
      "source": [
        "print(\"The monthly average cc return of Microsoft (MSFT) stock is \", MSFT_R[\"r\"].mean())\n",
        "print(\"The monthly variance of Microsoft (MSFT) stock cc return is \", MSFT_R[\"r\"].var())\n",
        "print(\"The monthly standard deviation (volatility) of Microsoft (MSFT) stock cc return is \", MSFT_R[\"r\"].std())\n",
        "print(\"The monthly median cc return of Microsoft (MSFT) stock is \",MSFT_R[\"r\"].median())"
      ],
      "metadata": {
        "colab": {
          "base_uri": "https://localhost:8080/"
        },
        "id": "pmGfKQm9oCvP",
        "outputId": "5f1d1e46-a922-4894-981f-cb75840f55f3"
      },
      "execution_count": null,
      "outputs": [
        {
          "output_type": "stream",
          "name": "stdout",
          "text": [
            "The monthly average cc return of Microsoft (MSFT) stock is  0.011425456762167118\n",
            "The monthly variance of Microsoft (MSFT) stock cc return is  0.004701805618434497\n",
            "The monthly standard deviation (volatility) of Microsoft (MSFT) stock cc return is  0.06856971356535257\n",
            "The monthly median cc return of Microsoft (MSFT) stock is  0.006475913811475387\n"
          ]
        }
      ]
    },
    {
      "cell_type": "code",
      "source": [
        "v_study= MSFT_R[\"r\"].mean()\n",
        "v_study"
      ],
      "metadata": {
        "colab": {
          "base_uri": "https://localhost:8080/"
        },
        "id": "lMzuSP9poDO0",
        "outputId": "137ae1eb-8569-416d-e111-f85f1cfbf3fd"
      },
      "execution_count": null,
      "outputs": [
        {
          "output_type": "execute_result",
          "data": {
            "text/plain": [
              "0.011425456762167118"
            ]
          },
          "metadata": {},
          "execution_count": 40
        }
      ]
    },
    {
      "cell_type": "code",
      "source": [
        "import math\n",
        "\n",
        "alt_hypothesis = 0\n",
        "null_hypothesis = 0\n",
        "\n",
        "#alt_hypothesis >=v_study\n",
        "alt_hypothesis = v_study\n",
        "#null_hypothesis <= v_study\n",
        "N = MSFT_R.shape[0]\n",
        "std_error =  MSFT_R[\"r\"].std()/ math.sqrt(N)\n",
        "print(std_error)\n",
        "\n"
      ],
      "metadata": {
        "colab": {
          "base_uri": "https://localhost:8080/"
        },
        "id": "8jafczDZoxPi",
        "outputId": "0ea4f142-456a-4436-cc94-3922ad6bd258"
      },
      "execution_count": null,
      "outputs": [
        {
          "output_type": "stream",
          "name": "stdout",
          "text": [
            "0.011425456762167118\n"
          ]
        }
      ]
    },
    {
      "cell_type": "markdown",
      "source": [
        "- CALCULATE THE t-statistic (t-value). EXPLAIN/INTERPRET THE t-statistic.\n"
      ],
      "metadata": {
        "id": "GGeLt6tLqwxD"
      }
    },
    {
      "cell_type": "code",
      "source": [
        "t_value = (v_study - null_hypothesis)/(std_error)\n",
        "t_value"
      ],
      "metadata": {
        "colab": {
          "base_uri": "https://localhost:8080/"
        },
        "id": "t5D1FW50oxi-",
        "outputId": "b754ab72-195d-471e-cc65-53c749613f48"
      },
      "execution_count": null,
      "outputs": [
        {
          "output_type": "execute_result",
          "data": {
            "text/plain": [
              "0.9277310299512883"
            ]
          },
          "metadata": {},
          "execution_count": 50
        }
      ]
    },
    {
      "cell_type": "markdown",
      "source": [
        "**CALCULATE THE 95% CONFIDENCE INTERVAL OF THE SAMPLE MEAN**\n",
        "\n",
        "\n",
        "\n",
        "\n"
      ],
      "metadata": {
        "id": "xLs0A435sZ3w"
      }
    },
    {
      "cell_type": "markdown",
      "source": [
        "**WRITE YOUR CONCLUSION OF THE t-TEST**"
      ],
      "metadata": {
        "id": "dtn4LKgGsaSF"
      }
    },
    {
      "cell_type": "code",
      "source": [
        "# Calculate the critical value for a 95% confidence interval\n",
        "confidence_level = 0.95\n",
        "critical_value = stats.t.ppf((1 + confidence_level) / 2, df=sample_size - 1)\n",
        "\n",
        "# Calculate the margin of error\n",
        "margin_of_error = critical_value * (sample_std / np.sqrt(sample_size))\n",
        "\n",
        "# Calculate the confidence interval\n",
        "confidence_interval_lower = sample_mean - margin_of_error\n",
        "confidence_interval_upper = sample_mean + margin_of_error"
      ],
      "metadata": {
        "id": "SBtzRzSWoxyi"
      },
      "execution_count": null,
      "outputs": []
    },
    {
      "cell_type": "markdown",
      "source": [],
      "metadata": {
        "id": "tm4AWEnA-bwV"
      }
    }
  ]
}