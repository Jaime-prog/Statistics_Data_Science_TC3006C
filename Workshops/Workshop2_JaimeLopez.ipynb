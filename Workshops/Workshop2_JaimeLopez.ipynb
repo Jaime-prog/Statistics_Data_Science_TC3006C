{
  "nbformat": 4,
  "nbformat_minor": 0,
  "metadata": {
    "colab": {
      "provenance": []
    },
    "kernelspec": {
      "name": "python3",
      "display_name": "Python 3"
    },
    "language_info": {
      "name": "python"
    }
  },
  "cells": [
    {
      "cell_type": "markdown",
      "source": [
        "_Workshop #2 Advanced AI - Statistics Module_\n",
        "\n",
        "**Name: Jaime Lopez Hernandez**\n",
        "\n",
        "_Date: 17/08/2023_\n"
      ],
      "metadata": {
        "id": "B0mcBx-Q_OJj"
      }
    },
    {
      "cell_type": "markdown",
      "source": [
        "# Central Limit Theorem"
      ],
      "metadata": {
        "id": "XQPdFWW28MBf"
      }
    },
    {
      "cell_type": "code",
      "source": [
        "#pip install symbulate"
      ],
      "metadata": {
        "id": "9w6E4d5vg801"
      },
      "execution_count": null,
      "outputs": []
    },
    {
      "cell_type": "code",
      "execution_count": null,
      "metadata": {
        "id": "VnvAEiC84N-9"
      },
      "outputs": [],
      "source": [
        "from symbulate import *\n",
        "#'exec(%matplotlib inline)'\n",
        "import matplotlib\n",
        "\n",
        "import matplotlib.pyplot as plt"
      ]
    },
    {
      "cell_type": "code",
      "source": [
        "# clear the plot space:\n",
        "plt.clf()\n",
        "# Define the probability type of function as uniform (probability space)\n",
        "P = Uniform(0,40)\n",
        "# Define X as a random variable of the type P (uniform)\n",
        "X =RV(P)\n",
        "# Simulate the values of X and save the in the x array:\n",
        "x=X.sim(10000)\n",
        "x.plot()\n",
        "plt.show()"
      ],
      "metadata": {
        "colab": {
          "base_uri": "https://localhost:8080/",
          "height": 430
        },
        "id": "Pid4kwb86zY0",
        "outputId": "f7ca41b9-b70a-4e23-cd71-bfb70dd3590b"
      },
      "execution_count": null,
      "outputs": [
        {
          "output_type": "display_data",
          "data": {
            "text/plain": [
              "<Figure size 640x480 with 1 Axes>"
            ],
            "image/png": "[encoded data removed]"
          },
          "metadata": {}
        }
      ]
    },
    {
      "cell_type": "markdown",
      "source": [
        "A) CALCULATE THE MEAN AND STANDARD DEVIATION OF THIS SIMULATED UNIFORM x VARIABLE. HOW CLOSE WERE THESE MEAN AND STANDARD DEVIATION FROM THE THEORETICAL MEAN AND STANDARD DEVIATION?\n",
        "\n",
        "B) INTERPET THE ABOVE HISTOGRAM. WHAT DO YOU SEE? EXPLAIN WITH YOUR WORDS."
      ],
      "metadata": {
        "id": "Z6YQJ3Yi_1AE"
      }
    },
    {
      "cell_type": "code",
      "source": [
        "# Mean of simulated and theoretical variables\n",
        "\n"
      ],
      "metadata": {
        "id": "mYOSezfXXpkU"
      },
      "execution_count": null,
      "outputs": []
    },
    {
      "cell_type": "code",
      "source": [
        "# Define the probability space as a vector of 25 uniform random numbers:\n",
        "P = Uniform(0,40) ** 25\n",
        "# Define XVECTOR as a vector of random variables with 25 random values\n",
        "XVECTOR =RV(P)\n",
        "# Simulate 10,000 vectors to get a matrix\n",
        "xmatrix=XVECTOR.sim(10000)"
      ],
      "metadata": {
        "id": "itxiY0Il7uHi"
      },
      "execution_count": null,
      "outputs": []
    },
    {
      "cell_type": "code",
      "source": [
        "xmatrix"
      ],
      "metadata": {
        "colab": {
          "base_uri": "https://localhost:8080/",
          "height": 270
        },
        "id": "8dZANhNC7w7m",
        "outputId": "128d54b7-35d7-43b8-9604-0454343debe8"
      },
      "execution_count": null,
      "outputs": [
        {
          "output_type": "execute_result",
          "data": {
            "text/plain": [
              "Index Result\n",
              "0     (16.09156661163381, 9.903743174521908, 25.255108320898557, 27.793101890547295, 10.094545581905399, ..., 24.944015989883802)\n",
              "1     (7.025562987999003, 0.510203399878173, 15.966423014740322, 0.5807818963691025, 13.578073561400569, ..., 2.473988095656612)\n",
              "2     (7.501926657568427, 12.010974976768933, 35.96918273558875, 30.62940363724959, 24.152262056826896, ..., 39.587450972526995)\n",
              "3     (17.24395985179243, 35.91324957739748, 5.40554987360482, 11.147190857877337, 2.15175700161935, ..., 18.115586894145636)\n",
              "4     (16.53896877292417, 0.6945800693909066, 38.15819890703855, 17.594240175733145, 13.952858409807112, ..., 1.1667147825865243)\n",
              "5     (8.879561436912562, 16.16450521656165, 11.670219330826574, 3.257599967308251, 11.673358497909394, ..., 20.41115975743009)\n",
              "6     (15.143252801567325, 15.533700387387256, 24.303738656515506, 17.373091732025756, 23.16725563255259, ..., 1.2257013158213637)\n",
              "7     (17.020729981769144, 35.67396194694308, 22.367490794903286, 34.359031172317785, 27.604707620358294, ..., 11.531268263256287)\n",
              "8     (13.112249969500471, 1.3380736817557404, 31.136694017022528, 22.43286518860444, 22.98979440977785, ..., 25.73458954183737)\n",
              "....  ...........................................................................................................................\n",
              "9999  (19.514022062549326, 15.817864373321452, 33.12171780149487, 21.496389855630277, 10.952249580671154, ..., 34.17895403040565)"
            ],
            "text/html": [
              "\n",
              "    <table>\n",
              "      <thead>\n",
              "        <th width=\"10%\">Index</th>\n",
              "        <th width=\"90%\">Result</th>\n",
              "      </thead>\n",
              "      <tbody>\n",
              "        \n",
              "        <tr>\n",
              "          <td>0</td><td>(16.09156661163381, 9.903743174521908, 25.255108320898557, 27.793101890547295, 10.094545581905399, ....</td>\n",
              "        </tr>\n",
              "        \n",
              "        <tr>\n",
              "          <td>1</td><td>(7.025562987999003, 0.510203399878173, 15.966423014740322, 0.5807818963691025, 13.578073561400569, ....</td>\n",
              "        </tr>\n",
              "        \n",
              "        <tr>\n",
              "          <td>2</td><td>(7.501926657568427, 12.010974976768933, 35.96918273558875, 30.62940363724959, 24.152262056826896, .....</td>\n",
              "        </tr>\n",
              "        \n",
              "        <tr>\n",
              "          <td>3</td><td>(17.24395985179243, 35.91324957739748, 5.40554987360482, 11.147190857877337, 2.15175700161935, ..., ...</td>\n",
              "        </tr>\n",
              "        \n",
              "        <tr>\n",
              "          <td>4</td><td>(16.53896877292417, 0.6945800693909066, 38.15819890703855, 17.594240175733145, 13.952858409807112, ....</td>\n",
              "        </tr>\n",
              "        \n",
              "        <tr>\n",
              "          <td>5</td><td>(8.879561436912562, 16.16450521656165, 11.670219330826574, 3.257599967308251, 11.673358497909394, .....</td>\n",
              "        </tr>\n",
              "        \n",
              "        <tr>\n",
              "          <td>6</td><td>(15.143252801567325, 15.533700387387256, 24.303738656515506, 17.373091732025756, 23.16725563255259, ...</td>\n",
              "        </tr>\n",
              "        \n",
              "        <tr>\n",
              "          <td>7</td><td>(17.020729981769144, 35.67396194694308, 22.367490794903286, 34.359031172317785, 27.604707620358294, ...</td>\n",
              "        </tr>\n",
              "        \n",
              "        <tr>\n",
              "          <td>8</td><td>(13.112249969500471, 1.3380736817557404, 31.136694017022528, 22.43286518860444, 22.98979440977785, ....</td>\n",
              "        </tr>\n",
              "        <tr><td>...</td><td>...</td></tr>\n",
              "        <tr>\n",
              "          <td>9999</td><td>(19.514022062549326, 15.817864373321452, 33.12171780149487, 21.496389855630277, 10.952249580671154, ...</td>\n",
              "        </tr>\n",
              "        \n",
              "      </tbody>\n",
              "    </table>\n",
              "        "
            ]
          },
          "metadata": {},
          "execution_count": 19
        }
      ]
    },
    {
      "cell_type": "code",
      "source": [
        "# The 2nd parameter is the mathematical operation applied to each row of the random vector\n",
        "# Simulate 10,000 means of each random vector of 25 uniform distributed numbers:\n",
        "xmean = RV(P,mean).sim(10000)\n",
        "xmean"
      ],
      "metadata": {
        "colab": {
          "base_uri": "https://localhost:8080/",
          "height": 270
        },
        "id": "fwFRg9al7xOH",
        "outputId": "fdf5a93f-94c9-407e-e2fc-356710ade3b0"
      },
      "execution_count": null,
      "outputs": [
        {
          "output_type": "execute_result",
          "data": {
            "text/plain": [
              "Index Result\n",
              "0     18.821698406124494\n",
              "1     19.614752944095198\n",
              "2     18.021943204678085\n",
              "3     15.778125487913462\n",
              "4     23.097498928521162\n",
              "5     22.466363480118368\n",
              "6     19.765789106613855\n",
              "7     15.888685578991781\n",
              "8     18.527323117483046\n",
              "....  ..................\n",
              "9999  17.229515432225597"
            ],
            "text/html": [
              "\n",
              "    <table>\n",
              "      <thead>\n",
              "        <th width=\"10%\">Index</th>\n",
              "        <th width=\"90%\">Result</th>\n",
              "      </thead>\n",
              "      <tbody>\n",
              "        \n",
              "        <tr>\n",
              "          <td>0</td><td>18.821698406124494</td>\n",
              "        </tr>\n",
              "        \n",
              "        <tr>\n",
              "          <td>1</td><td>19.614752944095198</td>\n",
              "        </tr>\n",
              "        \n",
              "        <tr>\n",
              "          <td>2</td><td>18.021943204678085</td>\n",
              "        </tr>\n",
              "        \n",
              "        <tr>\n",
              "          <td>3</td><td>15.778125487913462</td>\n",
              "        </tr>\n",
              "        \n",
              "        <tr>\n",
              "          <td>4</td><td>23.097498928521162</td>\n",
              "        </tr>\n",
              "        \n",
              "        <tr>\n",
              "          <td>5</td><td>22.466363480118368</td>\n",
              "        </tr>\n",
              "        \n",
              "        <tr>\n",
              "          <td>6</td><td>19.765789106613855</td>\n",
              "        </tr>\n",
              "        \n",
              "        <tr>\n",
              "          <td>7</td><td>15.888685578991781</td>\n",
              "        </tr>\n",
              "        \n",
              "        <tr>\n",
              "          <td>8</td><td>18.527323117483046</td>\n",
              "        </tr>\n",
              "        <tr><td>...</td><td>...</td></tr>\n",
              "        <tr>\n",
              "          <td>9999</td><td>17.229515432225597</td>\n",
              "        </tr>\n",
              "        \n",
              "      </tbody>\n",
              "    </table>\n",
              "        "
            ]
          },
          "metadata": {},
          "execution_count": 20
        }
      ]
    },
    {
      "cell_type": "code",
      "source": [
        "plt.clf()\n",
        "xmean.plot()\n",
        "plt.show()"
      ],
      "metadata": {
        "colab": {
          "base_uri": "https://localhost:8080/",
          "height": 430
        },
        "id": "h-ooA5v67xwp",
        "outputId": "56c6f0b4-366c-41c3-dc54-8b4ee4d2a765"
      },
      "execution_count": null,
      "outputs": [
        {
          "output_type": "display_data",
          "data": {
            "text/plain": [
              "<Figure size 640x480 with 1 Axes>"
            ],
            "image/png": "[encoded data removed]"
          },
          "metadata": {}
        }
      ]
    },
    {
      "cell_type": "markdown",
      "source": [
        "Al agrupar valores, (al hacer algunas operaciones (combinaciones lineales))\n",
        "(sumas, promedios, promedio ponderado).\n",
        "Esto se cumple a pesar de la distribución original tras haberle hecho una operación de combinación lineal.\n",
        "\n",
        "- una función de densidad que tenga que ver con la distribución normal.\n",
        "- The variance shrinks, one can estimate the shrinkment. La variabilidad de las medias disminuye. Esta dada por la raiz entre no sé que. Depende del tamaño del grupo de donde se sacan los promedios.\n",
        "-"
      ],
      "metadata": {
        "id": "21FHXzvI_-iv"
      }
    },
    {
      "cell_type": "markdown",
      "source": [
        "***CALCULATE THE MEAN AND STANDARD DEVIATION OF THE xmean VARIABLE. HOW SIMILAR\n",
        "OR DIFFERENT ARE THESE VALUES FROM THE MEAN AND STANDARD DEVIATION OF x?***\n",
        "\n"
      ],
      "metadata": {
        "id": "q4VdtYUZ8bHN"
      }
    },
    {
      "cell_type": "code",
      "source": [
        "print(\"Mean of  xmean: \",xmean.mean())\n",
        "print(\"Standard deviation of xmean: \",xmean.std())\n",
        "\n",
        "print(\"--------------------------\")\n",
        "\n",
        "print(\"Mean of  x: \",x.mean())\n",
        "print(\"Standard deviation of x: \",x.std())"
      ],
      "metadata": {
        "colab": {
          "base_uri": "https://localhost:8080/"
        },
        "id": "sPn3pRvm8gWf",
        "outputId": "a0727fcd-5cb4-4923-ad09-e6a37dc09d99"
      },
      "execution_count": null,
      "outputs": [
        {
          "output_type": "stream",
          "name": "stdout",
          "text": [
            "Mean of  xmean:  19.97434005197826\n",
            "Standard deviation of xmean:  2.3025550625311797\n",
            "--------------------------\n",
            "Mean of  x:  19.84527566739784\n",
            "Standard deviation of x:  11.505494726429006\n"
          ]
        }
      ]
    },
    {
      "cell_type": "markdown",
      "source": [
        "### ***ANSWER***\n",
        "REGARDING THE MEAN OF X (WHICH ARE THE INDIVIDUAL VALUES) AND THE MEAN OF THE XMEAN (WHICH COMPRISES THE MEAN OF THE MEAN OF EACH INSTANCE) THEY'RE SIMILAR ENDING UP IN A VALUE CLOSE TO 20.\n",
        "\n",
        "NONETHELESS, IN THE STANDARD DEVIATION IS WHERE AN APPRECIABLE DEVIATION IS NOTED. THE SINGLE VALUES OF X END UP HAVING A SD OF 11.5 (IN THIS SCENARIO), AND THE XMEAN HAVING A SD OF 2.3 (IN THIS RUN OF VALUES). THE VARIANCE DRASTICALLY SHRINKS WHEN EFFECTUATING AN OPERATION OF LINEAR COMBINATION."
      ],
      "metadata": {
        "id": "EnxDP21RTGfM"
      }
    },
    {
      "cell_type": "markdown",
      "source": [
        "***WHAT DO YOU SEE IN THE ABOVE HISTOGRAM? DOES THE HISTOGRAM OF SAMPLE MEANS OF UNIFORM RANDOM VARIABLE LOOK LIKE A UNIFORM DISTRIBUTED VARIABLE? DO YOU SEE A LOGIC? BRIEFLY EXPLAIN WHAT YOU THINK.***"
      ],
      "metadata": {
        "id": "70j_s2Ra8a3Z"
      }
    },
    {
      "cell_type": "markdown",
      "source": [],
      "metadata": {
        "id": "xMbdAzaj9LLE"
      }
    },
    {
      "cell_type": "code",
      "source": [
        "plt.clf()\n",
        "xmean.plot()\n",
        "x.plot()\n",
        "plt.show()"
      ],
      "metadata": {
        "colab": {
          "base_uri": "https://localhost:8080/",
          "height": 430
        },
        "id": "9RhP8BGA7yku",
        "outputId": "39415835-21bc-4df6-9060-409417cdb3eb"
      },
      "execution_count": null,
      "outputs": [
        {
          "output_type": "display_data",
          "data": {
            "text/plain": [
              "<Figure size 640x480 with 1 Axes>"
            ],
            "image/png": "[encoded data removed]"
          },
          "metadata": {}
        }
      ]
    },
    {
      "cell_type": "markdown",
      "source": [
        "***WHAT DO YOU SEE? HOW THE HISTOGRAM OF X DIFFERS FROM THE HISTOGRAM OF THE\n",
        "SAMPLES OF X?***"
      ],
      "metadata": {
        "id": "iccgUi5f9P_3"
      }
    },
    {
      "cell_type": "code",
      "source": [
        "# clear the plot space:\n",
        "plt.clf()\n",
        "# Define the probability type of function as uniform (probability space)\n",
        "P = Normal(mean=20, sd=10)\n",
        "# Define Y as a random variable of the type P (normal)\n",
        "Y =RV(P)\n",
        "# Simulate 10,000 values of Y and save the in the x array:\n",
        "y=Y.sim(10000)\n",
        "y.plot()\n",
        "plt.show()"
      ],
      "metadata": {
        "colab": {
          "base_uri": "https://localhost:8080/",
          "height": 430
        },
        "id": "5i1tMohi9Qbt",
        "outputId": "2a4fd6fd-59e4-4302-89eb-a4dc4971c84e"
      },
      "execution_count": null,
      "outputs": [
        {
          "output_type": "display_data",
          "data": {
            "text/plain": [
              "<Figure size 640x480 with 1 Axes>"
            ],
            "image/png": "[encoded data removed]"
          },
          "metadata": {}
        }
      ]
    },
    {
      "cell_type": "markdown",
      "source": [
        "***A) CALCULATE THE MEAN AND STANDARD DEVIATION OF THIS RANDOM y VARIABLE. HOW SIMILAR OR DIFFERENT ARE THESE VALUES FROM THE MEAN AND STANDARD DEVIATION OF THE THEORETICAL MEAN (20) AND THE THEORETICAL STANDARD DEVIATION (10)?***"
      ],
      "metadata": {
        "id": "bOU9FUYU9ZSI"
      }
    },
    {
      "cell_type": "markdown",
      "source": [
        "***B) WHAT DO YOU SEE? INTERPRET THE HISTOGRAM WITH YOUR WORDS.***"
      ],
      "metadata": {
        "id": "0Up-p38d9ZnQ"
      }
    },
    {
      "cell_type": "code",
      "source": [
        "# Define the probability space P as a vector of 25 normal random numbers:\n",
        "P = Normal(mean=20, sd=10) ** 25\n",
        "# Define RANDOMVECTOR as a vector of 25 random variables in the Probability space P\n",
        "RANDOMVECTOR = RV(P)\n",
        "# Simulate 10,000 random vectors with this distribution and save the in ymatrix:\n",
        "ymatrix=RANDOMVECTOR.sim(10000)"
      ],
      "metadata": {
        "id": "eeklrnQw9Qvp"
      },
      "execution_count": null,
      "outputs": []
    },
    {
      "cell_type": "code",
      "source": [
        "ymatrix"
      ],
      "metadata": {
        "colab": {
          "base_uri": "https://localhost:8080/",
          "height": 270
        },
        "id": "Qji4csaS9rNU",
        "outputId": "448c0cc6-18b4-4dca-d76d-a1c18da88d3a"
      },
      "execution_count": null,
      "outputs": [
        {
          "output_type": "execute_result",
          "data": {
            "text/plain": [
              "Index Result\n",
              "0     (12.60962860145807, 23.411393855152347, 12.902387883383351, 15.881672880708031, 39.31879393456598, ..., 20.54373447167262)\n",
              "1     (20.42485483206013, 30.039008397334875, 9.162561387237167, 16.422941264222914, 6.209242838336577, ..., 25.484245890734158)\n",
              "2     (1.8910997688020394, 10.599650848621083, 23.674724063979422, 38.87765607178844, -0.1519193070680629, ..., 18.375608448973004)\n",
              "3     (26.40856659765892, 27.55536043509231, 7.103340694597154, 44.04278178237345, 30.64736033740435, ..., 9.924977465232786)\n",
              "4     (19.38767647042936, 19.53939604792904, 41.02631980708262, 24.335230438862244, 14.030944097768732, ..., 29.807618308283715)\n",
              "5     (19.853902323220574, -0.7551689086243094, 17.882606897114364, 31.845256358230543, -2.0684113699228703, ..., 26.494479242180162)\n",
              "6     (15.782689948260234, 36.30342075540776, -1.9191972419741354, 3.3269359653094206, 31.08459200105265, ..., 26.044342347347097)\n",
              "7     (2.630084854400053, 27.75967412708452, 19.869329611893015, 18.898942644691566, 24.2558067644761, ..., 23.129980803582765)\n",
              "8     (12.493346294972103, 7.573389511988914, 8.948365208957505, 23.961176345835497, 26.286845524998082, ..., 26.36342673198544)\n",
              "....  ..........................................................................................................................\n",
              "9999  (31.23302935659887, 33.59898790270654, 26.207648474275626, 21.24520780225994, 12.488584232700468, ..., 20.863196228426617)"
            ],
            "text/html": [
              "\n",
              "    <table>\n",
              "      <thead>\n",
              "        <th width=\"10%\">Index</th>\n",
              "        <th width=\"90%\">Result</th>\n",
              "      </thead>\n",
              "      <tbody>\n",
              "        \n",
              "        <tr>\n",
              "          <td>0</td><td>(12.60962860145807, 23.411393855152347, 12.902387883383351, 15.881672880708031, 39.31879393456598, ....</td>\n",
              "        </tr>\n",
              "        \n",
              "        <tr>\n",
              "          <td>1</td><td>(20.42485483206013, 30.039008397334875, 9.162561387237167, 16.422941264222914, 6.209242838336577, .....</td>\n",
              "        </tr>\n",
              "        \n",
              "        <tr>\n",
              "          <td>2</td><td>(1.8910997688020394, 10.599650848621083, 23.674724063979422, 38.87765607178844, -0.1519193070680629,...</td>\n",
              "        </tr>\n",
              "        \n",
              "        <tr>\n",
              "          <td>3</td><td>(26.40856659765892, 27.55536043509231, 7.103340694597154, 44.04278178237345, 30.64736033740435, ...,...</td>\n",
              "        </tr>\n",
              "        \n",
              "        <tr>\n",
              "          <td>4</td><td>(19.38767647042936, 19.53939604792904, 41.02631980708262, 24.335230438862244, 14.030944097768732, .....</td>\n",
              "        </tr>\n",
              "        \n",
              "        <tr>\n",
              "          <td>5</td><td>(19.853902323220574, -0.7551689086243094, 17.882606897114364, 31.845256358230543, -2.068411369922870...</td>\n",
              "        </tr>\n",
              "        \n",
              "        <tr>\n",
              "          <td>6</td><td>(15.782689948260234, 36.30342075540776, -1.9191972419741354, 3.3269359653094206, 31.08459200105265, ...</td>\n",
              "        </tr>\n",
              "        \n",
              "        <tr>\n",
              "          <td>7</td><td>(2.630084854400053, 27.75967412708452, 19.869329611893015, 18.898942644691566, 24.2558067644761, ......</td>\n",
              "        </tr>\n",
              "        \n",
              "        <tr>\n",
              "          <td>8</td><td>(12.493346294972103, 7.573389511988914, 8.948365208957505, 23.961176345835497, 26.286845524998082, ....</td>\n",
              "        </tr>\n",
              "        <tr><td>...</td><td>...</td></tr>\n",
              "        <tr>\n",
              "          <td>9999</td><td>(31.23302935659887, 33.59898790270654, 26.207648474275626, 21.24520780225994, 12.488584232700468, .....</td>\n",
              "        </tr>\n",
              "        \n",
              "      </tbody>\n",
              "    </table>\n",
              "        "
            ]
          },
          "metadata": {},
          "execution_count": 26
        }
      ]
    },
    {
      "cell_type": "code",
      "source": [
        "# The 2nd parameter is the mathematical operation applied to each row of the random vector\n",
        "# Simulate 10,000 means of each random vector of 25 uniform distributed numbers:\n",
        "ymean = RV(P,mean).sim(10000)\n",
        "ymean"
      ],
      "metadata": {
        "colab": {
          "base_uri": "https://localhost:8080/",
          "height": 270
        },
        "id": "yOx8mAYy9yC3",
        "outputId": "1d71377a-a8ee-4d9e-bb25-ccf7084794af"
      },
      "execution_count": null,
      "outputs": [
        {
          "output_type": "execute_result",
          "data": {
            "text/plain": [
              "Index Result\n",
              "0     21.63423373428628\n",
              "1     20.179190419538145\n",
              "2     21.78473317581589\n",
              "3     23.35728000004121\n",
              "4     18.20260542785151\n",
              "5     18.726578751438865\n",
              "6     20.212744064814075\n",
              "7     21.767585302364214\n",
              "8     16.67741893573487\n",
              "....  .................\n",
              "9999  22.83749288381805"
            ],
            "text/html": [
              "\n",
              "    <table>\n",
              "      <thead>\n",
              "        <th width=\"10%\">Index</th>\n",
              "        <th width=\"90%\">Result</th>\n",
              "      </thead>\n",
              "      <tbody>\n",
              "        \n",
              "        <tr>\n",
              "          <td>0</td><td>21.63423373428628</td>\n",
              "        </tr>\n",
              "        \n",
              "        <tr>\n",
              "          <td>1</td><td>20.179190419538145</td>\n",
              "        </tr>\n",
              "        \n",
              "        <tr>\n",
              "          <td>2</td><td>21.78473317581589</td>\n",
              "        </tr>\n",
              "        \n",
              "        <tr>\n",
              "          <td>3</td><td>23.35728000004121</td>\n",
              "        </tr>\n",
              "        \n",
              "        <tr>\n",
              "          <td>4</td><td>18.20260542785151</td>\n",
              "        </tr>\n",
              "        \n",
              "        <tr>\n",
              "          <td>5</td><td>18.726578751438865</td>\n",
              "        </tr>\n",
              "        \n",
              "        <tr>\n",
              "          <td>6</td><td>20.212744064814075</td>\n",
              "        </tr>\n",
              "        \n",
              "        <tr>\n",
              "          <td>7</td><td>21.767585302364214</td>\n",
              "        </tr>\n",
              "        \n",
              "        <tr>\n",
              "          <td>8</td><td>16.67741893573487</td>\n",
              "        </tr>\n",
              "        <tr><td>...</td><td>...</td></tr>\n",
              "        <tr>\n",
              "          <td>9999</td><td>22.83749288381805</td>\n",
              "        </tr>\n",
              "        \n",
              "      </tbody>\n",
              "    </table>\n",
              "        "
            ]
          },
          "metadata": {},
          "execution_count": 27
        }
      ]
    },
    {
      "cell_type": "code",
      "source": [
        "plt.clf()\n",
        "ymean.plot()\n",
        "plt.show()"
      ],
      "metadata": {
        "colab": {
          "base_uri": "https://localhost:8080/",
          "height": 430
        },
        "id": "m5sh-bW09yVC",
        "outputId": "4c4be75c-ea0f-401c-c9e6-242e0ff5958e"
      },
      "execution_count": null,
      "outputs": [
        {
          "output_type": "display_data",
          "data": {
            "text/plain": [
              "<Figure size 640x480 with 1 Axes>"
            ],
            "image/png": "[encoded data removed]"
          },
          "metadata": {}
        }
      ]
    },
    {
      "cell_type": "markdown",
      "source": [
        "***A) CALCULATE THE MEAN AND STANDARD DEVIATION OF THE ymean VARIABLE. HOW SIMILAR OR DIFFERENT ARE THESE VALUES FROM THE MEAN AND STANDARD DEVIATION OF y?***\n",
        "\n"
      ],
      "metadata": {
        "id": "VM60kZXz941_"
      }
    },
    {
      "cell_type": "code",
      "source": [
        "print(\"Mean of  ymean: \",ymean.mean())\n",
        "prom_ymean=ymean.mean()\n",
        "print(\"Standard deviation of ymean: \",ymean.std())\n",
        "std_ymean=ymean.std()\n",
        "\n",
        "print(\"---------------\")\n",
        "\n",
        "print(\"Mean of  y: \",y.mean())\n",
        "prom_y=y.mean()\n",
        "print(\"Standard deviation of y: \",y.std())"
      ],
      "metadata": {
        "colab": {
          "base_uri": "https://localhost:8080/"
        },
        "id": "Ob1lkEzSHJW8",
        "outputId": "58f5d618-241b-4ee2-c669-57164a64c0a1"
      },
      "execution_count": null,
      "outputs": [
        {
          "output_type": "stream",
          "name": "stdout",
          "text": [
            "Mean of  ymean:  20.009215043674953\n",
            "Standard deviation of ymean:  1.964127439863566\n",
            "---------------\n",
            "Mean of  y:  20.070823100063553\n",
            "Standard deviation of y:  10.102431210947147\n"
          ]
        }
      ]
    },
    {
      "cell_type": "markdown",
      "source": [
        "***B) INTERPRET THE ABOVE HISTOGRAM OF THE SAMPLES OF y.***"
      ],
      "metadata": {
        "id": "Db6B9vWd95Jo"
      }
    },
    {
      "cell_type": "code",
      "source": [
        "plt.clf()\n",
        "ymean.plot()\n",
        "y.plot()\n",
        "plt.show()"
      ],
      "metadata": {
        "colab": {
          "base_uri": "https://localhost:8080/",
          "height": 430
        },
        "id": "86nIycxu9y3W",
        "outputId": "6f679f47-1451-4577-d791-f784f3e64010"
      },
      "execution_count": null,
      "outputs": [
        {
          "output_type": "display_data",
          "data": {
            "text/plain": [
              "<Figure size 640x480 with 1 Axes>"
            ],
            "image/png": "[encoded data removed]"
          },
          "metadata": {}
        }
      ]
    },
    {
      "cell_type": "markdown",
      "source": [
        "***C) WHAT DO YOU SEE? COMPARE BOTH HISTOGRAMS. BRIEFLY EXPLAIN WHAT YOU THINK THAT HAPPEND.***\n"
      ],
      "metadata": {
        "id": "7WT0XHHC-EN2"
      }
    },
    {
      "cell_type": "markdown",
      "source": [
        "# Hypothesis Testing"
      ],
      "metadata": {
        "id": "zjTV-P-K-NzS"
      }
    },
    {
      "cell_type": "markdown",
      "source": [
        "# 4.1 CHALLENGE\n",
        "### Collect real data for Microsoft (MSFT) stock and do a hypothesis testing to see whether the mean of monthly cc returns of Microsoft is greater than zero.\n",
        "\n",
        "**You have to do the following:**\n",
        "\n",
        "Run a t-test to compare whether the mean return of MSFT is greater than zero.\n",
        "\n",
        "To do a hypothesis test, we usually do the following steps:\n",
        "\n",
        "\n",
        "\n",
        "1.   DEFINE THE VARIABLE OF STUDY. In this case it will be the mean of MSFT cc returns\n",
        "2.   WRITE THE NULL AND THE ALTERNATIVE HYPOTHESIS.\n",
        "3.   CALCULATE THE STANDARD ERROR, WHICH IS THE STANDARD DEVIATION OF THE VARIABLE OF STUDY.\n",
        "4. CALCULATE THE t-statistic (t-value). EXPLAIN/INTERPRET THE t-statistic.\n",
        "5. CALCULATE THE 95% CONFIDENCE INTERVAL OF THE SAMPLE MEAN\n",
        "6. WRITE YOUR CONCLUSION OF THE t-TEST\n",
        "\n",
        "\n",
        "\n",
        "\n",
        "\n",
        "\n",
        "\n",
        "\n",
        "\n",
        "\n"
      ],
      "metadata": {
        "id": "u91X-J3C-P7l"
      }
    },
    {
      "cell_type": "code",
      "source": [
        "import numpy as np\n",
        "import pandas as pd\n",
        "import yfinance as yf"
      ],
      "metadata": {
        "id": "Thls2iBek4iZ"
      },
      "execution_count": null,
      "outputs": []
    },
    {
      "cell_type": "code",
      "source": [
        "MSFT=yf.download(tickers=\"MSFT\", start=\"2017-01-01\",interval=\"1mo\")"
      ],
      "metadata": {
        "colab": {
          "base_uri": "https://localhost:8080/"
        },
        "id": "hbJHxkYWk45I",
        "outputId": "50a21cc4-ec17-46ad-e4f7-8c3fc85c154d"
      },
      "execution_count": null,
      "outputs": [
        {
          "output_type": "stream",
          "name": "stdout",
          "text": [
            "\r[*********************100%%**********************]  1 of 1 completed\n"
          ]
        }
      ]
    },
    {
      "cell_type": "code",
      "source": [
        "MSFT.head()"
      ],
      "metadata": {
        "colab": {
          "base_uri": "https://localhost:8080/",
          "height": 237
        },
        "id": "sQ_14as4k5TF",
        "outputId": "f606803e-b0e3-4912-8c1f-ba4d334fc628"
      },
      "execution_count": null,
      "outputs": [
        {
          "output_type": "execute_result",
          "data": {
            "text/plain": [
              "                 Open       High        Low      Close  Adj Close     Volume\n",
              "Date                                                                        \n",
              "2017-01-01  62.790001  65.910004  61.950001  64.650002  59.148556  493453500\n",
              "2017-02-01  64.360001  65.239998  62.750000  63.980000  58.535568  440744000\n",
              "2017-03-01  64.129997  66.190002  63.619999  65.860001  60.620899  489169700\n",
              "2017-04-01  65.809998  69.139999  64.849998  68.459999  63.014046  433191200\n",
              "2017-05-01  68.680000  70.739998  67.139999  69.839996  64.284264  517218500"
            ],
            "text/html": [
              "\n",
              "  <div id=\"df-a90e5e5a-5c4f-422d-8e45-f134aecb5971\" class=\"colab-df-container\">\n",
              "    <div>\n",
              "<style scoped>\n",
              "    .dataframe tbody tr th:only-of-type {\n",
              "        vertical-align: middle;\n",
              "    }\n",
              "\n",
              "    .dataframe tbody tr th {\n",
              "        vertical-align: top;\n",
              "    }\n",
              "\n",
              "    .dataframe thead th {\n",
              "        text-align: right;\n",
              "    }\n",
              "</style>\n",
              "<table border=\"1\" class=\"dataframe\">\n",
              "  <thead>\n",
              "    <tr style=\"text-align: right;\">\n",
              "      <th></th>\n",
              "      <th>Open</th>\n",
              "      <th>High</th>\n",
              "      <th>Low</th>\n",
              "      <th>Close</th>\n",
              "      <th>Adj Close</th>\n",
              "      <th>Volume</th>\n",
              "    </tr>\n",
              "    <tr>\n",
              "      <th>Date</th>\n",
              "      <th></th>\n",
              "      <th></th>\n",
              "      <th></th>\n",
              "      <th></th>\n",
              "      <th></th>\n",
              "      <th></th>\n",
              "    </tr>\n",
              "  </thead>\n",
              "  <tbody>\n",
              "    <tr>\n",
              "      <th>2017-01-01</th>\n",
              "      <td>62.790001</td>\n",
              "      <td>65.910004</td>\n",
              "      <td>61.950001</td>\n",
              "      <td>64.650002</td>\n",
              "      <td>59.148556</td>\n",
              "      <td>493453500</td>\n",
              "    </tr>\n",
              "    <tr>\n",
              "      <th>2017-02-01</th>\n",
              "      <td>64.360001</td>\n",
              "      <td>65.239998</td>\n",
              "      <td>62.750000</td>\n",
              "      <td>63.980000</td>\n",
              "      <td>58.535568</td>\n",
              "      <td>440744000</td>\n",
              "    </tr>\n",
              "    <tr>\n",
              "      <th>2017-03-01</th>\n",
              "      <td>64.129997</td>\n",
              "      <td>66.190002</td>\n",
              "      <td>63.619999</td>\n",
              "      <td>65.860001</td>\n",
              "      <td>60.620899</td>\n",
              "      <td>489169700</td>\n",
              "    </tr>\n",
              "    <tr>\n",
              "      <th>2017-04-01</th>\n",
              "      <td>65.809998</td>\n",
              "      <td>69.139999</td>\n",
              "      <td>64.849998</td>\n",
              "      <td>68.459999</td>\n",
              "      <td>63.014046</td>\n",
              "      <td>433191200</td>\n",
              "    </tr>\n",
              "    <tr>\n",
              "      <th>2017-05-01</th>\n",
              "      <td>68.680000</td>\n",
              "      <td>70.739998</td>\n",
              "      <td>67.139999</td>\n",
              "      <td>69.839996</td>\n",
              "      <td>64.284264</td>\n",
              "      <td>517218500</td>\n",
              "    </tr>\n",
              "  </tbody>\n",
              "</table>\n",
              "</div>\n",
              "    <div class=\"colab-df-buttons\">\n",
              "\n",
              "  <div class=\"colab-df-container\">\n",
              "    <button class=\"colab-df-convert\" onclick=\"convertToInteractive('df-a90e5e5a-5c4f-422d-8e45-f134aecb5971')\"\n",
              "            title=\"Convert this dataframe to an interactive table.\"\n",
              "            style=\"display:none;\">\n",
              "\n",
              "  <svg xmlns=\"http://www.w3.org/2000/svg\" height=\"24px\" viewBox=\"0 -960 960 960\">\n",
              "    <path d=\"M120-120v-720h720v720H120Zm60-500h600v-160H180v160Zm220 220h160v-160H400v160Zm0 220h160v-160H400v160ZM180-400h160v-160H180v160Zm440 0h160v-160H620v160ZM180-180h160v-160H180v160Zm440 0h160v-160H620v160Z\"/>\n",
              "  </svg>\n",
              "    </button>\n",
              "\n",
              "  <style>\n",
              "    .colab-df-container {\n",
              "      display:flex;\n",
              "      gap: 12px;\n",
              "    }\n",
              "\n",
              "    .colab-df-convert {\n",
              "      background-color: #E8F0FE;\n",
              "      border: none;\n",
              "      border-radius: 50%;\n",
              "      cursor: pointer;\n",
              "      display: none;\n",
              "      fill: #1967D2;\n",
              "      height: 32px;\n",
              "      padding: 0 0 0 0;\n",
              "      width: 32px;\n",
              "    }\n",
              "\n",
              "    .colab-df-convert:hover {\n",
              "      background-color: #E2EBFA;\n",
              "      box-shadow: 0px 1px 2px rgba(60, 64, 67, 0.3), 0px 1px 3px 1px rgba(60, 64, 67, 0.15);\n",
              "      fill: #174EA6;\n",
              "    }\n",
              "\n",
              "    .colab-df-buttons div {\n",
              "      margin-bottom: 4px;\n",
              "    }\n",
              "\n",
              "    [theme=dark] .colab-df-convert {\n",
              "      background-color: #3B4455;\n",
              "      fill: #D2E3FC;\n",
              "    }\n",
              "\n",
              "    [theme=dark] .colab-df-convert:hover {\n",
              "      background-color: #434B5C;\n",
              "      box-shadow: 0px 1px 3px 1px rgba(0, 0, 0, 0.15);\n",
              "      filter: drop-shadow(0px 1px 2px rgba(0, 0, 0, 0.3));\n",
              "      fill: #FFFFFF;\n",
              "    }\n",
              "  </style>\n",
              "\n",
              "    <script>\n",
              "      const buttonEl =\n",
              "        document.querySelector('#df-a90e5e5a-5c4f-422d-8e45-f134aecb5971 button.colab-df-convert');\n",
              "      buttonEl.style.display =\n",
              "        google.colab.kernel.accessAllowed ? 'block' : 'none';\n",
              "\n",
              "      async function convertToInteractive(key) {\n",
              "        const element = document.querySelector('#df-a90e5e5a-5c4f-422d-8e45-f134aecb5971');\n",
              "        const dataTable =\n",
              "          await google.colab.kernel.invokeFunction('convertToInteractive',\n",
              "                                                    [key], {});\n",
              "        if (!dataTable) return;\n",
              "\n",
              "        const docLinkHtml = 'Like what you see? Visit the ' +\n",
              "          '<a target=\"_blank\" href=https://colab.research.google.com/notebooks/data_table.ipynb>data table notebook</a>'\n",
              "          + ' to learn more about interactive tables.';\n",
              "        element.innerHTML = '';\n",
              "        dataTable['output_type'] = 'display_data';\n",
              "        await google.colab.output.renderOutput(dataTable, element);\n",
              "        const docLink = document.createElement('div');\n",
              "        docLink.innerHTML = docLinkHtml;\n",
              "        element.appendChild(docLink);\n",
              "      }\n",
              "    </script>\n",
              "  </div>\n",
              "\n",
              "\n",
              "<div id=\"df-d321539d-3b62-41ff-8fd4-b9ca21108eb2\">\n",
              "  <button class=\"colab-df-quickchart\" onclick=\"quickchart('df-d321539d-3b62-41ff-8fd4-b9ca21108eb2')\"\n",
              "            title=\"Suggest charts.\"\n",
              "            style=\"display:none;\">\n",
              "\n",
              "<svg xmlns=\"http://www.w3.org/2000/svg\" height=\"24px\"viewBox=\"0 0 24 24\"\n",
              "     width=\"24px\">\n",
              "    <g>\n",
              "        <path d=\"M19 3H5c-1.1 0-2 .9-2 2v14c0 1.1.9 2 2 2h14c1.1 0 2-.9 2-2V5c0-1.1-.9-2-2-2zM9 17H7v-7h2v7zm4 0h-2V7h2v10zm4 0h-2v-4h2v4z\"/>\n",
              "    </g>\n",
              "</svg>\n",
              "  </button>\n",
              "\n",
              "<style>\n",
              "  .colab-df-quickchart {\n",
              "    background-color: #E8F0FE;\n",
              "    border: none;\n",
              "    border-radius: 50%;\n",
              "    cursor: pointer;\n",
              "    display: none;\n",
              "    fill: #1967D2;\n",
              "    height: 32px;\n",
              "    padding: 0 0 0 0;\n",
              "    width: 32px;\n",
              "  }\n",
              "\n",
              "  .colab-df-quickchart:hover {\n",
              "    background-color: #E2EBFA;\n",
              "    box-shadow: 0px 1px 2px rgba(60, 64, 67, 0.3), 0px 1px 3px 1px rgba(60, 64, 67, 0.15);\n",
              "    fill: #174EA6;\n",
              "  }\n",
              "\n",
              "  [theme=dark] .colab-df-quickchart {\n",
              "    background-color: #3B4455;\n",
              "    fill: #D2E3FC;\n",
              "  }\n",
              "\n",
              "  [theme=dark] .colab-df-quickchart:hover {\n",
              "    background-color: #434B5C;\n",
              "    box-shadow: 0px 1px 3px 1px rgba(0, 0, 0, 0.15);\n",
              "    filter: drop-shadow(0px 1px 2px rgba(0, 0, 0, 0.3));\n",
              "    fill: #FFFFFF;\n",
              "  }\n",
              "</style>\n",
              "\n",
              "  <script>\n",
              "    async function quickchart(key) {\n",
              "      const charts = await google.colab.kernel.invokeFunction(\n",
              "          'suggestCharts', [key], {});\n",
              "    }\n",
              "    (() => {\n",
              "      let quickchartButtonEl =\n",
              "        document.querySelector('#df-d321539d-3b62-41ff-8fd4-b9ca21108eb2 button');\n",
              "      quickchartButtonEl.style.display =\n",
              "        google.colab.kernel.accessAllowed ? 'block' : 'none';\n",
              "    })();\n",
              "  </script>\n",
              "</div>\n",
              "    </div>\n",
              "  </div>\n"
            ]
          },
          "metadata": {},
          "execution_count": 33
        }
      ]
    },
    {
      "cell_type": "code",
      "source": [
        "MSFT[\"R\"] = (MSFT[\"Adj Close\"] / MSFT[\"Adj Close\"].shift(1)) - 1\n",
        "print(MSFT[\"R\"])"
      ],
      "metadata": {
        "colab": {
          "base_uri": "https://localhost:8080/"
        },
        "id": "uBb0zLvVm0If",
        "outputId": "6a803661-29d7-42b3-da0e-86c67067c2d3"
      },
      "execution_count": null,
      "outputs": [
        {
          "output_type": "stream",
          "name": "stdout",
          "text": [
            "Date\n",
            "2017-01-01         NaN\n",
            "2017-02-01   -0.010364\n",
            "2017-03-01    0.035625\n",
            "2017-04-01    0.039477\n",
            "2017-05-01    0.020158\n",
            "                ...   \n",
            "2023-04-01    0.065765\n",
            "2023-05-01    0.068769\n",
            "2023-06-01    0.039266\n",
            "2023-07-01   -0.013567\n",
            "2023-08-01   -0.038037\n",
            "Name: R, Length: 80, dtype: float64\n"
          ]
        }
      ]
    },
    {
      "cell_type": "code",
      "source": [
        "MSFT[\"r\"] = np.log(MSFT['Adj Close']).diff(1)\n",
        "# I keep a new object with only returns:\n",
        "MSFT_R = MSFT[['R','r']].copy()"
      ],
      "metadata": {
        "id": "t4aum-pHm0hr"
      },
      "execution_count": null,
      "outputs": []
    },
    {
      "cell_type": "code",
      "source": [
        "MSFT_R.head()"
      ],
      "metadata": {
        "colab": {
          "base_uri": "https://localhost:8080/",
          "height": 237
        },
        "id": "cNk7y1M-m1He",
        "outputId": "cb6f3e5d-6c11-4fcc-b271-61d56eaecf81"
      },
      "execution_count": null,
      "outputs": [
        {
          "output_type": "execute_result",
          "data": {
            "text/plain": [
              "                   R         r\n",
              "Date                          \n",
              "2017-01-01       NaN       NaN\n",
              "2017-02-01 -0.010364 -0.010418\n",
              "2017-03-01  0.035625  0.035005\n",
              "2017-04-01  0.039477  0.038718\n",
              "2017-05-01  0.020158  0.019957"
            ],
            "text/html": [
              "\n",
              "  <div id=\"df-82cdbe48-24c6-4eef-96b1-e7d1b2b67431\" class=\"colab-df-container\">\n",
              "    <div>\n",
              "<style scoped>\n",
              "    .dataframe tbody tr th:only-of-type {\n",
              "        vertical-align: middle;\n",
              "    }\n",
              "\n",
              "    .dataframe tbody tr th {\n",
              "        vertical-align: top;\n",
              "    }\n",
              "\n",
              "    .dataframe thead th {\n",
              "        text-align: right;\n",
              "    }\n",
              "</style>\n",
              "<table border=\"1\" class=\"dataframe\">\n",
              "  <thead>\n",
              "    <tr style=\"text-align: right;\">\n",
              "      <th></th>\n",
              "      <th>R</th>\n",
              "      <th>r</th>\n",
              "    </tr>\n",
              "    <tr>\n",
              "      <th>Date</th>\n",
              "      <th></th>\n",
              "      <th></th>\n",
              "    </tr>\n",
              "  </thead>\n",
              "  <tbody>\n",
              "    <tr>\n",
              "      <th>2017-01-01</th>\n",
              "      <td>NaN</td>\n",
              "      <td>NaN</td>\n",
              "    </tr>\n",
              "    <tr>\n",
              "      <th>2017-02-01</th>\n",
              "      <td>-0.010364</td>\n",
              "      <td>-0.010418</td>\n",
              "    </tr>\n",
              "    <tr>\n",
              "      <th>2017-03-01</th>\n",
              "      <td>0.035625</td>\n",
              "      <td>0.035005</td>\n",
              "    </tr>\n",
              "    <tr>\n",
              "      <th>2017-04-01</th>\n",
              "      <td>0.039477</td>\n",
              "      <td>0.038718</td>\n",
              "    </tr>\n",
              "    <tr>\n",
              "      <th>2017-05-01</th>\n",
              "      <td>0.020158</td>\n",
              "      <td>0.019957</td>\n",
              "    </tr>\n",
              "  </tbody>\n",
              "</table>\n",
              "</div>\n",
              "    <div class=\"colab-df-buttons\">\n",
              "\n",
              "  <div class=\"colab-df-container\">\n",
              "    <button class=\"colab-df-convert\" onclick=\"convertToInteractive('df-82cdbe48-24c6-4eef-96b1-e7d1b2b67431')\"\n",
              "            title=\"Convert this dataframe to an interactive table.\"\n",
              "            style=\"display:none;\">\n",
              "\n",
              "  <svg xmlns=\"http://www.w3.org/2000/svg\" height=\"24px\" viewBox=\"0 -960 960 960\">\n",
              "    <path d=\"M120-120v-720h720v720H120Zm60-500h600v-160H180v160Zm220 220h160v-160H400v160Zm0 220h160v-160H400v160ZM180-400h160v-160H180v160Zm440 0h160v-160H620v160ZM180-180h160v-160H180v160Zm440 0h160v-160H620v160Z\"/>\n",
              "  </svg>\n",
              "    </button>\n",
              "\n",
              "  <style>\n",
              "    .colab-df-container {\n",
              "      display:flex;\n",
              "      gap: 12px;\n",
              "    }\n",
              "\n",
              "    .colab-df-convert {\n",
              "      background-color: #E8F0FE;\n",
              "      border: none;\n",
              "      border-radius: 50%;\n",
              "      cursor: pointer;\n",
              "      display: none;\n",
              "      fill: #1967D2;\n",
              "      height: 32px;\n",
              "      padding: 0 0 0 0;\n",
              "      width: 32px;\n",
              "    }\n",
              "\n",
              "    .colab-df-convert:hover {\n",
              "      background-color: #E2EBFA;\n",
              "      box-shadow: 0px 1px 2px rgba(60, 64, 67, 0.3), 0px 1px 3px 1px rgba(60, 64, 67, 0.15);\n",
              "      fill: #174EA6;\n",
              "    }\n",
              "\n",
              "    .colab-df-buttons div {\n",
              "      margin-bottom: 4px;\n",
              "    }\n",
              "\n",
              "    [theme=dark] .colab-df-convert {\n",
              "      background-color: #3B4455;\n",
              "      fill: #D2E3FC;\n",
              "    }\n",
              "\n",
              "    [theme=dark] .colab-df-convert:hover {\n",
              "      background-color: #434B5C;\n",
              "      box-shadow: 0px 1px 3px 1px rgba(0, 0, 0, 0.15);\n",
              "      filter: drop-shadow(0px 1px 2px rgba(0, 0, 0, 0.3));\n",
              "      fill: #FFFFFF;\n",
              "    }\n",
              "  </style>\n",
              "\n",
              "    <script>\n",
              "      const buttonEl =\n",
              "        document.querySelector('#df-82cdbe48-24c6-4eef-96b1-e7d1b2b67431 button.colab-df-convert');\n",
              "      buttonEl.style.display =\n",
              "        google.colab.kernel.accessAllowed ? 'block' : 'none';\n",
              "\n",
              "      async function convertToInteractive(key) {\n",
              "        const element = document.querySelector('#df-82cdbe48-24c6-4eef-96b1-e7d1b2b67431');\n",
              "        const dataTable =\n",
              "          await google.colab.kernel.invokeFunction('convertToInteractive',\n",
              "                                                    [key], {});\n",
              "        if (!dataTable) return;\n",
              "\n",
              "        const docLinkHtml = 'Like what you see? Visit the ' +\n",
              "          '<a target=\"_blank\" href=https://colab.research.google.com/notebooks/data_table.ipynb>data table notebook</a>'\n",
              "          + ' to learn more about interactive tables.';\n",
              "        element.innerHTML = '';\n",
              "        dataTable['output_type'] = 'display_data';\n",
              "        await google.colab.output.renderOutput(dataTable, element);\n",
              "        const docLink = document.createElement('div');\n",
              "        docLink.innerHTML = docLinkHtml;\n",
              "        element.appendChild(docLink);\n",
              "      }\n",
              "    </script>\n",
              "  </div>\n",
              "\n",
              "\n",
              "<div id=\"df-f84af9c0-d3a4-4fe8-b282-c9dd4d14f3b0\">\n",
              "  <button class=\"colab-df-quickchart\" onclick=\"quickchart('df-f84af9c0-d3a4-4fe8-b282-c9dd4d14f3b0')\"\n",
              "            title=\"Suggest charts.\"\n",
              "            style=\"display:none;\">\n",
              "\n",
              "<svg xmlns=\"http://www.w3.org/2000/svg\" height=\"24px\"viewBox=\"0 0 24 24\"\n",
              "     width=\"24px\">\n",
              "    <g>\n",
              "        <path d=\"M19 3H5c-1.1 0-2 .9-2 2v14c0 1.1.9 2 2 2h14c1.1 0 2-.9 2-2V5c0-1.1-.9-2-2-2zM9 17H7v-7h2v7zm4 0h-2V7h2v10zm4 0h-2v-4h2v4z\"/>\n",
              "    </g>\n",
              "</svg>\n",
              "  </button>\n",
              "\n",
              "<style>\n",
              "  .colab-df-quickchart {\n",
              "    background-color: #E8F0FE;\n",
              "    border: none;\n",
              "    border-radius: 50%;\n",
              "    cursor: pointer;\n",
              "    display: none;\n",
              "    fill: #1967D2;\n",
              "    height: 32px;\n",
              "    padding: 0 0 0 0;\n",
              "    width: 32px;\n",
              "  }\n",
              "\n",
              "  .colab-df-quickchart:hover {\n",
              "    background-color: #E2EBFA;\n",
              "    box-shadow: 0px 1px 2px rgba(60, 64, 67, 0.3), 0px 1px 3px 1px rgba(60, 64, 67, 0.15);\n",
              "    fill: #174EA6;\n",
              "  }\n",
              "\n",
              "  [theme=dark] .colab-df-quickchart {\n",
              "    background-color: #3B4455;\n",
              "    fill: #D2E3FC;\n",
              "  }\n",
              "\n",
              "  [theme=dark] .colab-df-quickchart:hover {\n",
              "    background-color: #434B5C;\n",
              "    box-shadow: 0px 1px 3px 1px rgba(0, 0, 0, 0.15);\n",
              "    filter: drop-shadow(0px 1px 2px rgba(0, 0, 0, 0.3));\n",
              "    fill: #FFFFFF;\n",
              "  }\n",
              "</style>\n",
              "\n",
              "  <script>\n",
              "    async function quickchart(key) {\n",
              "      const charts = await google.colab.kernel.invokeFunction(\n",
              "          'suggestCharts', [key], {});\n",
              "    }\n",
              "    (() => {\n",
              "      let quickchartButtonEl =\n",
              "        document.querySelector('#df-f84af9c0-d3a4-4fe8-b282-c9dd4d14f3b0 button');\n",
              "      quickchartButtonEl.style.display =\n",
              "        google.colab.kernel.accessAllowed ? 'block' : 'none';\n",
              "    })();\n",
              "  </script>\n",
              "</div>\n",
              "    </div>\n",
              "  </div>\n"
            ]
          },
          "metadata": {},
          "execution_count": 36
        }
      ]
    },
    {
      "cell_type": "code",
      "source": [
        "MSFT_R= MSFT_R.dropna()"
      ],
      "metadata": {
        "id": "V75Ewvjnm1hM"
      },
      "execution_count": null,
      "outputs": []
    },
    {
      "cell_type": "code",
      "source": [
        "MSFT_R.describe()"
      ],
      "metadata": {
        "colab": {
          "base_uri": "https://localhost:8080/",
          "height": 300
        },
        "id": "TPzN-y9Gn6zt",
        "outputId": "59ea5132-261e-4035-b1f5-090080b7722b"
      },
      "execution_count": null,
      "outputs": [
        {
          "output_type": "execute_result",
          "data": {
            "text/plain": [
              "               R          r\n",
              "count  79.000000  79.000000\n",
              "mean    0.023382   0.021467\n",
              "std     0.059014   0.057783\n",
              "min    -0.107376  -0.113590\n",
              "25%    -0.011707  -0.011777\n",
              "50%     0.022543   0.022293\n",
              "75%     0.058105   0.056479\n",
              "max     0.176291   0.162366"
            ],
            "text/html": [
              "\n",
              "  <div id=\"df-f65eb74a-54e0-4e44-af01-2f5ce6c0ae97\" class=\"colab-df-container\">\n",
              "    <div>\n",
              "<style scoped>\n",
              "    .dataframe tbody tr th:only-of-type {\n",
              "        vertical-align: middle;\n",
              "    }\n",
              "\n",
              "    .dataframe tbody tr th {\n",
              "        vertical-align: top;\n",
              "    }\n",
              "\n",
              "    .dataframe thead th {\n",
              "        text-align: right;\n",
              "    }\n",
              "</style>\n",
              "<table border=\"1\" class=\"dataframe\">\n",
              "  <thead>\n",
              "    <tr style=\"text-align: right;\">\n",
              "      <th></th>\n",
              "      <th>R</th>\n",
              "      <th>r</th>\n",
              "    </tr>\n",
              "  </thead>\n",
              "  <tbody>\n",
              "    <tr>\n",
              "      <th>count</th>\n",
              "      <td>79.000000</td>\n",
              "      <td>79.000000</td>\n",
              "    </tr>\n",
              "    <tr>\n",
              "      <th>mean</th>\n",
              "      <td>0.023382</td>\n",
              "      <td>0.021467</td>\n",
              "    </tr>\n",
              "    <tr>\n",
              "      <th>std</th>\n",
              "      <td>0.059014</td>\n",
              "      <td>0.057783</td>\n",
              "    </tr>\n",
              "    <tr>\n",
              "      <th>min</th>\n",
              "      <td>-0.107376</td>\n",
              "      <td>-0.113590</td>\n",
              "    </tr>\n",
              "    <tr>\n",
              "      <th>25%</th>\n",
              "      <td>-0.011707</td>\n",
              "      <td>-0.011777</td>\n",
              "    </tr>\n",
              "    <tr>\n",
              "      <th>50%</th>\n",
              "      <td>0.022543</td>\n",
              "      <td>0.022293</td>\n",
              "    </tr>\n",
              "    <tr>\n",
              "      <th>75%</th>\n",
              "      <td>0.058105</td>\n",
              "      <td>0.056479</td>\n",
              "    </tr>\n",
              "    <tr>\n",
              "      <th>max</th>\n",
              "      <td>0.176291</td>\n",
              "      <td>0.162366</td>\n",
              "    </tr>\n",
              "  </tbody>\n",
              "</table>\n",
              "</div>\n",
              "    <div class=\"colab-df-buttons\">\n",
              "\n",
              "  <div class=\"colab-df-container\">\n",
              "    <button class=\"colab-df-convert\" onclick=\"convertToInteractive('df-f65eb74a-54e0-4e44-af01-2f5ce6c0ae97')\"\n",
              "            title=\"Convert this dataframe to an interactive table.\"\n",
              "            style=\"display:none;\">\n",
              "\n",
              "  <svg xmlns=\"http://www.w3.org/2000/svg\" height=\"24px\" viewBox=\"0 -960 960 960\">\n",
              "    <path d=\"M120-120v-720h720v720H120Zm60-500h600v-160H180v160Zm220 220h160v-160H400v160Zm0 220h160v-160H400v160ZM180-400h160v-160H180v160Zm440 0h160v-160H620v160ZM180-180h160v-160H180v160Zm440 0h160v-160H620v160Z\"/>\n",
              "  </svg>\n",
              "    </button>\n",
              "\n",
              "  <style>\n",
              "    .colab-df-container {\n",
              "      display:flex;\n",
              "      gap: 12px;\n",
              "    }\n",
              "\n",
              "    .colab-df-convert {\n",
              "      background-color: #E8F0FE;\n",
              "      border: none;\n",
              "      border-radius: 50%;\n",
              "      cursor: pointer;\n",
              "      display: none;\n",
              "      fill: #1967D2;\n",
              "      height: 32px;\n",
              "      padding: 0 0 0 0;\n",
              "      width: 32px;\n",
              "    }\n",
              "\n",
              "    .colab-df-convert:hover {\n",
              "      background-color: #E2EBFA;\n",
              "      box-shadow: 0px 1px 2px rgba(60, 64, 67, 0.3), 0px 1px 3px 1px rgba(60, 64, 67, 0.15);\n",
              "      fill: #174EA6;\n",
              "    }\n",
              "\n",
              "    .colab-df-buttons div {\n",
              "      margin-bottom: 4px;\n",
              "    }\n",
              "\n",
              "    [theme=dark] .colab-df-convert {\n",
              "      background-color: #3B4455;\n",
              "      fill: #D2E3FC;\n",
              "    }\n",
              "\n",
              "    [theme=dark] .colab-df-convert:hover {\n",
              "      background-color: #434B5C;\n",
              "      box-shadow: 0px 1px 3px 1px rgba(0, 0, 0, 0.15);\n",
              "      filter: drop-shadow(0px 1px 2px rgba(0, 0, 0, 0.3));\n",
              "      fill: #FFFFFF;\n",
              "    }\n",
              "  </style>\n",
              "\n",
              "    <script>\n",
              "      const buttonEl =\n",
              "        document.querySelector('#df-f65eb74a-54e0-4e44-af01-2f5ce6c0ae97 button.colab-df-convert');\n",
              "      buttonEl.style.display =\n",
              "        google.colab.kernel.accessAllowed ? 'block' : 'none';\n",
              "\n",
              "      async function convertToInteractive(key) {\n",
              "        const element = document.querySelector('#df-f65eb74a-54e0-4e44-af01-2f5ce6c0ae97');\n",
              "        const dataTable =\n",
              "          await google.colab.kernel.invokeFunction('convertToInteractive',\n",
              "                                                    [key], {});\n",
              "        if (!dataTable) return;\n",
              "\n",
              "        const docLinkHtml = 'Like what you see? Visit the ' +\n",
              "          '<a target=\"_blank\" href=https://colab.research.google.com/notebooks/data_table.ipynb>data table notebook</a>'\n",
              "          + ' to learn more about interactive tables.';\n",
              "        element.innerHTML = '';\n",
              "        dataTable['output_type'] = 'display_data';\n",
              "        await google.colab.output.renderOutput(dataTable, element);\n",
              "        const docLink = document.createElement('div');\n",
              "        docLink.innerHTML = docLinkHtml;\n",
              "        element.appendChild(docLink);\n",
              "      }\n",
              "    </script>\n",
              "  </div>\n",
              "\n",
              "\n",
              "<div id=\"df-e784ed87-f177-4efc-945f-8898d4d6a539\">\n",
              "  <button class=\"colab-df-quickchart\" onclick=\"quickchart('df-e784ed87-f177-4efc-945f-8898d4d6a539')\"\n",
              "            title=\"Suggest charts.\"\n",
              "            style=\"display:none;\">\n",
              "\n",
              "<svg xmlns=\"http://www.w3.org/2000/svg\" height=\"24px\"viewBox=\"0 0 24 24\"\n",
              "     width=\"24px\">\n",
              "    <g>\n",
              "        <path d=\"M19 3H5c-1.1 0-2 .9-2 2v14c0 1.1.9 2 2 2h14c1.1 0 2-.9 2-2V5c0-1.1-.9-2-2-2zM9 17H7v-7h2v7zm4 0h-2V7h2v10zm4 0h-2v-4h2v4z\"/>\n",
              "    </g>\n",
              "</svg>\n",
              "  </button>\n",
              "\n",
              "<style>\n",
              "  .colab-df-quickchart {\n",
              "    background-color: #E8F0FE;\n",
              "    border: none;\n",
              "    border-radius: 50%;\n",
              "    cursor: pointer;\n",
              "    display: none;\n",
              "    fill: #1967D2;\n",
              "    height: 32px;\n",
              "    padding: 0 0 0 0;\n",
              "    width: 32px;\n",
              "  }\n",
              "\n",
              "  .colab-df-quickchart:hover {\n",
              "    background-color: #E2EBFA;\n",
              "    box-shadow: 0px 1px 2px rgba(60, 64, 67, 0.3), 0px 1px 3px 1px rgba(60, 64, 67, 0.15);\n",
              "    fill: #174EA6;\n",
              "  }\n",
              "\n",
              "  [theme=dark] .colab-df-quickchart {\n",
              "    background-color: #3B4455;\n",
              "    fill: #D2E3FC;\n",
              "  }\n",
              "\n",
              "  [theme=dark] .colab-df-quickchart:hover {\n",
              "    background-color: #434B5C;\n",
              "    box-shadow: 0px 1px 3px 1px rgba(0, 0, 0, 0.15);\n",
              "    filter: drop-shadow(0px 1px 2px rgba(0, 0, 0, 0.3));\n",
              "    fill: #FFFFFF;\n",
              "  }\n",
              "</style>\n",
              "\n",
              "  <script>\n",
              "    async function quickchart(key) {\n",
              "      const charts = await google.colab.kernel.invokeFunction(\n",
              "          'suggestCharts', [key], {});\n",
              "    }\n",
              "    (() => {\n",
              "      let quickchartButtonEl =\n",
              "        document.querySelector('#df-e784ed87-f177-4efc-945f-8898d4d6a539 button');\n",
              "      quickchartButtonEl.style.display =\n",
              "        google.colab.kernel.accessAllowed ? 'block' : 'none';\n",
              "    })();\n",
              "  </script>\n",
              "</div>\n",
              "    </div>\n",
              "  </div>\n"
            ]
          },
          "metadata": {},
          "execution_count": 38
        }
      ]
    },
    {
      "cell_type": "code",
      "source": [
        "print(\"The monthly average cc return of Microsoft (MSFT) stock is \", MSFT_R[\"r\"].mean())\n",
        "print(\"The monthly variance of Microsoft (MSFT) stock cc return is \", MSFT_R[\"r\"].var())\n",
        "print(\"The monthly standard deviation (volatility) of Microsoft (MSFT) stock cc return is \", MSFT_R[\"r\"].std())\n",
        "print(\"The monthly median cc return of Microsoft (MSFT) stock is \",MSFT_R[\"r\"].median())"
      ],
      "metadata": {
        "colab": {
          "base_uri": "https://localhost:8080/"
        },
        "id": "pmGfKQm9oCvP",
        "outputId": "0b43d4e5-9889-4aed-97df-e12ba9e6d175"
      },
      "execution_count": null,
      "outputs": [
        {
          "output_type": "stream",
          "name": "stdout",
          "text": [
            "The monthly average cc return of Microsoft (MSFT) stock is  0.021467429082940474\n",
            "The monthly variance of Microsoft (MSFT) stock cc return is  0.0033388927880275733\n",
            "The monthly standard deviation (volatility) of Microsoft (MSFT) stock cc return is  0.05778315315061625\n",
            "The monthly median cc return of Microsoft (MSFT) stock is  0.022292849233806145\n"
          ]
        }
      ]
    },
    {
      "cell_type": "code",
      "source": [
        "#DEFINING THE VARIABLE OF STUDY\n",
        "v_study= MSFT_R[\"r\"].mean()\n",
        "v_study"
      ],
      "metadata": {
        "colab": {
          "base_uri": "https://localhost:8080/"
        },
        "id": "lMzuSP9poDO0",
        "outputId": "951289ce-b0fa-4b1d-a4ea-b955dc926c93"
      },
      "execution_count": null,
      "outputs": [
        {
          "output_type": "execute_result",
          "data": {
            "text/plain": [
              "0.021467429082940474"
            ]
          },
          "metadata": {},
          "execution_count": 40
        }
      ]
    },
    {
      "cell_type": "code",
      "source": [
        "import math\n",
        "\n",
        "#DECLARING THE NULL AND THE ALTERNATIVE HYPOTHESIS.\n",
        "alt_hypothesis = 0\n",
        "null_hypothesis = 0\n",
        "\n",
        "#alt_hypothesis >=v_study\n",
        "alt_hypothesis = v_study\n",
        "N = MSFT_R.shape[0]\n",
        "\n",
        "# CALCULATE THE STANDARD ERROR\n",
        "std_error =  MSFT_R[\"r\"].std()/ math.sqrt(N)\n",
        "print(std_error)\n",
        "\n"
      ],
      "metadata": {
        "colab": {
          "base_uri": "https://localhost:8080/"
        },
        "id": "8jafczDZoxPi",
        "outputId": "963ddd90-f90a-4dd7-afca-06432303a286"
      },
      "execution_count": null,
      "outputs": [
        {
          "output_type": "stream",
          "name": "stdout",
          "text": [
            "0.0065011126487113805\n"
          ]
        }
      ]
    },
    {
      "cell_type": "markdown",
      "source": [
        "- CALCULATE THE t-statistic (t-value). EXPLAIN/INTERPRET THE t-statistic.\n"
      ],
      "metadata": {
        "id": "GGeLt6tLqwxD"
      }
    },
    {
      "cell_type": "code",
      "source": [
        "#Calculating THE t-statistic (t-value).\n",
        "\n",
        "t_value = (v_study - null_hypothesis)/(std_error)\n",
        "t_value"
      ],
      "metadata": {
        "colab": {
          "base_uri": "https://localhost:8080/"
        },
        "id": "t5D1FW50oxi-",
        "outputId": "520b35b2-d6a2-45c1-dc32-335f47efadca"
      },
      "execution_count": null,
      "outputs": [
        {
          "output_type": "execute_result",
          "data": {
            "text/plain": [
              "3.3021161519475664"
            ]
          },
          "metadata": {},
          "execution_count": 42
        }
      ]
    },
    {
      "cell_type": "markdown",
      "source": [
        "THE T STATISTIC BASICALLY HELPS DECIDE WHETHER TO SUPPORT OR REJECT THE NULL HYPOTHESIS. WHICH IN THIS CASE IS THAT THE MONTHLY CC RETURN OF MICROSOFT IS 0. IN THIS CASE, I CALCULATED THE T-STATISTIC AND GOT A VALUE OF 3.302 (ROUNDED TO THREE DECIMALS). A HIGHER T, IN THIS SCENARIO, WOULD INDICATE THAT THE CC RETURN OF MICROSOFT GREATLY DIFFERS FROM THE NULL HYPOTHESIS, WHICH STATES THAT THE RETURNS ARE EQUAL TO 0. IN THIS CASE, THIS WOULD INDICATE THAT THE MONTHLY CC RETURN OF MICROSOFT DEVIATES BY MORE THAN 3 STANDARD ERRORS FROM THAT NULL HYPOTHESIS. NONETHELESS, IF I WERE TO REJECT THE NULL HYPOTHESIS, I WOULD ALSO BENEFIT FROM CALCULATING THE CORRESPONDING P-VALUE. ONLY THEN, IF THE P-VALUE WAS SMALL ENOUGH, COULD I HAVE A STRONGER EVIDENCE FOR REJECTING THE NULL HYPOTHESIS."
      ],
      "metadata": {
        "id": "_pWgksvtcG0o"
      }
    },
    {
      "cell_type": "markdown",
      "source": [
        "**CALCULATE THE 95% CONFIDENCE INTERVAL OF THE SAMPLE MEAN**\n",
        "\n",
        "\n",
        "\n",
        "\n"
      ],
      "metadata": {
        "id": "xLs0A435sZ3w"
      }
    },
    {
      "cell_type": "markdown",
      "source": [
        "**WRITE YOUR CONCLUSION OF THE t-TEST**"
      ],
      "metadata": {
        "id": "dtn4LKgGsaSF"
      }
    },
    {
      "cell_type": "code",
      "source": [
        "import scipy.stats as stats\n",
        "\n",
        "\n",
        "# Calculate the critical value for a 95% confidence interval\n",
        "confidence_level = 0.95\n",
        "degrees_of_freedom = N - 1\n",
        "critical_value = stats.t.ppf((1 + confidence_level) / 2, df=degrees_of_freedom)\n",
        "\n",
        "# Calculate the confidence interval\n",
        "confidence_interval_lower = v_study - (critical_value * std_error)\n",
        "confidence_interval_upper = v_study + (critical_value * std_error)\n",
        "\n",
        "print(\"Sample Mean:\", v_study)\n",
        "print(\"Confidence Interval:\", (confidence_interval_lower, confidence_interval_upper))"
      ],
      "metadata": {
        "id": "SBtzRzSWoxyi",
        "colab": {
          "base_uri": "https://localhost:8080/"
        },
        "outputId": "10bed1cc-8b9f-4667-d206-1b6057e6fb11"
      },
      "execution_count": null,
      "outputs": [
        {
          "output_type": "stream",
          "name": "stdout",
          "text": [
            "Sample Mean: 0.021467429082940474\n",
            "Confidence Interval: (0.008524708023907254, 0.0344101501419737)\n"
          ]
        }
      ]
    },
    {
      "cell_type": "markdown",
      "source": [
        "THE 95% CONFIDENCE INTERVAL PROVIDES A RANGE WITHIN WHICH WE ARE 95% CONFIDENT THAT THE TRUE POPULATION MEAN LIES. NOW AS FOR THE T-TEST, THIS IS BASED ON THE CONFIDENCE INTERVAL. IF THE INTERVAL EXCLUDES ZERO, IT PROVIDES ADDITIONAL SUPPORT FOR REJECTING THE NULL HYPOTHESIS, INDICATING THAT THE MICROSOFT STOCK'S MONTHLY CC RETURN IS SIGNIFICANTLY DIFFERENT FROM ZERO AT A 95% CONFIDENCE LEVEL."
      ],
      "metadata": {
        "id": "tm4AWEnA-bwV"
      }
    }
  ]
}