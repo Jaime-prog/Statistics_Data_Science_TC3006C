{
  "cells": [
    {
      "cell_type": "markdown",
      "metadata": {
        "id": "B0mcBx-Q_OJj"
      },
      "source": [
        "_Workshop #2 Advanced AI - Statistics Module_\n",
        "\n",
        "**Name: Jaime Lopez Hernandez**\n",
        "\n",
        "_Date: 17/08/2023_\n"
      ]
    },
    {
      "cell_type": "markdown",
      "metadata": {
        "id": "XQPdFWW28MBf"
      },
      "source": [
        "# Central Limit Theorem"
      ]
    },
    {
      "cell_type": "code",
      "execution_count": 12,
      "metadata": {
        "id": "9w6E4d5vg801"
      },
      "outputs": [],
      "source": [
        "#pip install symbulate"
      ]
    },
    {
      "cell_type": "code",
      "execution_count": 13,
      "metadata": {
        "id": "VnvAEiC84N-9"
      },
      "outputs": [],
      "source": [
        "from symbulate import *\n",
        "#'exec(%matplotlib inline)'\n",
        "import matplotlib\n",
        "\n",
        "import matplotlib.pyplot as plt"
      ]
    },
    {
      "cell_type": "code",
      "execution_count": 43,
      "metadata": {
        "colab": {
          "base_uri": "https://localhost:8080/",
          "height": 430
        },
        "id": "Pid4kwb86zY0",
        "outputId": "83a845e0-2a9d-44a2-d507-706bbb8ccf18"
      },
      "outputs": [
        {
          "data": {
            "image/png": "[encoded data removed]",
            "text/plain": [
              "<Figure size 640x480 with 1 Axes>"
            ]
          },
          "metadata": {},
          "output_type": "display_data"
        }
      ],
      "source": [
        "# clear the plot space:\n",
        "plt.clf()\n",
        "# Define the probability type of function as uniform (probability space)\n",
        "P = Uniform(0,40)\n",
        "# Define X as a random variable of the type P (uniform)\n",
        "X =RV(P)\n",
        "# Simulate the values of X and save the in the x array:\n",
        "x=X.sim(10000)\n",
        "x.plot()\n",
        "plt.show()"
      ]
    },
    {
      "cell_type": "markdown",
      "metadata": {
        "id": "Z6YQJ3Yi_1AE"
      },
      "source": [
        "A) CALCULATE THE MEAN AND STANDARD DEVIATION OF THIS SIMULATED UNIFORM x VARIABLE. HOW CLOSE WERE THESE MEAN AND STANDARD DEVIATION FROM THE THEORETICAL MEAN AND STANDARD DEVIATION?\n",
        "\n",
        "B) INTERPET THE ABOVE HISTOGRAM. WHAT DO YOU SEE? EXPLAIN WITH YOUR WORDS."
      ]
    },
    {
      "cell_type": "markdown",
      "metadata": {
        "id": "MrZt0JvGAAwm"
      },
      "source": [
        "REGARDING THE HISTOGRAM ABOVE WE CAN SEE A DISTRIBUTION WHERE ALL VALUES HAVE THE SAME CHANCE OF OCCURRING (FROM THE PREVIOUSLY DEFINED RANGE OF 0-40), SO THIS ENDS IN A HISTOGRAM WHERE THE FREQUENCY OF DENSITY IS ABOVE 0.020. THIS CREATES A SOMEWHAT UNIFORM DISTRIBUTION."
      ]
    },
    {
      "cell_type": "code",
      "execution_count": 15,
      "metadata": {
        "colab": {
          "base_uri": "https://localhost:8080/"
        },
        "id": "mYOSezfXXpkU",
        "outputId": "9ab37550-ced5-43ba-b605-43ad77c8e74a"
      },
      "outputs": [
        {
          "name": "stdout",
          "output_type": "stream",
          "text": [
            "Simulated Mean: 20.070013514563367\n",
            "Theoretical Mean: 0.5\n",
            "Simulated Standard Deviation: 11.488340325695866\n",
            "Theoretical Standard Deviation: 0.28867513459481287\n"
          ]
        }
      ],
      "source": [
        "import numpy as np\n",
        "import matplotlib.pyplot as plt\n",
        "from scipy.stats import uniform\n",
        "\n",
        "# Define the probability type of function as uniform (probability space)\n",
        "P = uniform(loc=0, scale=40)\n",
        "\n",
        "# Define X as a random variable of the type P (uniform)\n",
        "X = P.rvs(size=10000)  # Simulate the values of X and save them in the x array\n",
        "\n",
        "# Calculate mean and standard deviation of the simulated data\n",
        "simulated_mean = np.mean(X)\n",
        "simulated_std = np.std(X)\n",
        "\n",
        "# Calculate theoretical mean and standard deviation of the uniform distribution\n",
        "theoretical_mean = (P.a + P.b) / 2  # (0 + 40) / 2 = 20\n",
        "theoretical_std = np.sqrt(((P.b - P.a)**2) / 12)  # sqrt((40 - 0)^2 / 12) = 11.547\n",
        "\n",
        "# Print the results\n",
        "print(\"Simulated Mean:\", simulated_mean)\n",
        "print(\"Theoretical Mean:\", theoretical_mean)\n",
        "print(\"Simulated Standard Deviation:\", simulated_std)\n",
        "print(\"Theoretical Standard Deviation:\", theoretical_std)\n",
        "\n"
      ]
    },
    {
      "cell_type": "markdown",
      "metadata": {
        "id": "ZJR68TokDtC9"
      },
      "source": [
        "REGARDING THE DIFFERENCE BETWEEN THE MEANS OF THE SIMULATED AND THEORETICAL, THE DIFFERENCE IS HUGE. ONE REASON THAT MIGHT EXPLAIN THE DISCREPANCY MIGHT BE THE SAMPLE SIZE, AND AS THE SAMPLE GROWS IT MIGHT APPROACH THE THEORETICAL MEAN OF 0.5. REGARDING THE DIFFERENCE OF THE DIFFERENCE IN THE STANDARD DEVIATIONS, THE RESULTS ALSO SHOW A SUBSTANTIAL DIFFERENCE. THIS MIGHT BE ATTRIBUTED TO THE DIFFERENCE WITHIN THE SIMULATED DATA."
      ]
    },
    {
      "cell_type": "code",
      "execution_count": 16,
      "metadata": {
        "id": "itxiY0Il7uHi"
      },
      "outputs": [],
      "source": [
        "# Define the probability space as a vector of 25 uniform random numbers:\n",
        "P = Uniform(0,40) ** 25\n",
        "# Define XVECTOR as a vector of random variables with 25 random values\n",
        "XVECTOR =RV(P)\n",
        "# Simulate 10,000 vectors to get a matrix\n",
        "xmatrix=XVECTOR.sim(10000)"
      ]
    },
    {
      "cell_type": "code",
      "execution_count": 17,
      "metadata": {
        "colab": {
          "base_uri": "https://localhost:8080/",
          "height": 270
        },
        "id": "8dZANhNC7w7m",
        "outputId": "1ff5a779-ad69-4b67-b97f-f9f9482e75d3"
      },
      "outputs": [
        {
          "data": {
            "text/html": [
              "\n",
              "    <table>\n",
              "      <thead>\n",
              "        <th width=\"10%\">Index</th>\n",
              "        <th width=\"90%\">Result</th>\n",
              "      </thead>\n",
              "      <tbody>\n",
              "        \n",
              "        <tr>\n",
              "          <td>0</td><td>(38.80169255988724, 1.5289984655289812, 0.10167033489105304, 4.312850584250141, 10.548787111699918, ...</td>\n",
              "        </tr>\n",
              "        \n",
              "        <tr>\n",
              "          <td>1</td><td>(29.07997944743642, 34.3444979956213, 23.10011085378075, 26.106258547055226, 24.943642342230127, ......</td>\n",
              "        </tr>\n",
              "        \n",
              "        <tr>\n",
              "          <td>2</td><td>(11.729101979630464, 15.546290670707066, 4.316928742572292, 23.97171396053667, 3.824771512289762, .....</td>\n",
              "        </tr>\n",
              "        \n",
              "        <tr>\n",
              "          <td>3</td><td>(27.142266767178477, 6.110496458274972, 12.037868636149888, 17.52963344295491, 12.908438030315397, ....</td>\n",
              "        </tr>\n",
              "        \n",
              "        <tr>\n",
              "          <td>4</td><td>(22.085781373044654, 32.63357061714001, 14.165920419325722, 13.777843488757249, 5.16882344044161, .....</td>\n",
              "        </tr>\n",
              "        \n",
              "        <tr>\n",
              "          <td>5</td><td>(6.273092289194069, 24.561999708960293, 18.4202598691699, 28.507782903256746, 14.846860397185232, .....</td>\n",
              "        </tr>\n",
              "        \n",
              "        <tr>\n",
              "          <td>6</td><td>(18.452318511360076, 7.787563343062196, 5.4450401301739415, 29.934245003234242, 39.10795768825156, ....</td>\n",
              "        </tr>\n",
              "        \n",
              "        <tr>\n",
              "          <td>7</td><td>(32.926137551784905, 4.71446366021691, 35.834902792107876, 19.084305533434733, 14.75872811005595, .....</td>\n",
              "        </tr>\n",
              "        \n",
              "        <tr>\n",
              "          <td>8</td><td>(27.258840999879645, 26.70163175594258, 33.02074065124294, 27.23987941579153, 26.547022097536832, .....</td>\n",
              "        </tr>\n",
              "        <tr><td>...</td><td>...</td></tr>\n",
              "        <tr>\n",
              "          <td>9999</td><td>(18.733717034619968, 4.703648859581757, 10.051544299220856, 38.13115005653101, 11.378465817651705, ....</td>\n",
              "        </tr>\n",
              "        \n",
              "      </tbody>\n",
              "    </table>\n",
              "        "
            ],
            "text/plain": [
              "Index Result\n",
              "0     (38.80169255988724, 1.5289984655289812, 0.10167033489105304, 4.312850584250141, 10.548787111699918, ..., 18.433031551949423)\n",
              "1     (29.07997944743642, 34.3444979956213, 23.10011085378075, 26.106258547055226, 24.943642342230127, ..., 12.333535402995803)\n",
              "2     (11.729101979630464, 15.546290670707066, 4.316928742572292, 23.97171396053667, 3.824771512289762, ..., 37.26589943690505)\n",
              "3     (27.142266767178477, 6.110496458274972, 12.037868636149888, 17.52963344295491, 12.908438030315397, ..., 1.3001889220220164)\n",
              "4     (22.085781373044654, 32.63357061714001, 14.165920419325722, 13.777843488757249, 5.16882344044161, ..., 0.5070679400215816)\n",
              "5     (6.273092289194069, 24.561999708960293, 18.4202598691699, 28.507782903256746, 14.846860397185232, ..., 25.35593783944863)\n",
              "6     (18.452318511360076, 7.787563343062196, 5.4450401301739415, 29.934245003234242, 39.10795768825156, ..., 27.763562437405128)\n",
              "7     (32.926137551784905, 4.71446366021691, 35.834902792107876, 19.084305533434733, 14.75872811005595, ..., 12.367868588496403)\n",
              "8     (27.258840999879645, 26.70163175594258, 33.02074065124294, 27.23987941579153, 26.547022097536832, ..., 37.024092032770696)\n",
              "....  ...........................................................................................................................\n",
              "9999  (18.733717034619968, 4.703648859581757, 10.051544299220856, 38.13115005653101, 11.378465817651705, ..., 19.074835323962375)"
            ]
          },
          "execution_count": 17,
          "metadata": {},
          "output_type": "execute_result"
        }
      ],
      "source": [
        "xmatrix"
      ]
    },
    {
      "cell_type": "code",
      "execution_count": 18,
      "metadata": {
        "colab": {
          "base_uri": "https://localhost:8080/",
          "height": 270
        },
        "id": "fwFRg9al7xOH",
        "outputId": "e442c15e-dc96-4077-f082-a7250e88c9a8"
      },
      "outputs": [
        {
          "data": {
            "text/html": [
              "\n",
              "    <table>\n",
              "      <thead>\n",
              "        <th width=\"10%\">Index</th>\n",
              "        <th width=\"90%\">Result</th>\n",
              "      </thead>\n",
              "      <tbody>\n",
              "        \n",
              "        <tr>\n",
              "          <td>0</td><td>21.197836912074614</td>\n",
              "        </tr>\n",
              "        \n",
              "        <tr>\n",
              "          <td>1</td><td>18.95109528246221</td>\n",
              "        </tr>\n",
              "        \n",
              "        <tr>\n",
              "          <td>2</td><td>18.0373470055601</td>\n",
              "        </tr>\n",
              "        \n",
              "        <tr>\n",
              "          <td>3</td><td>19.30719504354256</td>\n",
              "        </tr>\n",
              "        \n",
              "        <tr>\n",
              "          <td>4</td><td>21.9283447514248</td>\n",
              "        </tr>\n",
              "        \n",
              "        <tr>\n",
              "          <td>5</td><td>21.91172937823385</td>\n",
              "        </tr>\n",
              "        \n",
              "        <tr>\n",
              "          <td>6</td><td>19.289605462801674</td>\n",
              "        </tr>\n",
              "        \n",
              "        <tr>\n",
              "          <td>7</td><td>21.610823963633415</td>\n",
              "        </tr>\n",
              "        \n",
              "        <tr>\n",
              "          <td>8</td><td>17.702514117221625</td>\n",
              "        </tr>\n",
              "        <tr><td>...</td><td>...</td></tr>\n",
              "        <tr>\n",
              "          <td>9999</td><td>16.561930742942526</td>\n",
              "        </tr>\n",
              "        \n",
              "      </tbody>\n",
              "    </table>\n",
              "        "
            ],
            "text/plain": [
              "Index Result\n",
              "0     21.197836912074614\n",
              "1     18.95109528246221\n",
              "2     18.0373470055601\n",
              "3     19.30719504354256\n",
              "4     21.9283447514248\n",
              "5     21.91172937823385\n",
              "6     19.289605462801674\n",
              "7     21.610823963633415\n",
              "8     17.702514117221625\n",
              "....  ..................\n",
              "9999  16.561930742942526"
            ]
          },
          "execution_count": 18,
          "metadata": {},
          "output_type": "execute_result"
        }
      ],
      "source": [
        "# The 2nd parameter is the mathematical operation applied to each row of the random vector\n",
        "# Simulate 10,000 means of each random vector of 25 uniform distributed numbers:\n",
        "xmean = RV(P,mean).sim(10000)\n",
        "xmean"
      ]
    },
    {
      "cell_type": "code",
      "execution_count": 19,
      "metadata": {
        "colab": {
          "base_uri": "https://localhost:8080/",
          "height": 430
        },
        "id": "h-ooA5v67xwp",
        "outputId": "2b3142a7-4c0d-4578-9ac6-fbbe79da685e"
      },
      "outputs": [
        {
          "data": {
            "image/png": "[encoded data removed]",
            "text/plain": [
              "<Figure size 640x480 with 1 Axes>"
            ]
          },
          "metadata": {},
          "output_type": "display_data"
        }
      ],
      "source": [
        "plt.clf()\n",
        "xmean.plot()\n",
        "plt.show()"
      ]
    },
    {
      "cell_type": "markdown",
      "metadata": {
        "id": "21FHXzvI_-iv"
      },
      "source": [
        "Al agrupar valores, (al hacer algunas operaciones (combinaciones lineales))\n",
        "(sumas, promedios, promedio ponderado).\n",
        "Esto se cumple a pesar de la distribución original tras haberle hecho una operación de combinación lineal.\n",
        "\n",
        "- una función de densidad que tenga que ver con la distribución normal.\n",
        "- The variance shrinks, one can estimate the shrinkment. La variabilidad de las medias disminuye. Esta dada por la raiz entre. Depende del tamaño del grupo de donde se sacan los promedios."
      ]
    },
    {
      "cell_type": "markdown",
      "metadata": {
        "id": "q4VdtYUZ8bHN"
      },
      "source": [
        "***CALCULATE THE MEAN AND STANDARD DEVIATION OF THE xmean VARIABLE. HOW SIMILAR\n",
        "OR DIFFERENT ARE THESE VALUES FROM THE MEAN AND STANDARD DEVIATION OF x?***\n",
        "\n"
      ]
    },
    {
      "cell_type": "code",
      "execution_count": 20,
      "metadata": {
        "colab": {
          "base_uri": "https://localhost:8080/"
        },
        "id": "sPn3pRvm8gWf",
        "outputId": "8afac04a-76a2-463f-dfd2-e4f70fad6981"
      },
      "outputs": [
        {
          "name": "stdout",
          "output_type": "stream",
          "text": [
            "Mean of  xmean:  19.973879891167236\n",
            "Standard deviation of xmean:  2.303749935863996\n",
            "--------------------------\n",
            "Mean of  x:  19.902109832744063\n",
            "Standard deviation of x:  11.603438071155598\n"
          ]
        }
      ],
      "source": [
        "print(\"Mean of  xmean: \",xmean.mean())\n",
        "print(\"Standard deviation of xmean: \",xmean.std())\n",
        "\n",
        "print(\"--------------------------\")\n",
        "\n",
        "print(\"Mean of  x: \",x.mean())\n",
        "print(\"Standard deviation of x: \",x.std())"
      ]
    },
    {
      "cell_type": "markdown",
      "metadata": {
        "id": "EnxDP21RTGfM"
      },
      "source": [
        "### ***ANSWER***\n",
        "REGARDING THE MEAN OF X (WHICH ARE THE INDIVIDUAL VALUES) AND THE MEAN OF THE XMEAN (WHICH COMPRISES THE MEAN OF THE MEAN OF EACH INSTANCE) THEY'RE SIMILAR ENDING UP IN A VALUE CLOSE TO 20.\n",
        "\n",
        "NONETHELESS, IN THE STANDARD DEVIATION IS WHERE AN APPRECIABLE DEVIATION IS NOTED. THE SINGLE VALUES OF X END UP HAVING A SD OF 11.5 (IN THIS SCENARIO), AND THE XMEAN HAVING A SD OF 2.3 (IN THIS RUN OF VALUES). THE VARIANCE DRASTICALLY SHRINKS WHEN EFFECTUATING AN OPERATION OF LINEAR COMBINATION."
      ]
    },
    {
      "cell_type": "markdown",
      "metadata": {
        "id": "70j_s2Ra8a3Z"
      },
      "source": [
        "***WHAT DO YOU SEE IN THE ABOVE HISTOGRAM? DOES THE HISTOGRAM OF SAMPLE MEANS OF UNIFORM RANDOM VARIABLE LOOK LIKE A UNIFORM DISTRIBUTED VARIABLE? DO YOU SEE A LOGIC? BRIEFLY EXPLAIN WHAT YOU THINK.***"
      ]
    },
    {
      "cell_type": "markdown",
      "metadata": {
        "id": "xMbdAzaj9LLE"
      },
      "source": [
        "IN THE ABOVE HISTOGRAM WE CAN SEE A NORMAL DISTRIBUTION OF THE DATA AFTER MAKING A LINEAR COMBINATION OPERATION TO THE DATA. ALSO THE INITIAL RANGE (0-40) HAS SIGNIFICANTLY DECREASED DUE TO THE MEAN, BUT ALSO THE FREQUENCY OF DENSITY HAS SUBSTANTIALLY INCREASED AROUND THE 20S.\n",
        "\n",
        "NOW REGARDING THE HISTOGRAM OF SAMPLE MEANS, DUE TO THE CENTRAL LIMIT THEOREM, WHEN MANIPULATING A UNIFROM DISTRIBUTION THROUGH LINEAR COMBINATIONS THEN IT ENDS UP HAVING A NORMAL DISTRIBUTION. IN THIS CASE WE CALCULATED THE MEANS OF THE UNIFROM DISTRIBUTED VARIABLES. SO BY DOING THIS, WE ENDED UP HAVING A NORMAL DISTRIBUTION."
      ]
    },
    {
      "cell_type": "code",
      "execution_count": 21,
      "metadata": {
        "colab": {
          "base_uri": "https://localhost:8080/",
          "height": 430
        },
        "id": "9RhP8BGA7yku",
        "outputId": "496c7384-5ab6-4c2f-bb4b-6caa2995f451"
      },
      "outputs": [
        {
          "data": {
            "image/png": "[encoded data removed]",
            "text/plain": [
              "<Figure size 640x480 with 1 Axes>"
            ]
          },
          "metadata": {},
          "output_type": "display_data"
        }
      ],
      "source": [
        "plt.clf()\n",
        "xmean.plot()\n",
        "x.plot()\n",
        "plt.show()"
      ]
    },
    {
      "cell_type": "markdown",
      "metadata": {
        "id": "iccgUi5f9P_3"
      },
      "source": [
        "***WHAT DO YOU SEE? HOW THE HISTOGRAM OF X DIFFERS FROM THE HISTOGRAM OF THE\n",
        "SAMPLES OF X?***\n",
        "\n",
        "AS I STATED BEFORE,  THE DIFFERENCE AMONG THE TWO GRAHPS IS THAT THE VARIANCE DECREASES WHEN EFFECTUATING A LINEAR COMBINATION TO THE ORIGINAL UNIFORM RANDOM VARIABLES. THIS IS SUPPORTED BY THE CENTRAL LIMIT THEOREM. AS EXPLAINED BEFORE, THE HIGHEST FREQUENCYS TEND TO GATHER AROUND THE 20S. IN THE ORANGE GRAPH ALL THE VALUES, FROM THE RANGE 0-40, ALL POSSIBLE OUTCOMES ARE EQUALLY LIKELY."
      ]
    },
    {
      "cell_type": "code",
      "execution_count": 22,
      "metadata": {
        "colab": {
          "base_uri": "https://localhost:8080/",
          "height": 433
        },
        "id": "5i1tMohi9Qbt",
        "outputId": "8e02ca22-dce5-43e3-a527-9c1d16fe62a2"
      },
      "outputs": [
        {
          "data": {
            "image/png": "[encoded data removed]",
            "text/plain": [
              "<Figure size 640x480 with 1 Axes>"
            ]
          },
          "metadata": {},
          "output_type": "display_data"
        }
      ],
      "source": [
        "# clear the plot space:\n",
        "plt.clf()\n",
        "# Define the probability type of function as uniform (probability space)\n",
        "P = Normal(mean=20, sd=10)\n",
        "# Define Y as a random variable of the type P (normal)\n",
        "Y =RV(P)\n",
        "# Simulate 10,000 values of Y and save the in the x array:\n",
        "y=Y.sim(10000)\n",
        "y.plot()\n",
        "plt.show()"
      ]
    },
    {
      "cell_type": "markdown",
      "metadata": {
        "id": "bOU9FUYU9ZSI"
      },
      "source": [
        "***A) CALCULATE THE MEAN AND STANDARD DEVIATION OF THIS RANDOM y VARIABLE. HOW SIMILAR OR DIFFERENT ARE THESE VALUES FROM THE MEAN AND STANDARD DEVIATION OF THE THEORETICAL MEAN (20) AND THE THEORETICAL STANDARD DEVIATION (10)?***"
      ]
    },
    {
      "cell_type": "code",
      "execution_count": 46,
      "metadata": {
        "colab": {
          "base_uri": "https://localhost:8080/"
        },
        "id": "vWHLwVULLCje",
        "outputId": "7b03ee24-adad-451d-817c-045c096b02c7"
      },
      "outputs": [
        {
          "name": "stdout",
          "output_type": "stream",
          "text": [
            "Simulated Mean of Y: 19.913436220618735\n",
            "Simulated Standard Deviation of Y: 10.054896695508118\n"
          ]
        }
      ],
      "source": [
        "import numpy as np\n",
        "import matplotlib.pyplot as plt\n",
        "from scipy.stats import norm\n",
        "\n",
        "# Define the probability type of function as normal (probability space)\n",
        "P = norm(loc=20, scale=10)\n",
        "\n",
        "# Define Y as a random variable of the type P (normal)\n",
        "Y = P.rvs(size=10000)  # Simulate 10,000 values of Y and save them in the y array\n",
        "\n",
        "# Calculate mean and standard deviation of the simulated data\n",
        "simulated_mean = np.mean(Y)\n",
        "simulated_std = np.std(Y)\n",
        "\n",
        "# Print the results\n",
        "print(\"Simulated Mean of Y:\", simulated_mean)\n",
        "print(\"Simulated Standard Deviation of Y:\", simulated_std)\n"
      ]
    },
    {
      "cell_type": "markdown",
      "metadata": {
        "id": "rgTBYUKxLbsW"
      },
      "source": [
        "AFTER CALCULATING THE MEAN AND THE STANDARD DEVIATION OF THE RANDOM -Y- VARIABLE AND COMPARING THEM TO THE THEORETICAL MEAN OF 20 AND THE THEORETICAL SD OF 10. THE DIFFERENCE IS PRETTY MUCH NEGLECTABLE. SINCE THE DIFFERENCE IS WITHIN THE DECIMALS.\n"
      ]
    },
    {
      "cell_type": "markdown",
      "metadata": {
        "id": "0Up-p38d9ZnQ"
      },
      "source": [
        "***B) WHAT DO YOU SEE? INTERPRET THE HISTOGRAM WITH YOUR WORDS.***"
      ]
    },
    {
      "cell_type": "markdown",
      "metadata": {
        "id": "wsviRntHJzQQ"
      },
      "source": [
        "IN THE HISTOGRAM I CAN SEE THAT EFFECTIVELY THE HIGHEST FREQUENCYS OR DENSITY IS AROUND THE ESTABLISHED MEAN OF 20. ANOTHER THING TO NOTE OF THE HISTOGRAM IS THAT WE MOVE OURSELVES 2 STD FROM THE MEAN.IN THIS CASE +- 20. THEN WE CAN FIND AROUND THE 95 PERCENT OF THE POPULATION. THIS IS INCREDIBLE BECAUSE IT SHOWS THE PROPERTIES OF A NORMAL DISTRIBUTION GRAPH."
      ]
    },
    {
      "cell_type": "code",
      "execution_count": 23,
      "metadata": {
        "id": "eeklrnQw9Qvp"
      },
      "outputs": [],
      "source": [
        "# Define the probability space P as a vector of 25 normal random numbers:\n",
        "P = Normal(mean=20, sd=10) ** 25\n",
        "# Define RANDOMVECTOR as a vector of 25 random variables in the Probability space P\n",
        "RANDOMVECTOR = RV(P)\n",
        "# Simulate 10,000 random vectors with this distribution and save the in ymatrix:\n",
        "ymatrix=RANDOMVECTOR.sim(10000)"
      ]
    },
    {
      "cell_type": "code",
      "execution_count": 24,
      "metadata": {
        "colab": {
          "base_uri": "https://localhost:8080/",
          "height": 270
        },
        "id": "Qji4csaS9rNU",
        "outputId": "c9be10ef-af4b-41b8-b128-affe661cdf13"
      },
      "outputs": [
        {
          "data": {
            "text/html": [
              "\n",
              "    <table>\n",
              "      <thead>\n",
              "        <th width=\"10%\">Index</th>\n",
              "        <th width=\"90%\">Result</th>\n",
              "      </thead>\n",
              "      <tbody>\n",
              "        \n",
              "        <tr>\n",
              "          <td>0</td><td>(18.963401178123018, 5.0606996312895465, 11.964071386781285, 13.261192660196713, 10.360119002626117,...</td>\n",
              "        </tr>\n",
              "        \n",
              "        <tr>\n",
              "          <td>1</td><td>(9.716461811802775, 28.252582952150078, 25.68993745743665, 31.13153648554095, 16.69256240640932, ......</td>\n",
              "        </tr>\n",
              "        \n",
              "        <tr>\n",
              "          <td>2</td><td>(25.52337413645789, -1.1480331190600168, 18.724092624914178, 18.783287978227257, 21.465649426410298,...</td>\n",
              "        </tr>\n",
              "        \n",
              "        <tr>\n",
              "          <td>3</td><td>(33.2858652184551, 29.733678494386183, -5.06073643459597, 19.656166584577804, 3.8474596210850827, .....</td>\n",
              "        </tr>\n",
              "        \n",
              "        <tr>\n",
              "          <td>4</td><td>(8.59999906560268, 15.74458860524679, 31.782908320979917, 20.281967902756673, 3.5883495959979257, .....</td>\n",
              "        </tr>\n",
              "        \n",
              "        <tr>\n",
              "          <td>5</td><td>(35.19209222027601, 13.997317162188892, 21.870094605397394, 17.88289847435113, 12.72762403501364, .....</td>\n",
              "        </tr>\n",
              "        \n",
              "        <tr>\n",
              "          <td>6</td><td>(6.0305778615640016, 13.941665134719397, 25.84198241950045, 16.09717444847778, 15.189017839831067, ....</td>\n",
              "        </tr>\n",
              "        \n",
              "        <tr>\n",
              "          <td>7</td><td>(18.070628099429854, 27.856516989676066, 4.237840202959994, 23.48381238871587, 5.837580391077651, .....</td>\n",
              "        </tr>\n",
              "        \n",
              "        <tr>\n",
              "          <td>8</td><td>(14.500336234430687, 38.98332462446293, 24.395223110728566, 12.937808364975531, 30.676024664258968, ...</td>\n",
              "        </tr>\n",
              "        <tr><td>...</td><td>...</td></tr>\n",
              "        <tr>\n",
              "          <td>9999</td><td>(20.63036859579531, 20.230949497361983, 24.336399945191555, 4.535818364375878, 33.306484159996394, ....</td>\n",
              "        </tr>\n",
              "        \n",
              "      </tbody>\n",
              "    </table>\n",
              "        "
            ],
            "text/plain": [
              "Index Result\n",
              "0     (18.963401178123018, 5.0606996312895465, 11.964071386781285, 13.261192660196713, 10.360119002626117, ..., 39.2828356784465)\n",
              "1     (9.716461811802775, 28.252582952150078, 25.68993745743665, 31.13153648554095, 16.69256240640932, ..., 31.170872029718964)\n",
              "2     (25.52337413645789, -1.1480331190600168, 18.724092624914178, 18.783287978227257, 21.465649426410298, ..., 34.21019179883601)\n",
              "3     (33.2858652184551, 29.733678494386183, -5.06073643459597, 19.656166584577804, 3.8474596210850827, ..., 9.52861641624968)\n",
              "4     (8.59999906560268, 15.74458860524679, 31.782908320979917, 20.281967902756673, 3.5883495959979257, ..., 20.176762788996406)\n",
              "5     (35.19209222027601, 13.997317162188892, 21.870094605397394, 17.88289847435113, 12.72762403501364, ..., 21.29283432717505)\n",
              "6     (6.0305778615640016, 13.941665134719397, 25.84198241950045, 16.09717444847778, 15.189017839831067, ..., 48.378214726560174)\n",
              "7     (18.070628099429854, 27.856516989676066, 4.237840202959994, 23.48381238871587, 5.837580391077651, ..., 14.910135840000162)\n",
              "8     (14.500336234430687, 38.98332462446293, 24.395223110728566, 12.937808364975531, 30.676024664258968, ..., 35.338930941731626)\n",
              "....  ...........................................................................................................................\n",
              "9999  (20.63036859579531, 20.230949497361983, 24.336399945191555, 4.535818364375878, 33.306484159996394, ..., 20.948802423796895)"
            ]
          },
          "execution_count": 24,
          "metadata": {},
          "output_type": "execute_result"
        }
      ],
      "source": [
        "ymatrix"
      ]
    },
    {
      "cell_type": "code",
      "execution_count": 25,
      "metadata": {
        "colab": {
          "base_uri": "https://localhost:8080/",
          "height": 270
        },
        "id": "yOx8mAYy9yC3",
        "outputId": "339bf1f7-88f4-44c2-c895-6bedd1b642c6"
      },
      "outputs": [
        {
          "data": {
            "text/html": [
              "\n",
              "    <table>\n",
              "      <thead>\n",
              "        <th width=\"10%\">Index</th>\n",
              "        <th width=\"90%\">Result</th>\n",
              "      </thead>\n",
              "      <tbody>\n",
              "        \n",
              "        <tr>\n",
              "          <td>0</td><td>19.24771633563077</td>\n",
              "        </tr>\n",
              "        \n",
              "        <tr>\n",
              "          <td>1</td><td>20.486065414757995</td>\n",
              "        </tr>\n",
              "        \n",
              "        <tr>\n",
              "          <td>2</td><td>22.398673804034743</td>\n",
              "        </tr>\n",
              "        \n",
              "        <tr>\n",
              "          <td>3</td><td>21.415765023833856</td>\n",
              "        </tr>\n",
              "        \n",
              "        <tr>\n",
              "          <td>4</td><td>18.83214678354905</td>\n",
              "        </tr>\n",
              "        \n",
              "        <tr>\n",
              "          <td>5</td><td>21.511306362815343</td>\n",
              "        </tr>\n",
              "        \n",
              "        <tr>\n",
              "          <td>6</td><td>17.51332935583425</td>\n",
              "        </tr>\n",
              "        \n",
              "        <tr>\n",
              "          <td>7</td><td>21.146294526737584</td>\n",
              "        </tr>\n",
              "        \n",
              "        <tr>\n",
              "          <td>8</td><td>18.095035841279163</td>\n",
              "        </tr>\n",
              "        <tr><td>...</td><td>...</td></tr>\n",
              "        <tr>\n",
              "          <td>9999</td><td>21.85867912379644</td>\n",
              "        </tr>\n",
              "        \n",
              "      </tbody>\n",
              "    </table>\n",
              "        "
            ],
            "text/plain": [
              "Index Result\n",
              "0     19.24771633563077\n",
              "1     20.486065414757995\n",
              "2     22.398673804034743\n",
              "3     21.415765023833856\n",
              "4     18.83214678354905\n",
              "5     21.511306362815343\n",
              "6     17.51332935583425\n",
              "7     21.146294526737584\n",
              "8     18.095035841279163\n",
              "....  .................\n",
              "9999  21.85867912379644"
            ]
          },
          "execution_count": 25,
          "metadata": {},
          "output_type": "execute_result"
        }
      ],
      "source": [
        "# The 2nd parameter is the mathematical operation applied to each row of the random vector\n",
        "# Simulate 10,000 means of each random vector of 25 uniform distributed numbers:\n",
        "ymean = RV(P,mean).sim(10000)\n",
        "ymean"
      ]
    },
    {
      "cell_type": "code",
      "execution_count": 26,
      "metadata": {
        "colab": {
          "base_uri": "https://localhost:8080/",
          "height": 430
        },
        "id": "m5sh-bW09yVC",
        "outputId": "348fb673-af64-4e7c-a674-3857e1c4aefe"
      },
      "outputs": [
        {
          "data": {
            "image/png": "[encoded data removed]",
            "text/plain": [
              "<Figure size 640x480 with 1 Axes>"
            ]
          },
          "metadata": {},
          "output_type": "display_data"
        }
      ],
      "source": [
        "plt.clf()\n",
        "ymean.plot()\n",
        "plt.show()"
      ]
    },
    {
      "cell_type": "markdown",
      "metadata": {
        "id": "VM60kZXz941_"
      },
      "source": [
        "***A) CALCULATE THE MEAN AND STANDARD DEVIATION OF THE ymean VARIABLE. HOW SIMILAR OR DIFFERENT ARE THESE VALUES FROM THE MEAN AND STANDARD DEVIATION OF y?***\n",
        "\n"
      ]
    },
    {
      "cell_type": "code",
      "execution_count": 27,
      "metadata": {
        "colab": {
          "base_uri": "https://localhost:8080/"
        },
        "id": "Ob1lkEzSHJW8",
        "outputId": "b73a0a93-a218-4d4f-f701-f14047c86990"
      },
      "outputs": [
        {
          "name": "stdout",
          "output_type": "stream",
          "text": [
            "Mean of  ymean:  20.00449011846251\n",
            "Standard deviation of ymean:  1.9928307846780755\n",
            "---------------\n",
            "Mean of  y:  19.87354466691277\n",
            "Standard deviation of y:  10.013875587591146\n"
          ]
        }
      ],
      "source": [
        "print(\"Mean of  ymean: \",ymean.mean())\n",
        "prom_ymean=ymean.mean()\n",
        "print(\"Standard deviation of ymean: \",ymean.std())\n",
        "std_ymean=ymean.std()\n",
        "\n",
        "print(\"---------------\")\n",
        "\n",
        "print(\"Mean of  y: \",y.mean())\n",
        "prom_y=y.mean()\n",
        "print(\"Standard deviation of y: \",y.std())"
      ]
    },
    {
      "cell_type": "markdown",
      "metadata": {
        "id": "RftRrz_IMfMn"
      },
      "source": [
        "THE MEANS OF THE YMEAN AND THE Y ARE PRETTY MUCH SIMILAR, ONLY HAVING A DIFFERENCE AROUND TWO DECIMALS. NONETHELESS, THE STANDARD DEVIATIONS DRASTICALLY CHANGES AMONG THESE TWO. THE SD OF THE Y VARIABLE CONSISTS OF, APPROXIMATELY, 10 AND THE SD OF Y_MEAN CONSISTS OF APPROXIMATELY 2. WHAT I COULD CONCLUDE, IS THAT AFTER MAKING LINEAR COMBINATIONS TO A VARIABLE THE VARIANCE SHRINKS WHICH INFLUENCES IN THE SD."
      ]
    },
    {
      "cell_type": "markdown",
      "metadata": {
        "id": "Db6B9vWd95Jo"
      },
      "source": [
        "***B) INTERPRET THE ABOVE HISTOGRAM OF THE SAMPLES OF y.***"
      ]
    },
    {
      "cell_type": "markdown",
      "metadata": {
        "id": "Jqubxsv2NPRy"
      },
      "source": [
        "IN THIS HISTOGRAM ABOVE OF THE SAMPLES OF -Y- I CAN OBSERVE THE PREVIOUS MENTIONED BEHAVIOUR OF NORMAL DISTRIBUTION. WHEN CALCULATING THE STANDARD DEVIATION IT WAS AROUND 2. AND THE HISTOGRAM EFFECTIVELY SHOWS THAT WHEN MOVING +-2 FROM THE MEAN. WHICH WOULD END UP IN THE RANGE FROM (16-24) WE CAN OBSERVE THE +95% POPULATION LIES WITHIN."
      ]
    },
    {
      "cell_type": "code",
      "execution_count": 28,
      "metadata": {
        "colab": {
          "base_uri": "https://localhost:8080/",
          "height": 430
        },
        "id": "86nIycxu9y3W",
        "outputId": "af6bafb6-7636-4435-ca57-d9816ffdf4f7"
      },
      "outputs": [
        {
          "data": {
            "image/png": "[encoded data removed]",
            "text/plain": [
              "<Figure size 640x480 with 1 Axes>"
            ]
          },
          "metadata": {},
          "output_type": "display_data"
        }
      ],
      "source": [
        "plt.clf()\n",
        "ymean.plot()\n",
        "y.plot()\n",
        "plt.show()"
      ]
    },
    {
      "cell_type": "markdown",
      "metadata": {
        "id": "7WT0XHHC-EN2"
      },
      "source": [
        "***C) WHAT DO YOU SEE? COMPARE BOTH HISTOGRAMS. BRIEFLY EXPLAIN WHAT YOU THINK THAT HAPPEND.***\n",
        "\n",
        "IN THESE HISTOGRAMS, WE CAN OBSERVE WHAT WE HAVE ALREADY STATED IN DIFFERENT OCCASIONS WHICH IS THAT THROUGH THE CLT AND EFFECTUATING LINEAR COMBINATIONS WE END UP HAVING A NORMAL DISTRIBUTION BEHAVIOUR. IN THE PLOT WE CAN SEE THAT THERE ARE SOME OUTLIER DATA BECAUSE THE GRAPH STRETCHES ALL THE WAY FROM -20 TO 60. WE CAN OBSERVE HOW WE GO FROM A HEAVY TAILED DISTRIBUTION TO A LEAN (NORMAL DISTRIBUTION)."
      ]
    },
    {
      "cell_type": "markdown",
      "metadata": {
        "id": "zjTV-P-K-NzS"
      },
      "source": [
        "# Hypothesis Testing"
      ]
    },
    {
      "cell_type": "markdown",
      "metadata": {
        "id": "u91X-J3C-P7l"
      },
      "source": [
        "# 4.1 CHALLENGE\n",
        "### Collect real data for Microsoft (MSFT) stock and do a hypothesis testing to see whether the mean of monthly cc returns of Microsoft is greater than zero.\n",
        "\n",
        "**You have to do the following:**\n",
        "\n",
        "Run a t-test to compare whether the mean return of MSFT is greater than zero.\n",
        "\n",
        "To do a hypothesis test, we usually do the following steps:\n",
        "\n",
        "\n",
        "\n",
        "1.   DEFINE THE VARIABLE OF STUDY. In this case it will be the mean of MSFT cc returns\n",
        "2.   WRITE THE NULL AND THE ALTERNATIVE HYPOTHESIS.\n",
        "3.   CALCULATE THE STANDARD ERROR, WHICH IS THE STANDARD DEVIATION OF THE VARIABLE OF STUDY.\n",
        "4. CALCULATE THE t-statistic (t-value). EXPLAIN/INTERPRET THE t-statistic.\n",
        "5. CALCULATE THE 95% CONFIDENCE INTERVAL OF THE SAMPLE MEAN\n",
        "6. WRITE YOUR CONCLUSION OF THE t-TEST\n",
        "\n",
        "\n",
        "\n",
        "\n",
        "\n",
        "\n",
        "\n",
        "\n",
        "\n",
        "\n"
      ]
    },
    {
      "cell_type": "code",
      "execution_count": 29,
      "metadata": {
        "id": "Thls2iBek4iZ"
      },
      "outputs": [],
      "source": [
        "import numpy as np\n",
        "import pandas as pd\n",
        "import yfinance as yf"
      ]
    },
    {
      "cell_type": "code",
      "execution_count": 30,
      "metadata": {
        "colab": {
          "base_uri": "https://localhost:8080/"
        },
        "id": "hbJHxkYWk45I",
        "outputId": "745ad8cc-d202-463a-fdfd-da9a6c4713d0"
      },
      "outputs": [
        {
          "name": "stdout",
          "output_type": "stream",
          "text": [
            "\r[*********************100%%**********************]  1 of 1 completed\n"
          ]
        }
      ],
      "source": [
        "MSFT=yf.download(tickers=\"MSFT\", start=\"2017-01-01\",interval=\"1mo\")"
      ]
    },
    {
      "cell_type": "code",
      "execution_count": 31,
      "metadata": {
        "colab": {
          "base_uri": "https://localhost:8080/",
          "height": 237
        },
        "id": "sQ_14as4k5TF",
        "outputId": "23b9655d-e0c0-4785-dc7f-9d5dc7740e52"
      },
      "outputs": [
        {
          "data": {
            "text/html": [
              "\n",
              "  <div id=\"df-14ba92bb-732e-4db3-bcb5-f59093567b62\" class=\"colab-df-container\">\n",
              "    <div>\n",
              "<style scoped>\n",
              "    .dataframe tbody tr th:only-of-type {\n",
              "        vertical-align: middle;\n",
              "    }\n",
              "\n",
              "    .dataframe tbody tr th {\n",
              "        vertical-align: top;\n",
              "    }\n",
              "\n",
              "    .dataframe thead th {\n",
              "        text-align: right;\n",
              "    }\n",
              "</style>\n",
              "<table border=\"1\" class=\"dataframe\">\n",
              "  <thead>\n",
              "    <tr style=\"text-align: right;\">\n",
              "      <th></th>\n",
              "      <th>Open</th>\n",
              "      <th>High</th>\n",
              "      <th>Low</th>\n",
              "      <th>Close</th>\n",
              "      <th>Adj Close</th>\n",
              "      <th>Volume</th>\n",
              "    </tr>\n",
              "    <tr>\n",
              "      <th>Date</th>\n",
              "      <th></th>\n",
              "      <th></th>\n",
              "      <th></th>\n",
              "      <th></th>\n",
              "      <th></th>\n",
              "      <th></th>\n",
              "    </tr>\n",
              "  </thead>\n",
              "  <tbody>\n",
              "    <tr>\n",
              "      <th>2017-01-01</th>\n",
              "      <td>62.790001</td>\n",
              "      <td>65.910004</td>\n",
              "      <td>61.950001</td>\n",
              "      <td>64.650002</td>\n",
              "      <td>59.148556</td>\n",
              "      <td>493453500</td>\n",
              "    </tr>\n",
              "    <tr>\n",
              "      <th>2017-02-01</th>\n",
              "      <td>64.360001</td>\n",
              "      <td>65.239998</td>\n",
              "      <td>62.750000</td>\n",
              "      <td>63.980000</td>\n",
              "      <td>58.535568</td>\n",
              "      <td>440744000</td>\n",
              "    </tr>\n",
              "    <tr>\n",
              "      <th>2017-03-01</th>\n",
              "      <td>64.129997</td>\n",
              "      <td>66.190002</td>\n",
              "      <td>63.619999</td>\n",
              "      <td>65.860001</td>\n",
              "      <td>60.620888</td>\n",
              "      <td>489169700</td>\n",
              "    </tr>\n",
              "    <tr>\n",
              "      <th>2017-04-01</th>\n",
              "      <td>65.809998</td>\n",
              "      <td>69.139999</td>\n",
              "      <td>64.849998</td>\n",
              "      <td>68.459999</td>\n",
              "      <td>63.014050</td>\n",
              "      <td>433191200</td>\n",
              "    </tr>\n",
              "    <tr>\n",
              "      <th>2017-05-01</th>\n",
              "      <td>68.680000</td>\n",
              "      <td>70.739998</td>\n",
              "      <td>67.139999</td>\n",
              "      <td>69.839996</td>\n",
              "      <td>64.284294</td>\n",
              "      <td>517218500</td>\n",
              "    </tr>\n",
              "  </tbody>\n",
              "</table>\n",
              "</div>\n",
              "    <div class=\"colab-df-buttons\">\n",
              "\n",
              "  <div class=\"colab-df-container\">\n",
              "    <button class=\"colab-df-convert\" onclick=\"convertToInteractive('df-14ba92bb-732e-4db3-bcb5-f59093567b62')\"\n",
              "            title=\"Convert this dataframe to an interactive table.\"\n",
              "            style=\"display:none;\">\n",
              "\n",
              "  <svg xmlns=\"http://www.w3.org/2000/svg\" height=\"24px\" viewBox=\"0 -960 960 960\">\n",
              "    <path d=\"M120-120v-720h720v720H120Zm60-500h600v-160H180v160Zm220 220h160v-160H400v160Zm0 220h160v-160H400v160ZM180-400h160v-160H180v160Zm440 0h160v-160H620v160ZM180-180h160v-160H180v160Zm440 0h160v-160H620v160Z\"/>\n",
              "  </svg>\n",
              "    </button>\n",
              "\n",
              "  <style>\n",
              "    .colab-df-container {\n",
              "      display:flex;\n",
              "      gap: 12px;\n",
              "    }\n",
              "\n",
              "    .colab-df-convert {\n",
              "      background-color: #E8F0FE;\n",
              "      border: none;\n",
              "      border-radius: 50%;\n",
              "      cursor: pointer;\n",
              "      display: none;\n",
              "      fill: #1967D2;\n",
              "      height: 32px;\n",
              "      padding: 0 0 0 0;\n",
              "      width: 32px;\n",
              "    }\n",
              "\n",
              "    .colab-df-convert:hover {\n",
              "      background-color: #E2EBFA;\n",
              "      box-shadow: 0px 1px 2px rgba(60, 64, 67, 0.3), 0px 1px 3px 1px rgba(60, 64, 67, 0.15);\n",
              "      fill: #174EA6;\n",
              "    }\n",
              "\n",
              "    .colab-df-buttons div {\n",
              "      margin-bottom: 4px;\n",
              "    }\n",
              "\n",
              "    [theme=dark] .colab-df-convert {\n",
              "      background-color: #3B4455;\n",
              "      fill: #D2E3FC;\n",
              "    }\n",
              "\n",
              "    [theme=dark] .colab-df-convert:hover {\n",
              "      background-color: #434B5C;\n",
              "      box-shadow: 0px 1px 3px 1px rgba(0, 0, 0, 0.15);\n",
              "      filter: drop-shadow(0px 1px 2px rgba(0, 0, 0, 0.3));\n",
              "      fill: #FFFFFF;\n",
              "    }\n",
              "  </style>\n",
              "\n",
              "    <script>\n",
              "      const buttonEl =\n",
              "        document.querySelector('#df-14ba92bb-732e-4db3-bcb5-f59093567b62 button.colab-df-convert');\n",
              "      buttonEl.style.display =\n",
              "        google.colab.kernel.accessAllowed ? 'block' : 'none';\n",
              "\n",
              "      async function convertToInteractive(key) {\n",
              "        const element = document.querySelector('#df-14ba92bb-732e-4db3-bcb5-f59093567b62');\n",
              "        const dataTable =\n",
              "          await google.colab.kernel.invokeFunction('convertToInteractive',\n",
              "                                                    [key], {});\n",
              "        if (!dataTable) return;\n",
              "\n",
              "        const docLinkHtml = 'Like what you see? Visit the ' +\n",
              "          '<a target=\"_blank\" href=https://colab.research.google.com/notebooks/data_table.ipynb>data table notebook</a>'\n",
              "          + ' to learn more about interactive tables.';\n",
              "        element.innerHTML = '';\n",
              "        dataTable['output_type'] = 'display_data';\n",
              "        await google.colab.output.renderOutput(dataTable, element);\n",
              "        const docLink = document.createElement('div');\n",
              "        docLink.innerHTML = docLinkHtml;\n",
              "        element.appendChild(docLink);\n",
              "      }\n",
              "    </script>\n",
              "  </div>\n",
              "\n",
              "\n",
              "<div id=\"df-da39fd4c-44f1-420b-b5e6-45a1e017b5fd\">\n",
              "  <button class=\"colab-df-quickchart\" onclick=\"quickchart('df-da39fd4c-44f1-420b-b5e6-45a1e017b5fd')\"\n",
              "            title=\"Suggest charts.\"\n",
              "            style=\"display:none;\">\n",
              "\n",
              "<svg xmlns=\"http://www.w3.org/2000/svg\" height=\"24px\"viewBox=\"0 0 24 24\"\n",
              "     width=\"24px\">\n",
              "    <g>\n",
              "        <path d=\"M19 3H5c-1.1 0-2 .9-2 2v14c0 1.1.9 2 2 2h14c1.1 0 2-.9 2-2V5c0-1.1-.9-2-2-2zM9 17H7v-7h2v7zm4 0h-2V7h2v10zm4 0h-2v-4h2v4z\"/>\n",
              "    </g>\n",
              "</svg>\n",
              "  </button>\n",
              "\n",
              "<style>\n",
              "  .colab-df-quickchart {\n",
              "    background-color: #E8F0FE;\n",
              "    border: none;\n",
              "    border-radius: 50%;\n",
              "    cursor: pointer;\n",
              "    display: none;\n",
              "    fill: #1967D2;\n",
              "    height: 32px;\n",
              "    padding: 0 0 0 0;\n",
              "    width: 32px;\n",
              "  }\n",
              "\n",
              "  .colab-df-quickchart:hover {\n",
              "    background-color: #E2EBFA;\n",
              "    box-shadow: 0px 1px 2px rgba(60, 64, 67, 0.3), 0px 1px 3px 1px rgba(60, 64, 67, 0.15);\n",
              "    fill: #174EA6;\n",
              "  }\n",
              "\n",
              "  [theme=dark] .colab-df-quickchart {\n",
              "    background-color: #3B4455;\n",
              "    fill: #D2E3FC;\n",
              "  }\n",
              "\n",
              "  [theme=dark] .colab-df-quickchart:hover {\n",
              "    background-color: #434B5C;\n",
              "    box-shadow: 0px 1px 3px 1px rgba(0, 0, 0, 0.15);\n",
              "    filter: drop-shadow(0px 1px 2px rgba(0, 0, 0, 0.3));\n",
              "    fill: #FFFFFF;\n",
              "  }\n",
              "</style>\n",
              "\n",
              "  <script>\n",
              "    async function quickchart(key) {\n",
              "      const charts = await google.colab.kernel.invokeFunction(\n",
              "          'suggestCharts', [key], {});\n",
              "    }\n",
              "    (() => {\n",
              "      let quickchartButtonEl =\n",
              "        document.querySelector('#df-da39fd4c-44f1-420b-b5e6-45a1e017b5fd button');\n",
              "      quickchartButtonEl.style.display =\n",
              "        google.colab.kernel.accessAllowed ? 'block' : 'none';\n",
              "    })();\n",
              "  </script>\n",
              "</div>\n",
              "    </div>\n",
              "  </div>\n"
            ],
            "text/plain": [
              "                 Open       High        Low      Close  Adj Close     Volume\n",
              "Date                                                                        \n",
              "2017-01-01  62.790001  65.910004  61.950001  64.650002  59.148556  493453500\n",
              "2017-02-01  64.360001  65.239998  62.750000  63.980000  58.535568  440744000\n",
              "2017-03-01  64.129997  66.190002  63.619999  65.860001  60.620888  489169700\n",
              "2017-04-01  65.809998  69.139999  64.849998  68.459999  63.014050  433191200\n",
              "2017-05-01  68.680000  70.739998  67.139999  69.839996  64.284294  517218500"
            ]
          },
          "execution_count": 31,
          "metadata": {},
          "output_type": "execute_result"
        }
      ],
      "source": [
        "MSFT.head()"
      ]
    },
    {
      "cell_type": "code",
      "execution_count": 32,
      "metadata": {
        "colab": {
          "base_uri": "https://localhost:8080/"
        },
        "id": "uBb0zLvVm0If",
        "outputId": "c174e86c-bd4f-43e0-acac-4b7112d905c2"
      },
      "outputs": [
        {
          "name": "stdout",
          "output_type": "stream",
          "text": [
            "Date\n",
            "2017-01-01         NaN\n",
            "2017-02-01   -0.010364\n",
            "2017-03-01    0.035625\n",
            "2017-04-01    0.039478\n",
            "2017-05-01    0.020158\n",
            "                ...   \n",
            "2023-04-01    0.065765\n",
            "2023-05-01    0.068769\n",
            "2023-06-01    0.039266\n",
            "2023-07-01   -0.013567\n",
            "2023-08-01   -0.021450\n",
            "Name: R, Length: 80, dtype: float64\n"
          ]
        }
      ],
      "source": [
        "MSFT[\"R\"] = (MSFT[\"Adj Close\"] / MSFT[\"Adj Close\"].shift(1)) - 1\n",
        "print(MSFT[\"R\"])"
      ]
    },
    {
      "cell_type": "code",
      "execution_count": 33,
      "metadata": {
        "id": "t4aum-pHm0hr"
      },
      "outputs": [],
      "source": [
        "MSFT[\"r\"] = np.log(MSFT['Adj Close']).diff(1)\n",
        "# I keep a new object with only returns:\n",
        "MSFT_R = MSFT[['R','r']].copy()"
      ]
    },
    {
      "cell_type": "code",
      "execution_count": 34,
      "metadata": {
        "colab": {
          "base_uri": "https://localhost:8080/",
          "height": 237
        },
        "id": "cNk7y1M-m1He",
        "outputId": "8522baac-1fa2-4214-d154-eb4ed08dce8e"
      },
      "outputs": [
        {
          "data": {
            "text/html": [
              "\n",
              "  <div id=\"df-ed3b8b1a-3f46-47e1-96e0-4663490ce22f\" class=\"colab-df-container\">\n",
              "    <div>\n",
              "<style scoped>\n",
              "    .dataframe tbody tr th:only-of-type {\n",
              "        vertical-align: middle;\n",
              "    }\n",
              "\n",
              "    .dataframe tbody tr th {\n",
              "        vertical-align: top;\n",
              "    }\n",
              "\n",
              "    .dataframe thead th {\n",
              "        text-align: right;\n",
              "    }\n",
              "</style>\n",
              "<table border=\"1\" class=\"dataframe\">\n",
              "  <thead>\n",
              "    <tr style=\"text-align: right;\">\n",
              "      <th></th>\n",
              "      <th>R</th>\n",
              "      <th>r</th>\n",
              "    </tr>\n",
              "    <tr>\n",
              "      <th>Date</th>\n",
              "      <th></th>\n",
              "      <th></th>\n",
              "    </tr>\n",
              "  </thead>\n",
              "  <tbody>\n",
              "    <tr>\n",
              "      <th>2017-01-01</th>\n",
              "      <td>NaN</td>\n",
              "      <td>NaN</td>\n",
              "    </tr>\n",
              "    <tr>\n",
              "      <th>2017-02-01</th>\n",
              "      <td>-0.010364</td>\n",
              "      <td>-0.010418</td>\n",
              "    </tr>\n",
              "    <tr>\n",
              "      <th>2017-03-01</th>\n",
              "      <td>0.035625</td>\n",
              "      <td>0.035005</td>\n",
              "    </tr>\n",
              "    <tr>\n",
              "      <th>2017-04-01</th>\n",
              "      <td>0.039478</td>\n",
              "      <td>0.038718</td>\n",
              "    </tr>\n",
              "    <tr>\n",
              "      <th>2017-05-01</th>\n",
              "      <td>0.020158</td>\n",
              "      <td>0.019958</td>\n",
              "    </tr>\n",
              "  </tbody>\n",
              "</table>\n",
              "</div>\n",
              "    <div class=\"colab-df-buttons\">\n",
              "\n",
              "  <div class=\"colab-df-container\">\n",
              "    <button class=\"colab-df-convert\" onclick=\"convertToInteractive('df-ed3b8b1a-3f46-47e1-96e0-4663490ce22f')\"\n",
              "            title=\"Convert this dataframe to an interactive table.\"\n",
              "            style=\"display:none;\">\n",
              "\n",
              "  <svg xmlns=\"http://www.w3.org/2000/svg\" height=\"24px\" viewBox=\"0 -960 960 960\">\n",
              "    <path d=\"M120-120v-720h720v720H120Zm60-500h600v-160H180v160Zm220 220h160v-160H400v160Zm0 220h160v-160H400v160ZM180-400h160v-160H180v160Zm440 0h160v-160H620v160ZM180-180h160v-160H180v160Zm440 0h160v-160H620v160Z\"/>\n",
              "  </svg>\n",
              "    </button>\n",
              "\n",
              "  <style>\n",
              "    .colab-df-container {\n",
              "      display:flex;\n",
              "      gap: 12px;\n",
              "    }\n",
              "\n",
              "    .colab-df-convert {\n",
              "      background-color: #E8F0FE;\n",
              "      border: none;\n",
              "      border-radius: 50%;\n",
              "      cursor: pointer;\n",
              "      display: none;\n",
              "      fill: #1967D2;\n",
              "      height: 32px;\n",
              "      padding: 0 0 0 0;\n",
              "      width: 32px;\n",
              "    }\n",
              "\n",
              "    .colab-df-convert:hover {\n",
              "      background-color: #E2EBFA;\n",
              "      box-shadow: 0px 1px 2px rgba(60, 64, 67, 0.3), 0px 1px 3px 1px rgba(60, 64, 67, 0.15);\n",
              "      fill: #174EA6;\n",
              "    }\n",
              "\n",
              "    .colab-df-buttons div {\n",
              "      margin-bottom: 4px;\n",
              "    }\n",
              "\n",
              "    [theme=dark] .colab-df-convert {\n",
              "      background-color: #3B4455;\n",
              "      fill: #D2E3FC;\n",
              "    }\n",
              "\n",
              "    [theme=dark] .colab-df-convert:hover {\n",
              "      background-color: #434B5C;\n",
              "      box-shadow: 0px 1px 3px 1px rgba(0, 0, 0, 0.15);\n",
              "      filter: drop-shadow(0px 1px 2px rgba(0, 0, 0, 0.3));\n",
              "      fill: #FFFFFF;\n",
              "    }\n",
              "  </style>\n",
              "\n",
              "    <script>\n",
              "      const buttonEl =\n",
              "        document.querySelector('#df-ed3b8b1a-3f46-47e1-96e0-4663490ce22f button.colab-df-convert');\n",
              "      buttonEl.style.display =\n",
              "        google.colab.kernel.accessAllowed ? 'block' : 'none';\n",
              "\n",
              "      async function convertToInteractive(key) {\n",
              "        const element = document.querySelector('#df-ed3b8b1a-3f46-47e1-96e0-4663490ce22f');\n",
              "        const dataTable =\n",
              "          await google.colab.kernel.invokeFunction('convertToInteractive',\n",
              "                                                    [key], {});\n",
              "        if (!dataTable) return;\n",
              "\n",
              "        const docLinkHtml = 'Like what you see? Visit the ' +\n",
              "          '<a target=\"_blank\" href=https://colab.research.google.com/notebooks/data_table.ipynb>data table notebook</a>'\n",
              "          + ' to learn more about interactive tables.';\n",
              "        element.innerHTML = '';\n",
              "        dataTable['output_type'] = 'display_data';\n",
              "        await google.colab.output.renderOutput(dataTable, element);\n",
              "        const docLink = document.createElement('div');\n",
              "        docLink.innerHTML = docLinkHtml;\n",
              "        element.appendChild(docLink);\n",
              "      }\n",
              "    </script>\n",
              "  </div>\n",
              "\n",
              "\n",
              "<div id=\"df-f398e1dc-930b-4ede-833f-0329a324e054\">\n",
              "  <button class=\"colab-df-quickchart\" onclick=\"quickchart('df-f398e1dc-930b-4ede-833f-0329a324e054')\"\n",
              "            title=\"Suggest charts.\"\n",
              "            style=\"display:none;\">\n",
              "\n",
              "<svg xmlns=\"http://www.w3.org/2000/svg\" height=\"24px\"viewBox=\"0 0 24 24\"\n",
              "     width=\"24px\">\n",
              "    <g>\n",
              "        <path d=\"M19 3H5c-1.1 0-2 .9-2 2v14c0 1.1.9 2 2 2h14c1.1 0 2-.9 2-2V5c0-1.1-.9-2-2-2zM9 17H7v-7h2v7zm4 0h-2V7h2v10zm4 0h-2v-4h2v4z\"/>\n",
              "    </g>\n",
              "</svg>\n",
              "  </button>\n",
              "\n",
              "<style>\n",
              "  .colab-df-quickchart {\n",
              "    background-color: #E8F0FE;\n",
              "    border: none;\n",
              "    border-radius: 50%;\n",
              "    cursor: pointer;\n",
              "    display: none;\n",
              "    fill: #1967D2;\n",
              "    height: 32px;\n",
              "    padding: 0 0 0 0;\n",
              "    width: 32px;\n",
              "  }\n",
              "\n",
              "  .colab-df-quickchart:hover {\n",
              "    background-color: #E2EBFA;\n",
              "    box-shadow: 0px 1px 2px rgba(60, 64, 67, 0.3), 0px 1px 3px 1px rgba(60, 64, 67, 0.15);\n",
              "    fill: #174EA6;\n",
              "  }\n",
              "\n",
              "  [theme=dark] .colab-df-quickchart {\n",
              "    background-color: #3B4455;\n",
              "    fill: #D2E3FC;\n",
              "  }\n",
              "\n",
              "  [theme=dark] .colab-df-quickchart:hover {\n",
              "    background-color: #434B5C;\n",
              "    box-shadow: 0px 1px 3px 1px rgba(0, 0, 0, 0.15);\n",
              "    filter: drop-shadow(0px 1px 2px rgba(0, 0, 0, 0.3));\n",
              "    fill: #FFFFFF;\n",
              "  }\n",
              "</style>\n",
              "\n",
              "  <script>\n",
              "    async function quickchart(key) {\n",
              "      const charts = await google.colab.kernel.invokeFunction(\n",
              "          'suggestCharts', [key], {});\n",
              "    }\n",
              "    (() => {\n",
              "      let quickchartButtonEl =\n",
              "        document.querySelector('#df-f398e1dc-930b-4ede-833f-0329a324e054 button');\n",
              "      quickchartButtonEl.style.display =\n",
              "        google.colab.kernel.accessAllowed ? 'block' : 'none';\n",
              "    })();\n",
              "  </script>\n",
              "</div>\n",
              "    </div>\n",
              "  </div>\n"
            ],
            "text/plain": [
              "                   R         r\n",
              "Date                          \n",
              "2017-01-01       NaN       NaN\n",
              "2017-02-01 -0.010364 -0.010418\n",
              "2017-03-01  0.035625  0.035005\n",
              "2017-04-01  0.039478  0.038718\n",
              "2017-05-01  0.020158  0.019958"
            ]
          },
          "execution_count": 34,
          "metadata": {},
          "output_type": "execute_result"
        }
      ],
      "source": [
        "MSFT_R.head()"
      ]
    },
    {
      "cell_type": "code",
      "execution_count": 35,
      "metadata": {
        "id": "V75Ewvjnm1hM"
      },
      "outputs": [],
      "source": [
        "MSFT_R= MSFT_R.dropna()"
      ]
    },
    {
      "cell_type": "code",
      "execution_count": 36,
      "metadata": {
        "colab": {
          "base_uri": "https://localhost:8080/",
          "height": 300
        },
        "id": "TPzN-y9Gn6zt",
        "outputId": "0200bff0-159d-41ef-d9b8-a630aec88851"
      },
      "outputs": [
        {
          "data": {
            "text/html": [
              "\n",
              "  <div id=\"df-c6f46200-a825-46d1-8aa1-bf53a1210296\" class=\"colab-df-container\">\n",
              "    <div>\n",
              "<style scoped>\n",
              "    .dataframe tbody tr th:only-of-type {\n",
              "        vertical-align: middle;\n",
              "    }\n",
              "\n",
              "    .dataframe tbody tr th {\n",
              "        vertical-align: top;\n",
              "    }\n",
              "\n",
              "    .dataframe thead th {\n",
              "        text-align: right;\n",
              "    }\n",
              "</style>\n",
              "<table border=\"1\" class=\"dataframe\">\n",
              "  <thead>\n",
              "    <tr style=\"text-align: right;\">\n",
              "      <th></th>\n",
              "      <th>R</th>\n",
              "      <th>r</th>\n",
              "    </tr>\n",
              "  </thead>\n",
              "  <tbody>\n",
              "    <tr>\n",
              "      <th>count</th>\n",
              "      <td>79.000000</td>\n",
              "      <td>79.000000</td>\n",
              "    </tr>\n",
              "    <tr>\n",
              "      <th>mean</th>\n",
              "      <td>0.023592</td>\n",
              "      <td>0.021684</td>\n",
              "    </tr>\n",
              "    <tr>\n",
              "      <th>std</th>\n",
              "      <td>0.058821</td>\n",
              "      <td>0.057586</td>\n",
              "    </tr>\n",
              "    <tr>\n",
              "      <th>min</th>\n",
              "      <td>-0.107376</td>\n",
              "      <td>-0.113590</td>\n",
              "    </tr>\n",
              "    <tr>\n",
              "      <th>25%</th>\n",
              "      <td>-0.011707</td>\n",
              "      <td>-0.011777</td>\n",
              "    </tr>\n",
              "    <tr>\n",
              "      <th>50%</th>\n",
              "      <td>0.022543</td>\n",
              "      <td>0.022293</td>\n",
              "    </tr>\n",
              "    <tr>\n",
              "      <th>75%</th>\n",
              "      <td>0.058105</td>\n",
              "      <td>0.056479</td>\n",
              "    </tr>\n",
              "    <tr>\n",
              "      <th>max</th>\n",
              "      <td>0.176291</td>\n",
              "      <td>0.162366</td>\n",
              "    </tr>\n",
              "  </tbody>\n",
              "</table>\n",
              "</div>\n",
              "    <div class=\"colab-df-buttons\">\n",
              "\n",
              "  <div class=\"colab-df-container\">\n",
              "    <button class=\"colab-df-convert\" onclick=\"convertToInteractive('df-c6f46200-a825-46d1-8aa1-bf53a1210296')\"\n",
              "            title=\"Convert this dataframe to an interactive table.\"\n",
              "            style=\"display:none;\">\n",
              "\n",
              "  <svg xmlns=\"http://www.w3.org/2000/svg\" height=\"24px\" viewBox=\"0 -960 960 960\">\n",
              "    <path d=\"M120-120v-720h720v720H120Zm60-500h600v-160H180v160Zm220 220h160v-160H400v160Zm0 220h160v-160H400v160ZM180-400h160v-160H180v160Zm440 0h160v-160H620v160ZM180-180h160v-160H180v160Zm440 0h160v-160H620v160Z\"/>\n",
              "  </svg>\n",
              "    </button>\n",
              "\n",
              "  <style>\n",
              "    .colab-df-container {\n",
              "      display:flex;\n",
              "      gap: 12px;\n",
              "    }\n",
              "\n",
              "    .colab-df-convert {\n",
              "      background-color: #E8F0FE;\n",
              "      border: none;\n",
              "      border-radius: 50%;\n",
              "      cursor: pointer;\n",
              "      display: none;\n",
              "      fill: #1967D2;\n",
              "      height: 32px;\n",
              "      padding: 0 0 0 0;\n",
              "      width: 32px;\n",
              "    }\n",
              "\n",
              "    .colab-df-convert:hover {\n",
              "      background-color: #E2EBFA;\n",
              "      box-shadow: 0px 1px 2px rgba(60, 64, 67, 0.3), 0px 1px 3px 1px rgba(60, 64, 67, 0.15);\n",
              "      fill: #174EA6;\n",
              "    }\n",
              "\n",
              "    .colab-df-buttons div {\n",
              "      margin-bottom: 4px;\n",
              "    }\n",
              "\n",
              "    [theme=dark] .colab-df-convert {\n",
              "      background-color: #3B4455;\n",
              "      fill: #D2E3FC;\n",
              "    }\n",
              "\n",
              "    [theme=dark] .colab-df-convert:hover {\n",
              "      background-color: #434B5C;\n",
              "      box-shadow: 0px 1px 3px 1px rgba(0, 0, 0, 0.15);\n",
              "      filter: drop-shadow(0px 1px 2px rgba(0, 0, 0, 0.3));\n",
              "      fill: #FFFFFF;\n",
              "    }\n",
              "  </style>\n",
              "\n",
              "    <script>\n",
              "      const buttonEl =\n",
              "        document.querySelector('#df-c6f46200-a825-46d1-8aa1-bf53a1210296 button.colab-df-convert');\n",
              "      buttonEl.style.display =\n",
              "        google.colab.kernel.accessAllowed ? 'block' : 'none';\n",
              "\n",
              "      async function convertToInteractive(key) {\n",
              "        const element = document.querySelector('#df-c6f46200-a825-46d1-8aa1-bf53a1210296');\n",
              "        const dataTable =\n",
              "          await google.colab.kernel.invokeFunction('convertToInteractive',\n",
              "                                                    [key], {});\n",
              "        if (!dataTable) return;\n",
              "\n",
              "        const docLinkHtml = 'Like what you see? Visit the ' +\n",
              "          '<a target=\"_blank\" href=https://colab.research.google.com/notebooks/data_table.ipynb>data table notebook</a>'\n",
              "          + ' to learn more about interactive tables.';\n",
              "        element.innerHTML = '';\n",
              "        dataTable['output_type'] = 'display_data';\n",
              "        await google.colab.output.renderOutput(dataTable, element);\n",
              "        const docLink = document.createElement('div');\n",
              "        docLink.innerHTML = docLinkHtml;\n",
              "        element.appendChild(docLink);\n",
              "      }\n",
              "    </script>\n",
              "  </div>\n",
              "\n",
              "\n",
              "<div id=\"df-ac4a7519-3d6c-45b7-b0e6-af1d9176adf8\">\n",
              "  <button class=\"colab-df-quickchart\" onclick=\"quickchart('df-ac4a7519-3d6c-45b7-b0e6-af1d9176adf8')\"\n",
              "            title=\"Suggest charts.\"\n",
              "            style=\"display:none;\">\n",
              "\n",
              "<svg xmlns=\"http://www.w3.org/2000/svg\" height=\"24px\"viewBox=\"0 0 24 24\"\n",
              "     width=\"24px\">\n",
              "    <g>\n",
              "        <path d=\"M19 3H5c-1.1 0-2 .9-2 2v14c0 1.1.9 2 2 2h14c1.1 0 2-.9 2-2V5c0-1.1-.9-2-2-2zM9 17H7v-7h2v7zm4 0h-2V7h2v10zm4 0h-2v-4h2v4z\"/>\n",
              "    </g>\n",
              "</svg>\n",
              "  </button>\n",
              "\n",
              "<style>\n",
              "  .colab-df-quickchart {\n",
              "    background-color: #E8F0FE;\n",
              "    border: none;\n",
              "    border-radius: 50%;\n",
              "    cursor: pointer;\n",
              "    display: none;\n",
              "    fill: #1967D2;\n",
              "    height: 32px;\n",
              "    padding: 0 0 0 0;\n",
              "    width: 32px;\n",
              "  }\n",
              "\n",
              "  .colab-df-quickchart:hover {\n",
              "    background-color: #E2EBFA;\n",
              "    box-shadow: 0px 1px 2px rgba(60, 64, 67, 0.3), 0px 1px 3px 1px rgba(60, 64, 67, 0.15);\n",
              "    fill: #174EA6;\n",
              "  }\n",
              "\n",
              "  [theme=dark] .colab-df-quickchart {\n",
              "    background-color: #3B4455;\n",
              "    fill: #D2E3FC;\n",
              "  }\n",
              "\n",
              "  [theme=dark] .colab-df-quickchart:hover {\n",
              "    background-color: #434B5C;\n",
              "    box-shadow: 0px 1px 3px 1px rgba(0, 0, 0, 0.15);\n",
              "    filter: drop-shadow(0px 1px 2px rgba(0, 0, 0, 0.3));\n",
              "    fill: #FFFFFF;\n",
              "  }\n",
              "</style>\n",
              "\n",
              "  <script>\n",
              "    async function quickchart(key) {\n",
              "      const charts = await google.colab.kernel.invokeFunction(\n",
              "          'suggestCharts', [key], {});\n",
              "    }\n",
              "    (() => {\n",
              "      let quickchartButtonEl =\n",
              "        document.querySelector('#df-ac4a7519-3d6c-45b7-b0e6-af1d9176adf8 button');\n",
              "      quickchartButtonEl.style.display =\n",
              "        google.colab.kernel.accessAllowed ? 'block' : 'none';\n",
              "    })();\n",
              "  </script>\n",
              "</div>\n",
              "    </div>\n",
              "  </div>\n"
            ],
            "text/plain": [
              "               R          r\n",
              "count  79.000000  79.000000\n",
              "mean    0.023592   0.021684\n",
              "std     0.058821   0.057586\n",
              "min    -0.107376  -0.113590\n",
              "25%    -0.011707  -0.011777\n",
              "50%     0.022543   0.022293\n",
              "75%     0.058105   0.056479\n",
              "max     0.176291   0.162366"
            ]
          },
          "execution_count": 36,
          "metadata": {},
          "output_type": "execute_result"
        }
      ],
      "source": [
        "MSFT_R.describe()"
      ]
    },
    {
      "cell_type": "code",
      "execution_count": 37,
      "metadata": {
        "colab": {
          "base_uri": "https://localhost:8080/"
        },
        "id": "pmGfKQm9oCvP",
        "outputId": "17ae459d-f99f-45fa-8585-b420d4281149"
      },
      "outputs": [
        {
          "name": "stdout",
          "output_type": "stream",
          "text": [
            "The monthly average cc return of Microsoft (MSFT) stock is  0.021683827533645235\n",
            "The monthly variance of Microsoft (MSFT) stock cc return is  0.003316184395496661\n",
            "The monthly standard deviation (volatility) of Microsoft (MSFT) stock cc return is  0.057586321253372846\n",
            "The monthly median cc return of Microsoft (MSFT) stock is  0.022293113049121516\n"
          ]
        }
      ],
      "source": [
        "print(\"The monthly average cc return of Microsoft (MSFT) stock is \", MSFT_R[\"r\"].mean())\n",
        "print(\"The monthly variance of Microsoft (MSFT) stock cc return is \", MSFT_R[\"r\"].var())\n",
        "print(\"The monthly standard deviation (volatility) of Microsoft (MSFT) stock cc return is \", MSFT_R[\"r\"].std())\n",
        "print(\"The monthly median cc return of Microsoft (MSFT) stock is \",MSFT_R[\"r\"].median())"
      ]
    },
    {
      "cell_type": "code",
      "execution_count": 38,
      "metadata": {
        "colab": {
          "base_uri": "https://localhost:8080/"
        },
        "id": "lMzuSP9poDO0",
        "outputId": "5a30f780-05e9-4ba8-efb1-e6e71f1f9600"
      },
      "outputs": [
        {
          "data": {
            "text/plain": [
              "0.021683827533645235"
            ]
          },
          "execution_count": 38,
          "metadata": {},
          "output_type": "execute_result"
        }
      ],
      "source": [
        "#DEFINING THE VARIABLE OF STUDY\n",
        "v_study= MSFT_R[\"r\"].mean()\n",
        "v_study"
      ]
    },
    {
      "cell_type": "code",
      "execution_count": 39,
      "metadata": {
        "colab": {
          "base_uri": "https://localhost:8080/"
        },
        "id": "8jafczDZoxPi",
        "outputId": "e2334884-c3ea-4875-c5ca-160d3b5d172e"
      },
      "outputs": [
        {
          "name": "stdout",
          "output_type": "stream",
          "text": [
            "0.006478967330100893\n"
          ]
        }
      ],
      "source": [
        "import math\n",
        "\n",
        "#DECLARING THE NULL AND THE ALTERNATIVE HYPOTHESIS.\n",
        "alt_hypothesis = 0\n",
        "null_hypothesis = 0\n",
        "\n",
        "#alt_hypothesis >=v_study\n",
        "alt_hypothesis = v_study\n",
        "N = MSFT_R.shape[0]\n",
        "\n",
        "# CALCULATE THE STANDARD ERROR\n",
        "std_error =  MSFT_R[\"r\"].std()/ math.sqrt(N)\n",
        "print(std_error)\n",
        "\n"
      ]
    },
    {
      "cell_type": "markdown",
      "metadata": {
        "id": "GGeLt6tLqwxD"
      },
      "source": [
        "- CALCULATE THE t-statistic (t-value). EXPLAIN/INTERPRET THE t-statistic.\n"
      ]
    },
    {
      "cell_type": "code",
      "execution_count": 40,
      "metadata": {
        "colab": {
          "base_uri": "https://localhost:8080/"
        },
        "id": "t5D1FW50oxi-",
        "outputId": "9432be4e-81ff-4772-f5cf-d58050bbd13d"
      },
      "outputs": [
        {
          "data": {
            "text/plain": [
              "3.3468030364813655"
            ]
          },
          "execution_count": 40,
          "metadata": {},
          "output_type": "execute_result"
        }
      ],
      "source": [
        "#Calculating THE t-statistic (t-value).\n",
        "\n",
        "t_value = (v_study - null_hypothesis)/(std_error)\n",
        "t_value"
      ]
    },
    {
      "cell_type": "markdown",
      "metadata": {
        "id": "_pWgksvtcG0o"
      },
      "source": [
        "THE T STATISTIC BASICALLY HELPS DECIDE WHETHER TO SUPPORT OR REJECT THE NULL HYPOTHESIS. WHICH IN THIS CASE IS THAT THE MONTHLY CC RETURN OF MICROSOFT IS 0. IN THIS CASE, I CALCULATED THE T-STATISTIC AND GOT A VALUE OF 3.302 (ROUNDED TO THREE DECIMALS). A HIGHER T, IN THIS SCENARIO, WOULD INDICATE THAT THE CC RETURN OF MICROSOFT GREATLY DIFFERS FROM THE NULL HYPOTHESIS, WHICH STATES THAT THE RETURNS ARE EQUAL TO 0. IN THIS CASE, THIS WOULD INDICATE THAT THE MONTHLY CC RETURN OF MICROSOFT DEVIATES BY MORE THAN 3 STANDARD ERRORS FROM THAT NULL HYPOTHESIS. NONETHELESS, IF I WERE TO REJECT THE NULL HYPOTHESIS, I WOULD ALSO BENEFIT FROM CALCULATING THE CORRESPONDING P-VALUE. ONLY THEN, IF THE P-VALUE WAS SMALL ENOUGH, COULD I HAVE A STRONGER EVIDENCE FOR REJECTING THE NULL HYPOTHESIS."
      ]
    },
    {
      "cell_type": "markdown",
      "metadata": {
        "id": "xLs0A435sZ3w"
      },
      "source": [
        "**CALCULATE THE 95% CONFIDENCE INTERVAL OF THE SAMPLE MEAN**\n",
        "\n",
        "\n",
        "\n",
        "\n"
      ]
    },
    {
      "cell_type": "markdown",
      "metadata": {
        "id": "dtn4LKgGsaSF"
      },
      "source": [
        "**WRITE YOUR CONCLUSION OF THE t-TEST**"
      ]
    },
    {
      "cell_type": "code",
      "execution_count": 41,
      "metadata": {
        "colab": {
          "base_uri": "https://localhost:8080/"
        },
        "id": "SBtzRzSWoxyi",
        "outputId": "7fd4d7e8-db08-455c-cd2a-4c88d072ee34"
      },
      "outputs": [
        {
          "name": "stdout",
          "output_type": "stream",
          "text": [
            "Sample Mean: 0.021683827533645235\n",
            "Confidence Interval: (0.00878519441724992, 0.03458246065004055)\n"
          ]
        }
      ],
      "source": [
        "import scipy.stats as stats\n",
        "\n",
        "\n",
        "# Calculate the critical value for a 95% confidence interval\n",
        "confidence_level = 0.95\n",
        "degrees_of_freedom = N - 1\n",
        "critical_value = stats.t.ppf((1 + confidence_level) / 2, df=degrees_of_freedom)\n",
        "\n",
        "# Calculate the confidence interval\n",
        "confidence_interval_lower = v_study - (critical_value * std_error)\n",
        "confidence_interval_upper = v_study + (critical_value * std_error)\n",
        "\n",
        "print(\"Sample Mean:\", v_study)\n",
        "print(\"Confidence Interval:\", (confidence_interval_lower, confidence_interval_upper))"
      ]
    },
    {
      "cell_type": "markdown",
      "metadata": {
        "id": "tm4AWEnA-bwV"
      },
      "source": [
        "THE 95% CONFIDENCE INTERVAL PROVIDES A RANGE WITHIN WHICH WE ARE 95% CONFIDENT THAT THE TRUE POPULATION MEAN LIES. NOW AS FOR THE T-TEST, THIS IS BASED ON THE CONFIDENCE INTERVAL. IF THE INTERVAL EXCLUDES ZERO, IT PROVIDES ADDITIONAL SUPPORT FOR REJECTING THE NULL HYPOTHESIS, INDICATING THAT THE MICROSOFT STOCK'S MONTHLY CC RETURN IS SIGNIFICANTLY DIFFERENT FROM ZERO AT A 95% CONFIDENCE LEVEL."
      ]
    }
  ],
  "metadata": {
    "colab": {
      "provenance": []
    },
    "kernelspec": {
      "display_name": "Python 3",
      "name": "python3"
    },
    "language_info": {
      "name": "python",
      "version": "3.11.3"
    }
  },
  "nbformat": 4,
  "nbformat_minor": 0
}
