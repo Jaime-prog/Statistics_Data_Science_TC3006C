{
  "cells": [
    {
      "cell_type": "code",
      "execution_count": 2,
      "metadata": {
        "id": "FtvVVaddeW3q"
      },
      "outputs": [],
      "source": [
        "import numpy as np\n",
        "import pandas as pd\n",
        "import yfinance as yf"
      ]
    },
    {
      "cell_type": "code",
      "execution_count": 3,
      "metadata": {
        "colab": {
          "base_uri": "https://localhost:8080/"
        },
        "id": "zy-J2Cofej-1",
        "outputId": "feffc089-7168-48c5-8216-deac19aa8bdf"
      },
      "outputs": [
        {
          "name": "stdout",
          "output_type": "stream",
          "text": [
            "[*********************100%***********************]  1 of 1 completed\n"
          ]
        }
      ],
      "source": [
        "BTC=yf.download(tickers=\"BTC-USD\", start=\"2017-01-01\",interval=\"1mo\")"
      ]
    },
    {
      "cell_type": "code",
      "execution_count": 4,
      "metadata": {
        "colab": {
          "base_uri": "https://localhost:8080/",
          "height": 455
        },
        "id": "bhu_BkYNekpG",
        "outputId": "d329c58f-eab3-4a3e-d222-8c290666ac39"
      },
      "outputs": [
        {
          "data": {
            "text/html": [
              "<div>\n",
              "<style scoped>\n",
              "    .dataframe tbody tr th:only-of-type {\n",
              "        vertical-align: middle;\n",
              "    }\n",
              "\n",
              "    .dataframe tbody tr th {\n",
              "        vertical-align: top;\n",
              "    }\n",
              "\n",
              "    .dataframe thead th {\n",
              "        text-align: right;\n",
              "    }\n",
              "</style>\n",
              "<table border=\"1\" class=\"dataframe\">\n",
              "  <thead>\n",
              "    <tr style=\"text-align: right;\">\n",
              "      <th></th>\n",
              "      <th>Open</th>\n",
              "      <th>High</th>\n",
              "      <th>Low</th>\n",
              "      <th>Close</th>\n",
              "      <th>Adj Close</th>\n",
              "      <th>Volume</th>\n",
              "    </tr>\n",
              "    <tr>\n",
              "      <th>Date</th>\n",
              "      <th></th>\n",
              "      <th></th>\n",
              "      <th></th>\n",
              "      <th></th>\n",
              "      <th></th>\n",
              "      <th></th>\n",
              "    </tr>\n",
              "  </thead>\n",
              "  <tbody>\n",
              "    <tr>\n",
              "      <th>2017-01-01</th>\n",
              "      <td>963.658020</td>\n",
              "      <td>1191.099976</td>\n",
              "      <td>755.755981</td>\n",
              "      <td>970.403015</td>\n",
              "      <td>970.403015</td>\n",
              "      <td>5143971692</td>\n",
              "    </tr>\n",
              "    <tr>\n",
              "      <th>2017-02-01</th>\n",
              "      <td>970.940979</td>\n",
              "      <td>1200.390015</td>\n",
              "      <td>946.690979</td>\n",
              "      <td>1179.969971</td>\n",
              "      <td>1179.969971</td>\n",
              "      <td>4282761200</td>\n",
              "    </tr>\n",
              "    <tr>\n",
              "      <th>2017-03-01</th>\n",
              "      <td>1180.040039</td>\n",
              "      <td>1280.310059</td>\n",
              "      <td>903.713013</td>\n",
              "      <td>1071.790039</td>\n",
              "      <td>1071.790039</td>\n",
              "      <td>10872455960</td>\n",
              "    </tr>\n",
              "    <tr>\n",
              "      <th>2017-04-01</th>\n",
              "      <td>1071.709961</td>\n",
              "      <td>1347.910034</td>\n",
              "      <td>1061.089966</td>\n",
              "      <td>1347.890015</td>\n",
              "      <td>1347.890015</td>\n",
              "      <td>9757448112</td>\n",
              "    </tr>\n",
              "    <tr>\n",
              "      <th>2017-05-01</th>\n",
              "      <td>1348.300049</td>\n",
              "      <td>2763.709961</td>\n",
              "      <td>1348.300049</td>\n",
              "      <td>2286.409912</td>\n",
              "      <td>2286.409912</td>\n",
              "      <td>34261856864</td>\n",
              "    </tr>\n",
              "    <tr>\n",
              "      <th>...</th>\n",
              "      <td>...</td>\n",
              "      <td>...</td>\n",
              "      <td>...</td>\n",
              "      <td>...</td>\n",
              "      <td>...</td>\n",
              "      <td>...</td>\n",
              "    </tr>\n",
              "    <tr>\n",
              "      <th>2023-04-01</th>\n",
              "      <td>28473.332031</td>\n",
              "      <td>31005.607422</td>\n",
              "      <td>27070.849609</td>\n",
              "      <td>29268.806641</td>\n",
              "      <td>29268.806641</td>\n",
              "      <td>511540319004</td>\n",
              "    </tr>\n",
              "    <tr>\n",
              "      <th>2023-05-01</th>\n",
              "      <td>29227.103516</td>\n",
              "      <td>29820.126953</td>\n",
              "      <td>25878.429688</td>\n",
              "      <td>27219.658203</td>\n",
              "      <td>27219.658203</td>\n",
              "      <td>443473015479</td>\n",
              "    </tr>\n",
              "    <tr>\n",
              "      <th>2023-06-01</th>\n",
              "      <td>27218.412109</td>\n",
              "      <td>31389.539062</td>\n",
              "      <td>24797.167969</td>\n",
              "      <td>30477.251953</td>\n",
              "      <td>30477.251953</td>\n",
              "      <td>481734214225</td>\n",
              "    </tr>\n",
              "    <tr>\n",
              "      <th>2023-07-01</th>\n",
              "      <td>30471.847656</td>\n",
              "      <td>31814.515625</td>\n",
              "      <td>28934.294922</td>\n",
              "      <td>29230.111328</td>\n",
              "      <td>29230.111328</td>\n",
              "      <td>382224489090</td>\n",
              "    </tr>\n",
              "    <tr>\n",
              "      <th>2023-08-01</th>\n",
              "      <td>29230.873047</td>\n",
              "      <td>30176.796875</td>\n",
              "      <td>28657.023438</td>\n",
              "      <td>29202.435547</td>\n",
              "      <td>29202.435547</td>\n",
              "      <td>200932079359</td>\n",
              "    </tr>\n",
              "  </tbody>\n",
              "</table>\n",
              "<p>80 rows × 6 columns</p>\n",
              "</div>"
            ],
            "text/plain": [
              "                    Open          High           Low         Close  \\\n",
              "Date                                                                 \n",
              "2017-01-01    963.658020   1191.099976    755.755981    970.403015   \n",
              "2017-02-01    970.940979   1200.390015    946.690979   1179.969971   \n",
              "2017-03-01   1180.040039   1280.310059    903.713013   1071.790039   \n",
              "2017-04-01   1071.709961   1347.910034   1061.089966   1347.890015   \n",
              "2017-05-01   1348.300049   2763.709961   1348.300049   2286.409912   \n",
              "...                  ...           ...           ...           ...   \n",
              "2023-04-01  28473.332031  31005.607422  27070.849609  29268.806641   \n",
              "2023-05-01  29227.103516  29820.126953  25878.429688  27219.658203   \n",
              "2023-06-01  27218.412109  31389.539062  24797.167969  30477.251953   \n",
              "2023-07-01  30471.847656  31814.515625  28934.294922  29230.111328   \n",
              "2023-08-01  29230.873047  30176.796875  28657.023438  29202.435547   \n",
              "\n",
              "               Adj Close        Volume  \n",
              "Date                                    \n",
              "2017-01-01    970.403015    5143971692  \n",
              "2017-02-01   1179.969971    4282761200  \n",
              "2017-03-01   1071.790039   10872455960  \n",
              "2017-04-01   1347.890015    9757448112  \n",
              "2017-05-01   2286.409912   34261856864  \n",
              "...                  ...           ...  \n",
              "2023-04-01  29268.806641  511540319004  \n",
              "2023-05-01  27219.658203  443473015479  \n",
              "2023-06-01  30477.251953  481734214225  \n",
              "2023-07-01  29230.111328  382224489090  \n",
              "2023-08-01  29202.435547  200932079359  \n",
              "\n",
              "[80 rows x 6 columns]"
            ]
          },
          "execution_count": 4,
          "metadata": {},
          "output_type": "execute_result"
        }
      ],
      "source": [
        "BTC"
      ]
    },
    {
      "cell_type": "code",
      "execution_count": 5,
      "metadata": {
        "colab": {
          "base_uri": "https://localhost:8080/",
          "height": 237
        },
        "id": "mkZvYRYheldF",
        "outputId": "6d7c7ca8-9033-4aa7-e69c-b53a45b825ce"
      },
      "outputs": [
        {
          "data": {
            "text/html": [
              "<div>\n",
              "<style scoped>\n",
              "    .dataframe tbody tr th:only-of-type {\n",
              "        vertical-align: middle;\n",
              "    }\n",
              "\n",
              "    .dataframe tbody tr th {\n",
              "        vertical-align: top;\n",
              "    }\n",
              "\n",
              "    .dataframe thead th {\n",
              "        text-align: right;\n",
              "    }\n",
              "</style>\n",
              "<table border=\"1\" class=\"dataframe\">\n",
              "  <thead>\n",
              "    <tr style=\"text-align: right;\">\n",
              "      <th></th>\n",
              "      <th>Open</th>\n",
              "      <th>High</th>\n",
              "      <th>Low</th>\n",
              "      <th>Close</th>\n",
              "      <th>Adj Close</th>\n",
              "      <th>Volume</th>\n",
              "    </tr>\n",
              "    <tr>\n",
              "      <th>Date</th>\n",
              "      <th></th>\n",
              "      <th></th>\n",
              "      <th></th>\n",
              "      <th></th>\n",
              "      <th></th>\n",
              "      <th></th>\n",
              "    </tr>\n",
              "  </thead>\n",
              "  <tbody>\n",
              "    <tr>\n",
              "      <th>2023-04-01</th>\n",
              "      <td>28473.332031</td>\n",
              "      <td>31005.607422</td>\n",
              "      <td>27070.849609</td>\n",
              "      <td>29268.806641</td>\n",
              "      <td>29268.806641</td>\n",
              "      <td>511540319004</td>\n",
              "    </tr>\n",
              "    <tr>\n",
              "      <th>2023-05-01</th>\n",
              "      <td>29227.103516</td>\n",
              "      <td>29820.126953</td>\n",
              "      <td>25878.429688</td>\n",
              "      <td>27219.658203</td>\n",
              "      <td>27219.658203</td>\n",
              "      <td>443473015479</td>\n",
              "    </tr>\n",
              "    <tr>\n",
              "      <th>2023-06-01</th>\n",
              "      <td>27218.412109</td>\n",
              "      <td>31389.539062</td>\n",
              "      <td>24797.167969</td>\n",
              "      <td>30477.251953</td>\n",
              "      <td>30477.251953</td>\n",
              "      <td>481734214225</td>\n",
              "    </tr>\n",
              "    <tr>\n",
              "      <th>2023-07-01</th>\n",
              "      <td>30471.847656</td>\n",
              "      <td>31814.515625</td>\n",
              "      <td>28934.294922</td>\n",
              "      <td>29230.111328</td>\n",
              "      <td>29230.111328</td>\n",
              "      <td>382224489090</td>\n",
              "    </tr>\n",
              "    <tr>\n",
              "      <th>2023-08-01</th>\n",
              "      <td>29230.873047</td>\n",
              "      <td>30176.796875</td>\n",
              "      <td>28657.023438</td>\n",
              "      <td>29202.435547</td>\n",
              "      <td>29202.435547</td>\n",
              "      <td>200932079359</td>\n",
              "    </tr>\n",
              "  </tbody>\n",
              "</table>\n",
              "</div>"
            ],
            "text/plain": [
              "                    Open          High           Low         Close  \\\n",
              "Date                                                                 \n",
              "2023-04-01  28473.332031  31005.607422  27070.849609  29268.806641   \n",
              "2023-05-01  29227.103516  29820.126953  25878.429688  27219.658203   \n",
              "2023-06-01  27218.412109  31389.539062  24797.167969  30477.251953   \n",
              "2023-07-01  30471.847656  31814.515625  28934.294922  29230.111328   \n",
              "2023-08-01  29230.873047  30176.796875  28657.023438  29202.435547   \n",
              "\n",
              "               Adj Close        Volume  \n",
              "Date                                    \n",
              "2023-04-01  29268.806641  511540319004  \n",
              "2023-05-01  27219.658203  443473015479  \n",
              "2023-06-01  30477.251953  481734214225  \n",
              "2023-07-01  29230.111328  382224489090  \n",
              "2023-08-01  29202.435547  200932079359  "
            ]
          },
          "execution_count": 5,
          "metadata": {},
          "output_type": "execute_result"
        }
      ],
      "source": [
        "BTC.tail()"
      ]
    },
    {
      "cell_type": "code",
      "execution_count": 6,
      "metadata": {
        "colab": {
          "base_uri": "https://localhost:8080/",
          "height": 430
        },
        "id": "x0Jqg6iHemcq",
        "outputId": "dc44f361-93d6-4621-94c8-48682ce527bd"
      },
      "outputs": [
        {
          "data": {
            "image/png": "[encoded data removed]",
            "text/plain": [
              "<Figure size 640x480 with 1 Axes>"
            ]
          },
          "metadata": {},
          "output_type": "display_data"
        }
      ],
      "source": [
        "import matplotlib\n",
        "from matplotlib.pyplot import*\n",
        "plot(BTC[\"Adj Close\"])\n",
        "show()"
      ]
    },
    {
      "cell_type": "code",
      "execution_count": 7,
      "metadata": {
        "colab": {
          "base_uri": "https://localhost:8080/"
        },
        "id": "OQb22stze7zH",
        "outputId": "e7b0b673-a22b-4ce7-8f7a-f9d8e590b061"
      },
      "outputs": [
        {
          "name": "stdout",
          "output_type": "stream",
          "text": [
            "<class 'pandas.core.frame.DataFrame'>\n",
            "DatetimeIndex: 80 entries, 2017-01-01 to 2023-08-01\n",
            "Data columns (total 6 columns):\n",
            " #   Column     Non-Null Count  Dtype  \n",
            "---  ------     --------------  -----  \n",
            " 0   Open       80 non-null     float64\n",
            " 1   High       80 non-null     float64\n",
            " 2   Low        80 non-null     float64\n",
            " 3   Close      80 non-null     float64\n",
            " 4   Adj Close  80 non-null     float64\n",
            " 5   Volume     80 non-null     int64  \n",
            "dtypes: float64(5), int64(1)\n",
            "memory usage: 4.4 KB\n"
          ]
        }
      ],
      "source": [
        "BTC.info()"
      ]
    },
    {
      "cell_type": "code",
      "execution_count": 8,
      "metadata": {
        "colab": {
          "base_uri": "https://localhost:8080/"
        },
        "id": "KVliP9SRe8KG",
        "outputId": "5c649f18-a2ea-489d-a12f-c9aed73fd4cf"
      },
      "outputs": [
        {
          "data": {
            "text/plain": [
              "Open         0\n",
              "High         0\n",
              "Low          0\n",
              "Close        0\n",
              "Adj Close    0\n",
              "Volume       0\n",
              "dtype: int64"
            ]
          },
          "execution_count": 8,
          "metadata": {},
          "output_type": "execute_result"
        }
      ],
      "source": [
        "BTC.isna().sum()"
      ]
    },
    {
      "cell_type": "markdown",
      "metadata": {
        "id": "TcDV0kCGfJuf"
      },
      "source": [
        "Promedio y desviación estandar del volumen\n",
        "\n"
      ]
    },
    {
      "cell_type": "code",
      "execution_count": 9,
      "metadata": {
        "colab": {
          "base_uri": "https://localhost:8080/"
        },
        "id": "UEaw7mNBe8dI",
        "outputId": "0114f18b-a312-4731-eebf-6d19a06756ea"
      },
      "outputs": [
        {
          "name": "stdout",
          "output_type": "stream",
          "text": [
            "The mean for the volume for BTC is equivalent to:  672,011,802,365.0375\n",
            "The standard deviation for the volume for BTC is equivalent to:  523,080,386,014.4694\n"
          ]
        }
      ],
      "source": [
        "mean_of_volume=BTC[\"Volume\"].mean()\n",
        "mean_of_volume=\"{:,}\".format(mean_of_volume)\n",
        "std_of_volume = BTC[\"Volume\"].std()\n",
        "std_of_volume=\"{:,}\".format(std_of_volume)\n",
        "\n",
        "print(\"The mean for the volume for BTC is equivalent to: \", mean_of_volume)\n",
        "print(\"The standard deviation for the volume for BTC is equivalent to: \", std_of_volume)"
      ]
    },
    {
      "cell_type": "markdown",
      "metadata": {
        "id": "V2Brxg0mfpFJ"
      },
      "source": [
        "Histograma de volumen"
      ]
    },
    {
      "cell_type": "code",
      "execution_count": 10,
      "metadata": {
        "colab": {
          "base_uri": "https://localhost:8080/",
          "height": 465
        },
        "id": "n3wpNfnee9AD",
        "outputId": "77c61bf3-f61f-486e-c2c3-1ce738753216"
      },
      "outputs": [
        {
          "data": {
            "text/plain": [
              "<Axes: >"
            ]
          },
          "execution_count": 10,
          "metadata": {},
          "output_type": "execute_result"
        },
        {
          "data": {
            "image/png": "[encoded data removed]",
            "text/plain": [
              "<Figure size 640x480 with 1 Axes>"
            ]
          },
          "metadata": {},
          "output_type": "display_data"
        }
      ],
      "source": [
        "BTC[\"Volume\"].hist()"
      ]
    },
    {
      "cell_type": "code",
      "execution_count": 11,
      "metadata": {
        "colab": {
          "base_uri": "https://localhost:8080/"
        },
        "id": "4G-YWUhKe9Xa",
        "outputId": "cce48e7a-7649-433f-fc18-85e3f2077f71"
      },
      "outputs": [
        {
          "name": "stdout",
          "output_type": "stream",
          "text": [
            "Date\n",
            "2017-01-01         NaN\n",
            "2017-02-01    0.215959\n",
            "2017-03-01   -0.091680\n",
            "2017-04-01    0.257606\n",
            "2017-05-01    0.696288\n",
            "                ...   \n",
            "2023-04-01    0.027752\n",
            "2023-05-01   -0.070011\n",
            "2023-06-01    0.119678\n",
            "2023-07-01   -0.040920\n",
            "2023-08-01   -0.000947\n",
            "Name: R, Length: 80, dtype: float64\n"
          ]
        }
      ],
      "source": [
        "BTC[\"R\"] = (BTC[\"Adj Close\"] / BTC[\"Adj Close\"].shift(1)) - 1\n",
        "print(BTC[\"R\"])"
      ]
    },
    {
      "cell_type": "code",
      "execution_count": 12,
      "metadata": {
        "id": "Xi7qKZX3miU7"
      },
      "outputs": [
        {
          "name": "stdout",
          "output_type": "stream",
          "text": [
            "                    Open          High           Low         Close  \\\n",
            "Date                                                                 \n",
            "2023-04-01  28473.332031  31005.607422  27070.849609  29268.806641   \n",
            "2023-05-01  29227.103516  29820.126953  25878.429688  27219.658203   \n",
            "2023-06-01  27218.412109  31389.539062  24797.167969  30477.251953   \n",
            "2023-07-01  30471.847656  31814.515625  28934.294922  29230.111328   \n",
            "2023-08-01  29230.873047  30176.796875  28657.023438  29202.435547   \n",
            "\n",
            "               Adj Close        Volume         R         r        r2  \n",
            "Date                                                                  \n",
            "2023-04-01  29268.806641  511540319004  0.027752  0.027373  0.027373  \n",
            "2023-05-01  27219.658203  443473015479 -0.070011 -0.072583 -0.072583  \n",
            "2023-06-01  30477.251953  481734214225  0.119678  0.113041  0.113041  \n",
            "2023-07-01  29230.111328  382224489090 -0.040920 -0.041781 -0.041781  \n",
            "2023-08-01  29202.435547  200932079359 -0.000947 -0.000947 -0.000947  \n"
          ]
        }
      ],
      "source": [
        "BTC[\"r\"] = np.log(BTC['Adj Close']) - np.log(BTC['Adj Close'].shift(1))\n",
        "# Another way to do the same as above is appying the diff method to the log:  \n",
        "BTC[\"r2\"] = np.log(BTC['Adj Close']).diff(1)\n",
        "\n",
        "# We can see that r and r2 are the same: \n",
        "print(BTC.tail())\n",
        "\n",
        "# I keep a new object with only returns:\n",
        "BTCR = BTC[['R','r']].copy()"
      ]
    },
    {
      "cell_type": "code",
      "execution_count": 13,
      "metadata": {
        "id": "zfUrDlq2miyk"
      },
      "outputs": [],
      "source": [
        "BTCR= BTCR.dropna()"
      ]
    },
    {
      "cell_type": "code",
      "execution_count": 14,
      "metadata": {
        "colab": {
          "base_uri": "https://localhost:8080/"
        },
        "id": "SK2ilh-KmjNq",
        "outputId": "7bf3812e-9099-430c-d632-bf8ac1c432bb"
      },
      "outputs": [
        {
          "data": {
            "text/plain": [
              "count    79.000000\n",
              "mean      0.070424\n",
              "std       0.242309\n",
              "min      -0.377688\n",
              "25%      -0.077135\n",
              "50%       0.017298\n",
              "75%       0.234738\n",
              "max       0.696288\n",
              "Name: R, dtype: float64"
            ]
          },
          "execution_count": 14,
          "metadata": {},
          "output_type": "execute_result"
        }
      ],
      "source": [
        "sumret = BTC[\"R\"].describe()\n",
        "sumret"
      ]
    },
    {
      "cell_type": "code",
      "execution_count": 15,
      "metadata": {
        "colab": {
          "base_uri": "https://localhost:8080/",
          "height": 488
        },
        "id": "29gbbQNkmjvw",
        "outputId": "1de4ba20-9916-4220-b662-d564151606f6"
      },
      "outputs": [
        {
          "data": {
            "text/html": [
              "<div>\n",
              "<style scoped>\n",
              "    .dataframe tbody tr th:only-of-type {\n",
              "        vertical-align: middle;\n",
              "    }\n",
              "\n",
              "    .dataframe tbody tr th {\n",
              "        vertical-align: top;\n",
              "    }\n",
              "\n",
              "    .dataframe thead th {\n",
              "        text-align: right;\n",
              "    }\n",
              "</style>\n",
              "<table border=\"1\" class=\"dataframe\">\n",
              "  <thead>\n",
              "    <tr style=\"text-align: right;\">\n",
              "      <th></th>\n",
              "      <th>R</th>\n",
              "      <th>r</th>\n",
              "    </tr>\n",
              "    <tr>\n",
              "      <th>Date</th>\n",
              "      <th></th>\n",
              "      <th></th>\n",
              "    </tr>\n",
              "  </thead>\n",
              "  <tbody>\n",
              "    <tr>\n",
              "      <th>2018-01-01</th>\n",
              "      <td>-0.277987</td>\n",
              "      <td>-0.325713</td>\n",
              "    </tr>\n",
              "    <tr>\n",
              "      <th>2018-03-01</th>\n",
              "      <td>-0.329333</td>\n",
              "      <td>-0.399482</td>\n",
              "    </tr>\n",
              "    <tr>\n",
              "      <th>2018-05-01</th>\n",
              "      <td>-0.188991</td>\n",
              "      <td>-0.209476</td>\n",
              "    </tr>\n",
              "    <tr>\n",
              "      <th>2018-11-01</th>\n",
              "      <td>-0.364116</td>\n",
              "      <td>-0.452739</td>\n",
              "    </tr>\n",
              "    <tr>\n",
              "      <th>2019-11-01</th>\n",
              "      <td>-0.177177</td>\n",
              "      <td>-0.195014</td>\n",
              "    </tr>\n",
              "    <tr>\n",
              "      <th>2020-03-01</th>\n",
              "      <td>-0.251278</td>\n",
              "      <td>-0.289387</td>\n",
              "    </tr>\n",
              "    <tr>\n",
              "      <th>2021-05-01</th>\n",
              "      <td>-0.353546</td>\n",
              "      <td>-0.436253</td>\n",
              "    </tr>\n",
              "    <tr>\n",
              "      <th>2021-12-01</th>\n",
              "      <td>-0.187684</td>\n",
              "      <td>-0.207865</td>\n",
              "    </tr>\n",
              "    <tr>\n",
              "      <th>2022-01-01</th>\n",
              "      <td>-0.168947</td>\n",
              "      <td>-0.185061</td>\n",
              "    </tr>\n",
              "    <tr>\n",
              "      <th>2022-04-01</th>\n",
              "      <td>-0.171806</td>\n",
              "      <td>-0.188507</td>\n",
              "    </tr>\n",
              "    <tr>\n",
              "      <th>2022-05-01</th>\n",
              "      <td>-0.157035</td>\n",
              "      <td>-0.170830</td>\n",
              "    </tr>\n",
              "    <tr>\n",
              "      <th>2022-06-01</th>\n",
              "      <td>-0.377688</td>\n",
              "      <td>-0.474314</td>\n",
              "    </tr>\n",
              "    <tr>\n",
              "      <th>2022-11-01</th>\n",
              "      <td>-0.162336</td>\n",
              "      <td>-0.177139</td>\n",
              "    </tr>\n",
              "  </tbody>\n",
              "</table>\n",
              "</div>"
            ],
            "text/plain": [
              "                   R         r\n",
              "Date                          \n",
              "2018-01-01 -0.277987 -0.325713\n",
              "2018-03-01 -0.329333 -0.399482\n",
              "2018-05-01 -0.188991 -0.209476\n",
              "2018-11-01 -0.364116 -0.452739\n",
              "2019-11-01 -0.177177 -0.195014\n",
              "2020-03-01 -0.251278 -0.289387\n",
              "2021-05-01 -0.353546 -0.436253\n",
              "2021-12-01 -0.187684 -0.207865\n",
              "2022-01-01 -0.168947 -0.185061\n",
              "2022-04-01 -0.171806 -0.188507\n",
              "2022-05-01 -0.157035 -0.170830\n",
              "2022-06-01 -0.377688 -0.474314\n",
              "2022-11-01 -0.162336 -0.177139"
            ]
          },
          "execution_count": 15,
          "metadata": {},
          "output_type": "execute_result"
        }
      ],
      "source": [
        "BTCR[BTCR[\"R\"]<-0.15]"
      ]
    },
    {
      "cell_type": "code",
      "execution_count": 16,
      "metadata": {
        "colab": {
          "base_uri": "https://localhost:8080/",
          "height": 896
        },
        "id": "S5kzhU87mkI0",
        "outputId": "8a8cfb49-bf69-4667-f792-b2dceb9d2702"
      },
      "outputs": [
        {
          "data": {
            "text/html": [
              "<div>\n",
              "<style scoped>\n",
              "    .dataframe tbody tr th:only-of-type {\n",
              "        vertical-align: middle;\n",
              "    }\n",
              "\n",
              "    .dataframe tbody tr th {\n",
              "        vertical-align: top;\n",
              "    }\n",
              "\n",
              "    .dataframe thead th {\n",
              "        text-align: right;\n",
              "    }\n",
              "</style>\n",
              "<table border=\"1\" class=\"dataframe\">\n",
              "  <thead>\n",
              "    <tr style=\"text-align: right;\">\n",
              "      <th></th>\n",
              "      <th>R</th>\n",
              "      <th>r</th>\n",
              "    </tr>\n",
              "    <tr>\n",
              "      <th>Date</th>\n",
              "      <th></th>\n",
              "      <th></th>\n",
              "    </tr>\n",
              "  </thead>\n",
              "  <tbody>\n",
              "    <tr>\n",
              "      <th>2017-05-01</th>\n",
              "      <td>0.696288</td>\n",
              "      <td>0.528442</td>\n",
              "    </tr>\n",
              "    <tr>\n",
              "      <th>2017-08-01</th>\n",
              "      <td>0.635768</td>\n",
              "      <td>0.492113</td>\n",
              "    </tr>\n",
              "    <tr>\n",
              "      <th>2019-05-01</th>\n",
              "      <td>0.602493</td>\n",
              "      <td>0.471561</td>\n",
              "    </tr>\n",
              "    <tr>\n",
              "      <th>2017-11-01</th>\n",
              "      <td>0.582091</td>\n",
              "      <td>0.458748</td>\n",
              "    </tr>\n",
              "    <tr>\n",
              "      <th>2017-10-01</th>\n",
              "      <td>0.490858</td>\n",
              "      <td>0.399352</td>\n",
              "    </tr>\n",
              "    <tr>\n",
              "      <th>2020-12-01</th>\n",
              "      <td>0.477732</td>\n",
              "      <td>0.390508</td>\n",
              "    </tr>\n",
              "    <tr>\n",
              "      <th>2020-11-01</th>\n",
              "      <td>0.424123</td>\n",
              "      <td>0.353556</td>\n",
              "    </tr>\n",
              "    <tr>\n",
              "      <th>2021-10-01</th>\n",
              "      <td>0.400267</td>\n",
              "      <td>0.336663</td>\n",
              "    </tr>\n",
              "    <tr>\n",
              "      <th>2023-01-01</th>\n",
              "      <td>0.398356</td>\n",
              "      <td>0.335297</td>\n",
              "    </tr>\n",
              "    <tr>\n",
              "      <th>2017-12-01</th>\n",
              "      <td>0.383326</td>\n",
              "      <td>0.324490</td>\n",
              "    </tr>\n",
              "    <tr>\n",
              "      <th>2021-02-01</th>\n",
              "      <td>0.363088</td>\n",
              "      <td>0.309752</td>\n",
              "    </tr>\n",
              "    <tr>\n",
              "      <th>2020-04-01</th>\n",
              "      <td>0.344779</td>\n",
              "      <td>0.296230</td>\n",
              "    </tr>\n",
              "    <tr>\n",
              "      <th>2018-04-01</th>\n",
              "      <td>0.325089</td>\n",
              "      <td>0.281480</td>\n",
              "    </tr>\n",
              "    <tr>\n",
              "      <th>2021-03-01</th>\n",
              "      <td>0.305311</td>\n",
              "      <td>0.266441</td>\n",
              "    </tr>\n",
              "    <tr>\n",
              "      <th>2019-04-01</th>\n",
              "      <td>0.303337</td>\n",
              "      <td>0.264928</td>\n",
              "    </tr>\n",
              "    <tr>\n",
              "      <th>2020-01-01</th>\n",
              "      <td>0.299840</td>\n",
              "      <td>0.262241</td>\n",
              "    </tr>\n",
              "    <tr>\n",
              "      <th>2020-10-01</th>\n",
              "      <td>0.277853</td>\n",
              "      <td>0.245181</td>\n",
              "    </tr>\n",
              "    <tr>\n",
              "      <th>2019-06-01</th>\n",
              "      <td>0.261549</td>\n",
              "      <td>0.232340</td>\n",
              "    </tr>\n",
              "    <tr>\n",
              "      <th>2017-04-01</th>\n",
              "      <td>0.257606</td>\n",
              "      <td>0.229210</td>\n",
              "    </tr>\n",
              "    <tr>\n",
              "      <th>2020-07-01</th>\n",
              "      <td>0.239163</td>\n",
              "      <td>0.214436</td>\n",
              "    </tr>\n",
              "    <tr>\n",
              "      <th>2023-03-01</th>\n",
              "      <td>0.230313</td>\n",
              "      <td>0.207268</td>\n",
              "    </tr>\n",
              "    <tr>\n",
              "      <th>2017-02-01</th>\n",
              "      <td>0.215959</td>\n",
              "      <td>0.195533</td>\n",
              "    </tr>\n",
              "    <tr>\n",
              "      <th>2018-07-01</th>\n",
              "      <td>0.214934</td>\n",
              "      <td>0.194690</td>\n",
              "    </tr>\n",
              "    <tr>\n",
              "      <th>2021-07-01</th>\n",
              "      <td>0.187934</td>\n",
              "      <td>0.172216</td>\n",
              "    </tr>\n",
              "    <tr>\n",
              "      <th>2022-07-01</th>\n",
              "      <td>0.179541</td>\n",
              "      <td>0.165125</td>\n",
              "    </tr>\n",
              "    <tr>\n",
              "      <th>2017-07-01</th>\n",
              "      <td>0.159019</td>\n",
              "      <td>0.147574</td>\n",
              "    </tr>\n",
              "  </tbody>\n",
              "</table>\n",
              "</div>"
            ],
            "text/plain": [
              "                   R         r\n",
              "Date                          \n",
              "2017-05-01  0.696288  0.528442\n",
              "2017-08-01  0.635768  0.492113\n",
              "2019-05-01  0.602493  0.471561\n",
              "2017-11-01  0.582091  0.458748\n",
              "2017-10-01  0.490858  0.399352\n",
              "2020-12-01  0.477732  0.390508\n",
              "2020-11-01  0.424123  0.353556\n",
              "2021-10-01  0.400267  0.336663\n",
              "2023-01-01  0.398356  0.335297\n",
              "2017-12-01  0.383326  0.324490\n",
              "2021-02-01  0.363088  0.309752\n",
              "2020-04-01  0.344779  0.296230\n",
              "2018-04-01  0.325089  0.281480\n",
              "2021-03-01  0.305311  0.266441\n",
              "2019-04-01  0.303337  0.264928\n",
              "2020-01-01  0.299840  0.262241\n",
              "2020-10-01  0.277853  0.245181\n",
              "2019-06-01  0.261549  0.232340\n",
              "2017-04-01  0.257606  0.229210\n",
              "2020-07-01  0.239163  0.214436\n",
              "2023-03-01  0.230313  0.207268\n",
              "2017-02-01  0.215959  0.195533\n",
              "2018-07-01  0.214934  0.194690\n",
              "2021-07-01  0.187934  0.172216\n",
              "2022-07-01  0.179541  0.165125\n",
              "2017-07-01  0.159019  0.147574"
            ]
          },
          "execution_count": 16,
          "metadata": {},
          "output_type": "execute_result"
        }
      ],
      "source": [
        "BTCR[BTCR[\"R\"]>0.15].sort_values(by=['R'], ascending=False)"
      ]
    },
    {
      "cell_type": "code",
      "execution_count": 17,
      "metadata": {
        "colab": {
          "base_uri": "https://localhost:8080/"
        },
        "id": "z5hoef_UmkeW",
        "outputId": "c239004e-dad2-4d85-d881-3f91e5bcae3b"
      },
      "outputs": [
        {
          "name": "stdout",
          "output_type": "stream",
          "text": [
            "The monthly average cc return of Bitcoin is  0.043092353533993384\n",
            "The monthly variance of Bitcoin cc return is  0.05069174238382503\n",
            "The monthly standard deviation (volatility) of Bitcoin cc return is  0.22514826755679251\n",
            "The monthly median cc return of Bitcoin is  0.01714972738881393\n"
          ]
        }
      ],
      "source": [
        "print(\"The monthly average cc return of Bitcoin is \", BTCR[\"r\"].mean())\n",
        "print(\"The monthly variance of Bitcoin cc return is \", BTCR[\"r\"].var())\n",
        "print(\"The monthly standard deviation (volatility) of Bitcoin cc return is \", BTCR[\"r\"].std())\n",
        "print(\"The monthly median cc return of Bitcoin is \",BTCR[\"r\"].median())"
      ]
    },
    {
      "cell_type": "markdown",
      "metadata": {},
      "source": [
        "#### 3.2 Challenge Histogram"
      ]
    },
    {
      "cell_type": "code",
      "execution_count": 18,
      "metadata": {
        "colab": {
          "base_uri": "https://localhost:8080/"
        },
        "id": "l-M1XjQWmk9I",
        "outputId": "c3e9b0ba-525b-4ad9-8059-a44675125514"
      },
      "outputs": [
        {
          "name": "stdout",
          "output_type": "stream",
          "text": [
            "[*********************100%***********************]  1 of 1 completed\n"
          ]
        }
      ],
      "source": [
        "BTC=yf.download(tickers=\"BTC-USD\", start=\"2017-01-01\",interval=\"1d\")\n",
        "# I calculate simple and cc return columns:\n",
        "BTC[\"R\"] = (BTC[\"Adj Close\"] / BTC[\"Adj Close\"].shift(1)) - 1\n",
        "BTC[\"r\"] = np.log(BTC['Adj Close']).diff(1)\n",
        "# I keep a new object with only returns:\n",
        "BTCR = BTC[['R','r']].copy()"
      ]
    },
    {
      "cell_type": "code",
      "execution_count": 19,
      "metadata": {
        "colab": {
          "base_uri": "https://localhost:8080/",
          "height": 452
        },
        "id": "IfOwwJlimlJn",
        "outputId": "b106f197-4deb-4802-fad6-444d8a51f477"
      },
      "outputs": [
        {
          "data": {
            "image/png": "[encoded data removed]",
            "text/plain": [
              "<Figure size 640x480 with 1 Axes>"
            ]
          },
          "metadata": {},
          "output_type": "display_data"
        }
      ],
      "source": [
        "R_bitcoin = pd.DataFrame(BTCR[[\"R\"]])\n",
        "hist=R_bitcoin.plot.hist(bins=12,alpha=0.5,title=\"Histogram of daily Bitcoin Returns\")"
      ]
    },
    {
      "cell_type": "markdown",
      "metadata": {
        "id": "1DENirnzqx10"
      },
      "source": [
        "Interpret the histogram with your own words and in CAPITAL LETTERS\n",
        "\n",
        "*   GIVING A FAST GLIMPSE TO THE HISTOGRAM I CAN ALSO SEE THAT THERE IS A SLIGHT POSITIVE SKEWNESS WHICH COULD BE INTERPRETED THAT THERE MIGHT BE A TENDENCY FOR DAYS WITH SMALL GAINS.\n",
        "*   ONE CAN ALSO OBSERVE THAT THE HISTOGRAM SHOWS SOME INTRESTING OUTLIERS SUCH AS DATA IN THE -0.4 RETURN AND THE 0.2 RETURN. IN THIS CASE SHOWING THAT THERE WERE DAYS WITH A NEGATIVE RETURN (40 PERCENT) AND WITH VERY HIGH RETURN (AROUND 20 PERCENT)\n",
        "*   THE Y-AXIS REPRESENTS THE FREQUENCY OF OCCURRENCES FOR EACH RANGE OF RETURNS. A HIGHER BAR INDICATES THAT MORE INSTANCES FALL WITHIN THAT RANGE. WHICH MEANS THAT IN THIS HISTOGRAM THE HIGHEST INSTANCES LIE WITHIN, APPROXIMATELY, THE -0.18 AND THE 0.20 RANGE. "
      ]
    },
    {
      "cell_type": "code",
      "execution_count": 20,
      "metadata": {
        "colab": {
          "base_uri": "https://localhost:8080/",
          "height": 452
        },
        "id": "9uACOIIvmy4W",
        "outputId": "f3caa841-80a6-4bd9-dd52-63c5b75ea74d"
      },
      "outputs": [
        {
          "data": {
            "image/png": "[encoded data removed]",
            "text/plain": [
              "<Figure size 640x480 with 1 Axes>"
            ]
          },
          "metadata": {},
          "output_type": "display_data"
        }
      ],
      "source": [
        "from matplotlib import pyplot\n",
        "pyplot.clf()\n",
        "rmean = BTCR[\"r\"].mean()\n",
        "rsd = BTCR[\"r\"].std()\n",
        "N = BTCR[\"r\"].count()\n",
        "simr= np.random.normal(loc=rmean,scale=rsd, size=N)\n",
        "realr = BTCR[\"r\"].to_numpy()\n",
        "\n",
        "bins = 12\n",
        "\n",
        "pyplot.hist(simr,bins,alpha=0.5,label='simulated rets')\n",
        "pyplot.hist(realr,bins,alpha=0.5,label='real rets')\n",
        "pyplot.legend(loc='upper left')\n",
        "pyplot.title(label='Histogram of real and simulated cc returns of Bitcoin')\n",
        "\n",
        "pyplot.show()"
      ]
    },
    {
      "cell_type": "markdown",
      "metadata": {
        "id": "aJZn-HYjosSo"
      },
      "source": [
        "DO YOU SEE A DIFFERENCE BEWEEN THE REAL VS THE SIMULATED RETURNS? BRIEFLY EXPLAIN.\n",
        "\n",
        "*  IN TERMS OF FREQUENCY, THERE IS A HUGE DIFFERENCE, WITH REAL RETURNS HAVING A HIGHER FREQUENCY.\n",
        "*  THE RETURNS INVESTED IN BITCOIN ARE RISKY AND TEND TO HAVE MORE EXTREME VALUES (BOTH FOR LOSSES AND GAINS). WE CAN ALSO OBSERVE THAT THE BEHAVIOUR OF THE REAL RETURNS DOES NOT CONFORM TO A NORMAL DISTRIBUTION.\n",
        "*  THERE IS ALSO A FAT TAIL BEHAVIOUR IN THE REAL RETURNS OF BITCOIN. THE TAILS OF THE HISTOGRAM EXTEND FURTHER OUT FROM THE CENTRAL PART OF THE DISTRIBUTION, INDICATING THAT RARE AND EXTREME EVENTS OCCUR MORE FREQUENTLY THAN THEY WOULD IN A TYPICAL BELL-SHAPED CURVE. \n",
        "*  THIS MEANS THAT “ODD DAYS” OCCUR MORE OFTEN COMPARED TO THE SIMULATED RETURNS. THIS ALSO SIGNALS TO HAVING A HIGHER FREQUENCY OF EXTREME VALUES WHICH ONLY DEMONSTRATES THAT THE INVESTMENT IN BITCOINS IS TOO RISKY AND VOLATILE TO BE YOUR ONLY OPTION FOR INVESTMENTS"
      ]
    },
    {
      "cell_type": "code",
      "execution_count": null,
      "metadata": {
        "id": "dyC6YbN7mzUM"
      },
      "outputs": [],
      "source": []
    }
  ],
  "metadata": {
    "colab": {
      "provenance": []
    },
    "kernelspec": {
      "display_name": "Python 3",
      "name": "python3"
    },
    "language_info": {
      "codemirror_mode": {
        "name": "ipython",
        "version": 3
      },
      "file_extension": ".py",
      "mimetype": "text/x-python",
      "name": "python",
      "nbconvert_exporter": "python",
      "pygments_lexer": "ipython3",
      "version": "3.11.3"
    }
  },
  "nbformat": 4,
  "nbformat_minor": 0
}
