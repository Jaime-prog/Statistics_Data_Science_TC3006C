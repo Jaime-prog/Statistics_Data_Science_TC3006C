{
  "nbformat": 4,
  "nbformat_minor": 0,
  "metadata": {
    "colab": {
      "provenance": []
    },
    "kernelspec": {
      "name": "python3",
      "display_name": "Python 3"
    },
    "language_info": {
      "name": "python"
    }
  },
  "cells": [
    {
      "cell_type": "markdown",
      "source": [
        "_Workshop 5, Advanced AI - Statistics Module_\n",
        "\n",
        "**Name: Jaime Lopez Hernandez**\n",
        "\n",
        "_Date: 24/08/2023_\n"
      ],
      "metadata": {
        "id": "BDAXg3u1lr2d"
      }
    },
    {
      "cell_type": "markdown",
      "source": [
        "# 4. Interpreting coefficients with an example"
      ],
      "metadata": {
        "id": "SDF0juNd9slx"
      }
    },
    {
      "cell_type": "code",
      "execution_count": 11,
      "metadata": {
        "id": "bqh9BlJSlkak",
        "colab": {
          "base_uri": "https://localhost:8080/"
        },
        "outputId": "3b94e9ec-b55e-4bfa-cefd-a2b429321fe3"
      },
      "outputs": [
        {
          "output_type": "stream",
          "name": "stdout",
          "text": [
            "[*********************100%%**********************]  2 of 2 completed\n"
          ]
        }
      ],
      "source": [
        "import pandas_datareader as pdr\n",
        "import pandas as pd\n",
        "import numpy as np\n",
        "import matplotlib\n",
        "import matplotlib.pyplot as plt\n",
        "import yfinance as yf\n",
        "\n",
        "\n",
        "tickers=['ALFAA.MX','^MXX']\n",
        "\n",
        "# Getting price data and selecting adjusted price columns:\n",
        "sprices=yf.download(tickers=tickers, start=\"2018-01-01\",end =\"2022-07-31\",interval=\"1mo\")\n",
        "sprices = sprices['Adj Close']\n",
        "\n",
        "# Calculating returns:\n",
        "sr = np.log(sprices) - np.log(sprices.shift(1))\n",
        "# Deleting the first month with NAs:\n",
        "sr=sr.dropna()\n",
        "sr.columns=['ALFAA','MXX']\n"
      ]
    },
    {
      "cell_type": "code",
      "source": [
        "# Scatter plots can be misleading when ranges of X and Y are very different.\n",
        "# In this case, Alfa had a very bad month in the COVID crisis with more than 60% loss!!\n",
        "# Then, we can re-do the scatter plot trying to make the X and Y axis using the same range of values\n",
        "plt.clf()\n",
        "x=sr['MXX']\n",
        "y = sr['ALFAA']\n",
        "plt.scatter(x, y)\n",
        "# Now I add the regression line:\n",
        "b1,b0 = np.polyfit(x,y,1)\n",
        "yfit = b0+b1*x\n",
        "\n",
        "plt.plot(x, yfit,c=\"orange\")\n",
        "\n",
        "plt.xticks(np.arange(-0.50,0.5,0.1))\n",
        "plt.xlabel(\"Market returns\")\n",
        "plt.ylabel(\"Alfa returns\")\n",
        "\n",
        "plt.show()"
      ],
      "metadata": {
        "colab": {
          "base_uri": "https://localhost:8080/",
          "height": 449
        },
        "id": "o5evW26X900D",
        "outputId": "862c5b35-b891-456d-a660-83cae4567f9d"
      },
      "execution_count": 12,
      "outputs": [
        {
          "output_type": "display_data",
          "data": {
            "text/plain": [
              "<Figure size 640x480 with 1 Axes>"
            ],
            "image/png": "[encoded data removed]"
          },
          "metadata": {}
        }
      ]
    },
    {
      "cell_type": "code",
      "source": [
        "# Another faster way to plot a scatter and the regression line:\n",
        "# I use the seaborn library:\n",
        "import seaborn as sns\n",
        "plt.clf()\n",
        "\n",
        "sns.regplot(x=x, y=y)\n",
        "plt.xticks(np.arange(-0.50,0.5,0.1))\n",
        "plt.xlabel(\"Market returns\")\n",
        "plt.ylabel(\"Alfa returns\")\n",
        "\n",
        "plt.show()"
      ],
      "metadata": {
        "colab": {
          "base_uri": "https://localhost:8080/",
          "height": 407
        },
        "id": "Njl18uHh93at",
        "outputId": "94c92971-9f35-4cc4-afdc-2d8ce6cefccd"
      },
      "execution_count": 19,
      "outputs": [
        {
          "output_type": "error",
          "ename": "ValueError",
          "evalue": "ignored",
          "traceback": [
            "\u001b[0;31m---------------------------------------------------------------------------\u001b[0m",
            "\u001b[0;31mValueError\u001b[0m                                Traceback (most recent call last)",
            "\u001b[0;32m<ipython-input-19-68eeeffdf121>\u001b[0m in \u001b[0;36m<cell line: 6>\u001b[0;34m()\u001b[0m\n\u001b[1;32m      4\u001b[0m \u001b[0mplt\u001b[0m\u001b[0;34m.\u001b[0m\u001b[0mclf\u001b[0m\u001b[0;34m(\u001b[0m\u001b[0;34m)\u001b[0m\u001b[0;34m\u001b[0m\u001b[0;34m\u001b[0m\u001b[0m\n\u001b[1;32m      5\u001b[0m \u001b[0;34m\u001b[0m\u001b[0m\n\u001b[0;32m----> 6\u001b[0;31m \u001b[0msns\u001b[0m\u001b[0;34m.\u001b[0m\u001b[0mregplot\u001b[0m\u001b[0;34m(\u001b[0m\u001b[0mx\u001b[0m\u001b[0;34m=\u001b[0m\u001b[0mx\u001b[0m\u001b[0;34m,\u001b[0m \u001b[0my\u001b[0m\u001b[0;34m=\u001b[0m\u001b[0my\u001b[0m\u001b[0;34m)\u001b[0m\u001b[0;34m\u001b[0m\u001b[0;34m\u001b[0m\u001b[0m\n\u001b[0m\u001b[1;32m      7\u001b[0m \u001b[0mplt\u001b[0m\u001b[0;34m.\u001b[0m\u001b[0mxticks\u001b[0m\u001b[0;34m(\u001b[0m\u001b[0mnp\u001b[0m\u001b[0;34m.\u001b[0m\u001b[0marange\u001b[0m\u001b[0;34m(\u001b[0m\u001b[0;34m-\u001b[0m\u001b[0;36m0.50\u001b[0m\u001b[0;34m,\u001b[0m\u001b[0;36m0.5\u001b[0m\u001b[0;34m,\u001b[0m\u001b[0;36m0.1\u001b[0m\u001b[0;34m)\u001b[0m\u001b[0;34m)\u001b[0m\u001b[0;34m\u001b[0m\u001b[0;34m\u001b[0m\u001b[0m\n\u001b[1;32m      8\u001b[0m \u001b[0mplt\u001b[0m\u001b[0;34m.\u001b[0m\u001b[0mxlabel\u001b[0m\u001b[0;34m(\u001b[0m\u001b[0;34m\"Market returns\"\u001b[0m\u001b[0;34m)\u001b[0m\u001b[0;34m\u001b[0m\u001b[0;34m\u001b[0m\u001b[0m\n",
            "\u001b[0;32m/usr/local/lib/python3.10/dist-packages/seaborn/regression.py\u001b[0m in \u001b[0;36mregplot\u001b[0;34m(data, x, y, x_estimator, x_bins, x_ci, scatter, fit_reg, ci, n_boot, units, seed, order, logistic, lowess, robust, logx, x_partial, y_partial, truncate, dropna, x_jitter, y_jitter, label, color, marker, scatter_kws, line_kws, ax)\u001b[0m\n\u001b[1;32m    745\u001b[0m ):\n\u001b[1;32m    746\u001b[0m \u001b[0;34m\u001b[0m\u001b[0m\n\u001b[0;32m--> 747\u001b[0;31m     plotter = _RegressionPlotter(x, y, data, x_estimator, x_bins, x_ci,\n\u001b[0m\u001b[1;32m    748\u001b[0m                                  \u001b[0mscatter\u001b[0m\u001b[0;34m,\u001b[0m \u001b[0mfit_reg\u001b[0m\u001b[0;34m,\u001b[0m \u001b[0mci\u001b[0m\u001b[0;34m,\u001b[0m \u001b[0mn_boot\u001b[0m\u001b[0;34m,\u001b[0m \u001b[0munits\u001b[0m\u001b[0;34m,\u001b[0m \u001b[0mseed\u001b[0m\u001b[0;34m,\u001b[0m\u001b[0;34m\u001b[0m\u001b[0;34m\u001b[0m\u001b[0m\n\u001b[1;32m    749\u001b[0m                                  \u001b[0morder\u001b[0m\u001b[0;34m,\u001b[0m \u001b[0mlogistic\u001b[0m\u001b[0;34m,\u001b[0m \u001b[0mlowess\u001b[0m\u001b[0;34m,\u001b[0m \u001b[0mrobust\u001b[0m\u001b[0;34m,\u001b[0m \u001b[0mlogx\u001b[0m\u001b[0;34m,\u001b[0m\u001b[0;34m\u001b[0m\u001b[0;34m\u001b[0m\u001b[0m\n",
            "\u001b[0;32m/usr/local/lib/python3.10/dist-packages/seaborn/regression.py\u001b[0m in \u001b[0;36m__init__\u001b[0;34m(self, x, y, data, x_estimator, x_bins, x_ci, scatter, fit_reg, ci, n_boot, units, seed, order, logistic, lowess, robust, logx, x_partial, y_partial, truncate, dropna, x_jitter, y_jitter, color, label)\u001b[0m\n\u001b[1;32m    105\u001b[0m \u001b[0;34m\u001b[0m\u001b[0m\n\u001b[1;32m    106\u001b[0m         \u001b[0;31m# Extract the data vals from the arguments or passed dataframe\u001b[0m\u001b[0;34m\u001b[0m\u001b[0;34m\u001b[0m\u001b[0m\n\u001b[0;32m--> 107\u001b[0;31m         self.establish_variables(data, x=x, y=y, units=units,\n\u001b[0m\u001b[1;32m    108\u001b[0m                                  x_partial=x_partial, y_partial=y_partial)\n\u001b[1;32m    109\u001b[0m \u001b[0;34m\u001b[0m\u001b[0m\n",
            "\u001b[0;32m/usr/local/lib/python3.10/dist-packages/seaborn/regression.py\u001b[0m in \u001b[0;36mestablish_variables\u001b[0;34m(self, data, **kws)\u001b[0m\n\u001b[1;32m     51\u001b[0m             \u001b[0;32mif\u001b[0m \u001b[0mnp\u001b[0m\u001b[0;34m.\u001b[0m\u001b[0mndim\u001b[0m\u001b[0;34m(\u001b[0m\u001b[0mvector\u001b[0m\u001b[0;34m)\u001b[0m \u001b[0;34m>\u001b[0m \u001b[0;36m1\u001b[0m\u001b[0;34m:\u001b[0m\u001b[0;34m\u001b[0m\u001b[0;34m\u001b[0m\u001b[0m\n\u001b[1;32m     52\u001b[0m                 \u001b[0merr\u001b[0m \u001b[0;34m=\u001b[0m \u001b[0;34m\"regplot inputs must be 1d\"\u001b[0m\u001b[0;34m\u001b[0m\u001b[0;34m\u001b[0m\u001b[0m\n\u001b[0;32m---> 53\u001b[0;31m                 \u001b[0;32mraise\u001b[0m \u001b[0mValueError\u001b[0m\u001b[0;34m(\u001b[0m\u001b[0merr\u001b[0m\u001b[0;34m)\u001b[0m\u001b[0;34m\u001b[0m\u001b[0;34m\u001b[0m\u001b[0m\n\u001b[0m\u001b[1;32m     54\u001b[0m             \u001b[0msetattr\u001b[0m\u001b[0;34m(\u001b[0m\u001b[0mself\u001b[0m\u001b[0;34m,\u001b[0m \u001b[0mvar\u001b[0m\u001b[0;34m,\u001b[0m \u001b[0mvector\u001b[0m\u001b[0;34m)\u001b[0m\u001b[0;34m\u001b[0m\u001b[0;34m\u001b[0m\u001b[0m\n\u001b[1;32m     55\u001b[0m \u001b[0;34m\u001b[0m\u001b[0m\n",
            "\u001b[0;31mValueError\u001b[0m: regplot inputs must be 1d"
          ]
        },
        {
          "output_type": "display_data",
          "data": {
            "text/plain": [
              "<Figure size 640x480 with 0 Axes>"
            ]
          },
          "metadata": {}
        }
      ]
    },
    {
      "cell_type": "markdown",
      "source": [
        "WHAT DOES THE PLOT TELL YOU? BRIEFLY EXPLAIN\n",
        "\n"
      ],
      "metadata": {
        "id": "w8rs2RvC991H"
      }
    },
    {
      "cell_type": "markdown",
      "source": [
        "# 4.2 Running the regression with the OLS method\n"
      ],
      "metadata": {
        "id": "p-FFqDXM-BVp"
      }
    },
    {
      "cell_type": "code",
      "source": [
        "import statsmodels.api as sm\n",
        "X = sm.add_constant(x)\n",
        "\n",
        "mkmodel = sm.OLS(y,X).fit()\n",
        "\n",
        "print(mkmodel.summary())"
      ],
      "metadata": {
        "colab": {
          "base_uri": "https://localhost:8080/"
        },
        "id": "FWhPhylD984O",
        "outputId": "a2b2ae84-84ed-4939-8db1-c04c61ed3812"
      },
      "execution_count": 14,
      "outputs": [
        {
          "output_type": "stream",
          "name": "stdout",
          "text": [
            "                            OLS Regression Results                            \n",
            "==============================================================================\n",
            "Dep. Variable:                  ALFAA   R-squared:                       0.351\n",
            "Model:                            OLS   Adj. R-squared:                  0.339\n",
            "Method:                 Least Squares   F-statistic:                     28.13\n",
            "Date:                Wed, 30 Aug 2023   Prob (F-statistic):           2.36e-06\n",
            "Time:                        15:13:51   Log-Likelihood:                 42.633\n",
            "No. Observations:                  54   AIC:                            -81.27\n",
            "Df Residuals:                      52   BIC:                            -77.29\n",
            "Df Model:                           1                                         \n",
            "Covariance Type:            nonrobust                                         \n",
            "==============================================================================\n",
            "                 coef    std err          t      P>|t|      [0.025      0.975]\n",
            "------------------------------------------------------------------------------\n",
            "const         -0.0080      0.015     -0.522      0.604      -0.039       0.023\n",
            "MXX            1.5387      0.290      5.304      0.000       0.957       2.121\n",
            "==============================================================================\n",
            "Omnibus:                        9.069   Durbin-Watson:                   2.203\n",
            "Prob(Omnibus):                  0.011   Jarque-Bera (JB):               20.490\n",
            "Skew:                          -0.134   Prob(JB):                     3.55e-05\n",
            "Kurtosis:                       6.006   Cond. No.                         19.0\n",
            "==============================================================================\n",
            "\n",
            "Notes:\n",
            "[1] Standard Errors assume that the covariance matrix of the errors is correctly specified.\n"
          ]
        }
      ]
    },
    {
      "cell_type": "code",
      "source": [
        "# Another way to run the same model using the ols function (instead of the OLS function):\n",
        "import statsmodels.formula.api as smf\n",
        "\n",
        "mkmodel2 = smf.ols('ALFAA ~ MXX',data=sr).fit()\n",
        "\n",
        "print(mkmodel2.summary())"
      ],
      "metadata": {
        "colab": {
          "base_uri": "https://localhost:8080/"
        },
        "id": "QyiGe9W999M5",
        "outputId": "9d7418b0-cc2e-4a62-c7bd-188916f6ddea"
      },
      "execution_count": 15,
      "outputs": [
        {
          "output_type": "stream",
          "name": "stdout",
          "text": [
            "                            OLS Regression Results                            \n",
            "==============================================================================\n",
            "Dep. Variable:                  ALFAA   R-squared:                       0.351\n",
            "Model:                            OLS   Adj. R-squared:                  0.339\n",
            "Method:                 Least Squares   F-statistic:                     28.13\n",
            "Date:                Wed, 30 Aug 2023   Prob (F-statistic):           2.36e-06\n",
            "Time:                        15:13:54   Log-Likelihood:                 42.633\n",
            "No. Observations:                  54   AIC:                            -81.27\n",
            "Df Residuals:                      52   BIC:                            -77.29\n",
            "Df Model:                           1                                         \n",
            "Covariance Type:            nonrobust                                         \n",
            "==============================================================================\n",
            "                 coef    std err          t      P>|t|      [0.025      0.975]\n",
            "------------------------------------------------------------------------------\n",
            "Intercept     -0.0080      0.015     -0.522      0.604      -0.039       0.023\n",
            "MXX            1.5387      0.290      5.304      0.000       0.957       2.121\n",
            "==============================================================================\n",
            "Omnibus:                        9.069   Durbin-Watson:                   2.203\n",
            "Prob(Omnibus):                  0.011   Jarque-Bera (JB):               20.490\n",
            "Skew:                          -0.134   Prob(JB):                     3.55e-05\n",
            "Kurtosis:                       6.006   Cond. No.                         19.0\n",
            "==============================================================================\n",
            "\n",
            "Notes:\n",
            "[1] Standard Errors assume that the covariance matrix of the errors is correctly specified.\n"
          ]
        }
      ]
    },
    {
      "cell_type": "code",
      "source": [
        "# Using matrix algebra to estimate the beta coefficients:\n",
        "sr['constant'] = 1\n",
        "selcols = ['constant','MXX']\n",
        "x = sr[selcols].values\n",
        "y = sr['ALFAA'].values\n",
        "\n",
        "xtx = np.matmul(x.transpose(),x)\n",
        "xty = np.matmul(x.transpose(),y)\n",
        "invtxt = np.linalg.inv(xtx)\n",
        "\n",
        "betas = np.matmul(invtxt,xty)\n",
        "betas"
      ],
      "metadata": {
        "colab": {
          "base_uri": "https://localhost:8080/"
        },
        "id": "bE7WLjIr-LKY",
        "outputId": "f64939e2-cdd3-4482-a4b6-7c39f4a242ac"
      },
      "execution_count": 16,
      "outputs": [
        {
          "output_type": "execute_result",
          "data": {
            "text/plain": [
              "array([-0.00795217,  1.53870396])"
            ]
          },
          "metadata": {},
          "execution_count": 16
        }
      ]
    }
  ]
}